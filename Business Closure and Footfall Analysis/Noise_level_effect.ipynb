{
 "cells": [
  {
   "cell_type": "code",
   "execution_count": 1,
   "metadata": {},
   "outputs": [],
   "source": [
    "import pandas as pd\n",
    "import numpy as np\n",
    "import matplotlib.pyplot as plt\n",
    "import seaborn as sns"
   ]
  },
  {
   "cell_type": "markdown",
   "metadata": {},
   "source": [
    "\n",
    "- Does the level of noise affect a user’s rating?"
   ]
  },
  {
   "cell_type": "code",
   "execution_count": 2,
   "metadata": {},
   "outputs": [
    {
     "name": "stderr",
     "output_type": "stream",
     "text": [
      "/var/folders/fr/191hgtd5661_x52pstt85l580000gn/T/ipykernel_69812/3785873816.py:1: DtypeWarning: Columns (1,29) have mixed types. Specify dtype option on import or set low_memory=False.\n",
      "  bus_data = pd.read_csv(\"data/yelp_academic_dataset_business.csv\")\n"
     ]
    }
   ],
   "source": [
    "bus_data = pd.read_csv(\"data/yelp_academic_dataset_business.csv\")\n",
    "#user_data = pd.read_csv(\"data/\")"
   ]
  },
  {
   "cell_type": "code",
   "execution_count": 3,
   "metadata": {},
   "outputs": [
    {
     "data": {
      "text/html": [
       "<div>\n",
       "<style scoped>\n",
       "    .dataframe tbody tr th:only-of-type {\n",
       "        vertical-align: middle;\n",
       "    }\n",
       "\n",
       "    .dataframe tbody tr th {\n",
       "        vertical-align: top;\n",
       "    }\n",
       "\n",
       "    .dataframe thead th {\n",
       "        text-align: right;\n",
       "    }\n",
       "</style>\n",
       "<table border=\"1\" class=\"dataframe\">\n",
       "  <thead>\n",
       "    <tr style=\"text-align: right;\">\n",
       "      <th></th>\n",
       "      <th>attributes.WiFi</th>\n",
       "      <th>attributes.Open24Hours</th>\n",
       "      <th>hours.Saturday</th>\n",
       "      <th>attributes.GoodForKids</th>\n",
       "      <th>attributes.NoiseLevel</th>\n",
       "      <th>attributes.GoodForDancing</th>\n",
       "      <th>name</th>\n",
       "      <th>city</th>\n",
       "      <th>attributes.RestaurantsTableService</th>\n",
       "      <th>attributes.HappyHour</th>\n",
       "      <th>...</th>\n",
       "      <th>attributes.Alcohol</th>\n",
       "      <th>attributes.DogsAllowed</th>\n",
       "      <th>attributes</th>\n",
       "      <th>latitude</th>\n",
       "      <th>attributes.RestaurantsPriceRange2</th>\n",
       "      <th>attributes.ByAppointmentOnly</th>\n",
       "      <th>attributes.Caters</th>\n",
       "      <th>stars</th>\n",
       "      <th>longitude</th>\n",
       "      <th>attributes.HasTV</th>\n",
       "    </tr>\n",
       "  </thead>\n",
       "  <tbody>\n",
       "    <tr>\n",
       "      <th>0</th>\n",
       "      <td>NaN</td>\n",
       "      <td>NaN</td>\n",
       "      <td>NaN</td>\n",
       "      <td>NaN</td>\n",
       "      <td>NaN</td>\n",
       "      <td>NaN</td>\n",
       "      <td>Abby Rappoport, LAC, CMQ</td>\n",
       "      <td>Santa Barbara</td>\n",
       "      <td>NaN</td>\n",
       "      <td>NaN</td>\n",
       "      <td>...</td>\n",
       "      <td>NaN</td>\n",
       "      <td>NaN</td>\n",
       "      <td>{'ByAppointmentOnly': 'True'}</td>\n",
       "      <td>34.426679</td>\n",
       "      <td>NaN</td>\n",
       "      <td>True</td>\n",
       "      <td>NaN</td>\n",
       "      <td>5.0</td>\n",
       "      <td>-119.711197</td>\n",
       "      <td>NaN</td>\n",
       "    </tr>\n",
       "    <tr>\n",
       "      <th>1</th>\n",
       "      <td>NaN</td>\n",
       "      <td>NaN</td>\n",
       "      <td>8:0-14:0</td>\n",
       "      <td>NaN</td>\n",
       "      <td>NaN</td>\n",
       "      <td>NaN</td>\n",
       "      <td>The UPS Store</td>\n",
       "      <td>Affton</td>\n",
       "      <td>NaN</td>\n",
       "      <td>NaN</td>\n",
       "      <td>...</td>\n",
       "      <td>NaN</td>\n",
       "      <td>NaN</td>\n",
       "      <td>{'BusinessAcceptsCreditCards': 'True'}</td>\n",
       "      <td>38.551126</td>\n",
       "      <td>NaN</td>\n",
       "      <td>NaN</td>\n",
       "      <td>NaN</td>\n",
       "      <td>3.0</td>\n",
       "      <td>-90.335695</td>\n",
       "      <td>NaN</td>\n",
       "    </tr>\n",
       "    <tr>\n",
       "      <th>2</th>\n",
       "      <td>u'no'</td>\n",
       "      <td>NaN</td>\n",
       "      <td>8:0-23:0</td>\n",
       "      <td>NaN</td>\n",
       "      <td>NaN</td>\n",
       "      <td>NaN</td>\n",
       "      <td>Target</td>\n",
       "      <td>Tucson</td>\n",
       "      <td>NaN</td>\n",
       "      <td>False</td>\n",
       "      <td>...</td>\n",
       "      <td>NaN</td>\n",
       "      <td>False</td>\n",
       "      <td>{'BikeParking': 'True', 'BusinessAcceptsCredit...</td>\n",
       "      <td>32.223236</td>\n",
       "      <td>2</td>\n",
       "      <td>False</td>\n",
       "      <td>False</td>\n",
       "      <td>3.5</td>\n",
       "      <td>-110.880452</td>\n",
       "      <td>False</td>\n",
       "    </tr>\n",
       "    <tr>\n",
       "      <th>3</th>\n",
       "      <td>u'free'</td>\n",
       "      <td>NaN</td>\n",
       "      <td>7:0-21:0</td>\n",
       "      <td>NaN</td>\n",
       "      <td>NaN</td>\n",
       "      <td>NaN</td>\n",
       "      <td>St Honore Pastries</td>\n",
       "      <td>Philadelphia</td>\n",
       "      <td>NaN</td>\n",
       "      <td>NaN</td>\n",
       "      <td>...</td>\n",
       "      <td>u'none'</td>\n",
       "      <td>NaN</td>\n",
       "      <td>{'RestaurantsDelivery': 'False', 'OutdoorSeati...</td>\n",
       "      <td>39.955505</td>\n",
       "      <td>1</td>\n",
       "      <td>False</td>\n",
       "      <td>True</td>\n",
       "      <td>4.0</td>\n",
       "      <td>-75.155564</td>\n",
       "      <td>NaN</td>\n",
       "    </tr>\n",
       "    <tr>\n",
       "      <th>4</th>\n",
       "      <td>NaN</td>\n",
       "      <td>NaN</td>\n",
       "      <td>12:0-22:0</td>\n",
       "      <td>True</td>\n",
       "      <td>NaN</td>\n",
       "      <td>NaN</td>\n",
       "      <td>Perkiomen Valley Brewery</td>\n",
       "      <td>Green Lane</td>\n",
       "      <td>NaN</td>\n",
       "      <td>NaN</td>\n",
       "      <td>...</td>\n",
       "      <td>NaN</td>\n",
       "      <td>NaN</td>\n",
       "      <td>{'BusinessAcceptsCreditCards': 'True', 'Wheelc...</td>\n",
       "      <td>40.338183</td>\n",
       "      <td>NaN</td>\n",
       "      <td>NaN</td>\n",
       "      <td>False</td>\n",
       "      <td>4.5</td>\n",
       "      <td>-75.471659</td>\n",
       "      <td>NaN</td>\n",
       "    </tr>\n",
       "    <tr>\n",
       "      <th>...</th>\n",
       "      <td>...</td>\n",
       "      <td>...</td>\n",
       "      <td>...</td>\n",
       "      <td>...</td>\n",
       "      <td>...</td>\n",
       "      <td>...</td>\n",
       "      <td>...</td>\n",
       "      <td>...</td>\n",
       "      <td>...</td>\n",
       "      <td>...</td>\n",
       "      <td>...</td>\n",
       "      <td>...</td>\n",
       "      <td>...</td>\n",
       "      <td>...</td>\n",
       "      <td>...</td>\n",
       "      <td>...</td>\n",
       "      <td>...</td>\n",
       "      <td>...</td>\n",
       "      <td>...</td>\n",
       "      <td>...</td>\n",
       "      <td>...</td>\n",
       "    </tr>\n",
       "    <tr>\n",
       "      <th>150341</th>\n",
       "      <td>NaN</td>\n",
       "      <td>NaN</td>\n",
       "      <td>10:0-17:30</td>\n",
       "      <td>NaN</td>\n",
       "      <td>NaN</td>\n",
       "      <td>NaN</td>\n",
       "      <td>Binh's Nails</td>\n",
       "      <td>Edmonton</td>\n",
       "      <td>NaN</td>\n",
       "      <td>NaN</td>\n",
       "      <td>...</td>\n",
       "      <td>NaN</td>\n",
       "      <td>NaN</td>\n",
       "      <td>{'ByAppointmentOnly': 'False', 'RestaurantsPri...</td>\n",
       "      <td>53.468419</td>\n",
       "      <td>3</td>\n",
       "      <td>False</td>\n",
       "      <td>NaN</td>\n",
       "      <td>3.0</td>\n",
       "      <td>-113.492054</td>\n",
       "      <td>NaN</td>\n",
       "    </tr>\n",
       "    <tr>\n",
       "      <th>150342</th>\n",
       "      <td>u'no'</td>\n",
       "      <td>NaN</td>\n",
       "      <td>9:0-17:0</td>\n",
       "      <td>NaN</td>\n",
       "      <td>NaN</td>\n",
       "      <td>NaN</td>\n",
       "      <td>Wild Birds Unlimited</td>\n",
       "      <td>Nashville</td>\n",
       "      <td>NaN</td>\n",
       "      <td>NaN</td>\n",
       "      <td>...</td>\n",
       "      <td>NaN</td>\n",
       "      <td>NaN</td>\n",
       "      <td>{'BusinessAcceptsCreditCards': 'True', 'Restau...</td>\n",
       "      <td>36.115118</td>\n",
       "      <td>2</td>\n",
       "      <td>NaN</td>\n",
       "      <td>NaN</td>\n",
       "      <td>4.0</td>\n",
       "      <td>-86.766925</td>\n",
       "      <td>NaN</td>\n",
       "    </tr>\n",
       "    <tr>\n",
       "      <th>150343</th>\n",
       "      <td>NaN</td>\n",
       "      <td>NaN</td>\n",
       "      <td>NaN</td>\n",
       "      <td>NaN</td>\n",
       "      <td>NaN</td>\n",
       "      <td>NaN</td>\n",
       "      <td>Claire's Boutique</td>\n",
       "      <td>Indianapolis</td>\n",
       "      <td>NaN</td>\n",
       "      <td>NaN</td>\n",
       "      <td>...</td>\n",
       "      <td>NaN</td>\n",
       "      <td>NaN</td>\n",
       "      <td>{'RestaurantsPriceRange2': '1', 'BusinessAccep...</td>\n",
       "      <td>39.908707</td>\n",
       "      <td>1</td>\n",
       "      <td>NaN</td>\n",
       "      <td>NaN</td>\n",
       "      <td>3.5</td>\n",
       "      <td>-86.065088</td>\n",
       "      <td>NaN</td>\n",
       "    </tr>\n",
       "    <tr>\n",
       "      <th>150344</th>\n",
       "      <td>NaN</td>\n",
       "      <td>NaN</td>\n",
       "      <td>9:0-17:0</td>\n",
       "      <td>NaN</td>\n",
       "      <td>NaN</td>\n",
       "      <td>NaN</td>\n",
       "      <td>Cyclery &amp; Fitness Center</td>\n",
       "      <td>Edwardsville</td>\n",
       "      <td>NaN</td>\n",
       "      <td>NaN</td>\n",
       "      <td>...</td>\n",
       "      <td>NaN</td>\n",
       "      <td>NaN</td>\n",
       "      <td>{'BusinessParking': \"{'garage': False, 'street...</td>\n",
       "      <td>38.782351</td>\n",
       "      <td>4</td>\n",
       "      <td>NaN</td>\n",
       "      <td>NaN</td>\n",
       "      <td>4.0</td>\n",
       "      <td>-89.950558</td>\n",
       "      <td>NaN</td>\n",
       "    </tr>\n",
       "    <tr>\n",
       "      <th>150345</th>\n",
       "      <td>u'free'</td>\n",
       "      <td>NaN</td>\n",
       "      <td>12:0-19:0</td>\n",
       "      <td>NaN</td>\n",
       "      <td>NaN</td>\n",
       "      <td>NaN</td>\n",
       "      <td>Sic Ink</td>\n",
       "      <td>Apollo beach</td>\n",
       "      <td>NaN</td>\n",
       "      <td>NaN</td>\n",
       "      <td>...</td>\n",
       "      <td>NaN</td>\n",
       "      <td>NaN</td>\n",
       "      <td>{'WheelchairAccessible': 'True', 'BusinessAcce...</td>\n",
       "      <td>27.771002</td>\n",
       "      <td>1</td>\n",
       "      <td>False</td>\n",
       "      <td>NaN</td>\n",
       "      <td>4.5</td>\n",
       "      <td>-82.394910</td>\n",
       "      <td>NaN</td>\n",
       "    </tr>\n",
       "  </tbody>\n",
       "</table>\n",
       "<p>150346 rows × 60 columns</p>\n",
       "</div>"
      ],
      "text/plain": [
       "       attributes.WiFi attributes.Open24Hours hours.Saturday  \\\n",
       "0                  NaN                    NaN            NaN   \n",
       "1                  NaN                    NaN       8:0-14:0   \n",
       "2                u'no'                    NaN       8:0-23:0   \n",
       "3              u'free'                    NaN       7:0-21:0   \n",
       "4                  NaN                    NaN      12:0-22:0   \n",
       "...                ...                    ...            ...   \n",
       "150341             NaN                    NaN     10:0-17:30   \n",
       "150342           u'no'                    NaN       9:0-17:0   \n",
       "150343             NaN                    NaN            NaN   \n",
       "150344             NaN                    NaN       9:0-17:0   \n",
       "150345         u'free'                    NaN      12:0-19:0   \n",
       "\n",
       "       attributes.GoodForKids attributes.NoiseLevel attributes.GoodForDancing  \\\n",
       "0                         NaN                   NaN                       NaN   \n",
       "1                         NaN                   NaN                       NaN   \n",
       "2                         NaN                   NaN                       NaN   \n",
       "3                         NaN                   NaN                       NaN   \n",
       "4                        True                   NaN                       NaN   \n",
       "...                       ...                   ...                       ...   \n",
       "150341                    NaN                   NaN                       NaN   \n",
       "150342                    NaN                   NaN                       NaN   \n",
       "150343                    NaN                   NaN                       NaN   \n",
       "150344                    NaN                   NaN                       NaN   \n",
       "150345                    NaN                   NaN                       NaN   \n",
       "\n",
       "                            name           city  \\\n",
       "0       Abby Rappoport, LAC, CMQ  Santa Barbara   \n",
       "1                  The UPS Store         Affton   \n",
       "2                         Target         Tucson   \n",
       "3             St Honore Pastries   Philadelphia   \n",
       "4       Perkiomen Valley Brewery     Green Lane   \n",
       "...                          ...            ...   \n",
       "150341              Binh's Nails       Edmonton   \n",
       "150342      Wild Birds Unlimited      Nashville   \n",
       "150343         Claire's Boutique   Indianapolis   \n",
       "150344  Cyclery & Fitness Center   Edwardsville   \n",
       "150345                   Sic Ink   Apollo beach   \n",
       "\n",
       "       attributes.RestaurantsTableService attributes.HappyHour  ...  \\\n",
       "0                                     NaN                  NaN  ...   \n",
       "1                                     NaN                  NaN  ...   \n",
       "2                                     NaN                False  ...   \n",
       "3                                     NaN                  NaN  ...   \n",
       "4                                     NaN                  NaN  ...   \n",
       "...                                   ...                  ...  ...   \n",
       "150341                                NaN                  NaN  ...   \n",
       "150342                                NaN                  NaN  ...   \n",
       "150343                                NaN                  NaN  ...   \n",
       "150344                                NaN                  NaN  ...   \n",
       "150345                                NaN                  NaN  ...   \n",
       "\n",
       "       attributes.Alcohol attributes.DogsAllowed  \\\n",
       "0                     NaN                    NaN   \n",
       "1                     NaN                    NaN   \n",
       "2                     NaN                  False   \n",
       "3                 u'none'                    NaN   \n",
       "4                     NaN                    NaN   \n",
       "...                   ...                    ...   \n",
       "150341                NaN                    NaN   \n",
       "150342                NaN                    NaN   \n",
       "150343                NaN                    NaN   \n",
       "150344                NaN                    NaN   \n",
       "150345                NaN                    NaN   \n",
       "\n",
       "                                               attributes   latitude  \\\n",
       "0                           {'ByAppointmentOnly': 'True'}  34.426679   \n",
       "1                  {'BusinessAcceptsCreditCards': 'True'}  38.551126   \n",
       "2       {'BikeParking': 'True', 'BusinessAcceptsCredit...  32.223236   \n",
       "3       {'RestaurantsDelivery': 'False', 'OutdoorSeati...  39.955505   \n",
       "4       {'BusinessAcceptsCreditCards': 'True', 'Wheelc...  40.338183   \n",
       "...                                                   ...        ...   \n",
       "150341  {'ByAppointmentOnly': 'False', 'RestaurantsPri...  53.468419   \n",
       "150342  {'BusinessAcceptsCreditCards': 'True', 'Restau...  36.115118   \n",
       "150343  {'RestaurantsPriceRange2': '1', 'BusinessAccep...  39.908707   \n",
       "150344  {'BusinessParking': \"{'garage': False, 'street...  38.782351   \n",
       "150345  {'WheelchairAccessible': 'True', 'BusinessAcce...  27.771002   \n",
       "\n",
       "       attributes.RestaurantsPriceRange2 attributes.ByAppointmentOnly  \\\n",
       "0                                    NaN                         True   \n",
       "1                                    NaN                          NaN   \n",
       "2                                      2                        False   \n",
       "3                                      1                        False   \n",
       "4                                    NaN                          NaN   \n",
       "...                                  ...                          ...   \n",
       "150341                                 3                        False   \n",
       "150342                                 2                          NaN   \n",
       "150343                                 1                          NaN   \n",
       "150344                                 4                          NaN   \n",
       "150345                                 1                        False   \n",
       "\n",
       "       attributes.Caters stars   longitude attributes.HasTV  \n",
       "0                    NaN   5.0 -119.711197              NaN  \n",
       "1                    NaN   3.0  -90.335695              NaN  \n",
       "2                  False   3.5 -110.880452            False  \n",
       "3                   True   4.0  -75.155564              NaN  \n",
       "4                  False   4.5  -75.471659              NaN  \n",
       "...                  ...   ...         ...              ...  \n",
       "150341               NaN   3.0 -113.492054              NaN  \n",
       "150342               NaN   4.0  -86.766925              NaN  \n",
       "150343               NaN   3.5  -86.065088              NaN  \n",
       "150344               NaN   4.0  -89.950558              NaN  \n",
       "150345               NaN   4.5  -82.394910              NaN  \n",
       "\n",
       "[150346 rows x 60 columns]"
      ]
     },
     "execution_count": 3,
     "metadata": {},
     "output_type": "execute_result"
    }
   ],
   "source": [
    "bus_data"
   ]
  },
  {
   "cell_type": "code",
   "execution_count": 4,
   "metadata": {
    "scrolled": true
   },
   "outputs": [
    {
     "data": {
      "text/plain": [
       "['attributes.WiFi',\n",
       " 'attributes.Open24Hours',\n",
       " 'hours.Saturday',\n",
       " 'attributes.GoodForKids',\n",
       " 'attributes.NoiseLevel',\n",
       " 'attributes.GoodForDancing',\n",
       " 'name',\n",
       " 'city',\n",
       " 'attributes.RestaurantsTableService',\n",
       " 'attributes.HappyHour',\n",
       " 'hours.Sunday',\n",
       " 'attributes.BestNights',\n",
       " 'attributes.RestaurantsGoodForGroups',\n",
       " 'hours.Wednesday',\n",
       " 'attributes.RestaurantsTakeOut',\n",
       " 'hours',\n",
       " 'hours.Monday',\n",
       " 'hours.Thursday',\n",
       " 'attributes.BusinessParking',\n",
       " 'attributes.RestaurantsAttire',\n",
       " 'business_id',\n",
       " 'postal_code',\n",
       " 'review_count',\n",
       " 'categories',\n",
       " 'attributes.AcceptsInsurance',\n",
       " 'attributes.Smoking',\n",
       " 'attributes.DietaryRestrictions',\n",
       " 'attributes.WheelchairAccessible',\n",
       " 'attributes.RestaurantsDelivery',\n",
       " 'attributes.RestaurantsCounterService',\n",
       " 'state',\n",
       " 'hours.Friday',\n",
       " 'attributes.Ambience',\n",
       " 'hours.Tuesday',\n",
       " 'attributes.AgesAllowed',\n",
       " 'attributes.BikeParking',\n",
       " 'attributes.BYOB',\n",
       " 'attributes.Music',\n",
       " 'address',\n",
       " 'attributes.OutdoorSeating',\n",
       " 'attributes.BusinessAcceptsCreditCards',\n",
       " 'attributes.CoatCheck',\n",
       " 'attributes.BusinessAcceptsBitcoin',\n",
       " 'attributes.DriveThru',\n",
       " 'attributes.Corkage',\n",
       " 'attributes.BYOBCorkage',\n",
       " 'is_open',\n",
       " 'attributes.RestaurantsReservations',\n",
       " 'attributes.HairSpecializesIn',\n",
       " 'attributes.GoodForMeal',\n",
       " 'attributes.Alcohol',\n",
       " 'attributes.DogsAllowed',\n",
       " 'attributes',\n",
       " 'latitude',\n",
       " 'attributes.RestaurantsPriceRange2',\n",
       " 'attributes.ByAppointmentOnly',\n",
       " 'attributes.Caters',\n",
       " 'stars',\n",
       " 'longitude',\n",
       " 'attributes.HasTV']"
      ]
     },
     "execution_count": 4,
     "metadata": {},
     "output_type": "execute_result"
    }
   ],
   "source": [
    "list(bus_data)"
   ]
  },
  {
   "cell_type": "code",
   "execution_count": 5,
   "metadata": {},
   "outputs": [
    {
     "data": {
      "text/plain": [
       "array([nan, \"u'average'\", \"u'quiet'\", \"'average'\", \"u'loud'\",\n",
       "       \"u'very_loud'\", \"'quiet'\", \"'very_loud'\", \"'loud'\", 'None'],\n",
       "      dtype=object)"
      ]
     },
     "execution_count": 5,
     "metadata": {},
     "output_type": "execute_result"
    }
   ],
   "source": [
    "bus_data['attributes.NoiseLevel'].unique()"
   ]
  },
  {
   "cell_type": "code",
   "execution_count": 6,
   "metadata": {},
   "outputs": [
    {
     "data": {
      "text/plain": [
       "150346"
      ]
     },
     "execution_count": 6,
     "metadata": {},
     "output_type": "execute_result"
    }
   ],
   "source": [
    "bus_data['business_id'].count() #all have unique business ids"
   ]
  },
  {
   "cell_type": "code",
   "execution_count": 7,
   "metadata": {},
   "outputs": [
    {
     "data": {
      "text/plain": [
       "37993"
      ]
     },
     "execution_count": 7,
     "metadata": {},
     "output_type": "execute_result"
    }
   ],
   "source": [
    "bus_data['attributes.NoiseLevel'].count()"
   ]
  },
  {
   "cell_type": "code",
   "execution_count": 8,
   "metadata": {
    "scrolled": true
   },
   "outputs": [
    {
     "data": {
      "text/plain": [
       "attributes.WiFi                          0\n",
       "attributes.Open24Hours                   0\n",
       "hours.Saturday                           0\n",
       "attributes.GoodForKids                   0\n",
       "attributes.NoiseLevel                    0\n",
       "attributes.GoodForDancing                0\n",
       "name                                     0\n",
       "city                                     0\n",
       "attributes.RestaurantsTableService       0\n",
       "attributes.HappyHour                     0\n",
       "hours.Sunday                             0\n",
       "attributes.BestNights                    0\n",
       "attributes.RestaurantsGoodForGroups      0\n",
       "hours.Wednesday                          0\n",
       "attributes.RestaurantsTakeOut            0\n",
       "hours                                    0\n",
       "hours.Monday                             0\n",
       "hours.Thursday                           0\n",
       "attributes.BusinessParking               0\n",
       "attributes.RestaurantsAttire             0\n",
       "business_id                              0\n",
       "postal_code                              0\n",
       "review_count                             0\n",
       "categories                               0\n",
       "attributes.AcceptsInsurance              0\n",
       "attributes.Smoking                       0\n",
       "attributes.DietaryRestrictions           0\n",
       "attributes.WheelchairAccessible          0\n",
       "attributes.RestaurantsDelivery           0\n",
       "attributes.RestaurantsCounterService     0\n",
       "state                                    0\n",
       "hours.Friday                             0\n",
       "attributes.Ambience                      0\n",
       "hours.Tuesday                            0\n",
       "attributes.AgesAllowed                   0\n",
       "attributes.BikeParking                   0\n",
       "attributes.BYOB                          0\n",
       "attributes.Music                         0\n",
       "address                                  0\n",
       "attributes.OutdoorSeating                0\n",
       "attributes.BusinessAcceptsCreditCards    0\n",
       "attributes.CoatCheck                     0\n",
       "attributes.BusinessAcceptsBitcoin        0\n",
       "attributes.DriveThru                     0\n",
       "attributes.Corkage                       0\n",
       "attributes.BYOBCorkage                   0\n",
       "is_open                                  0\n",
       "attributes.RestaurantsReservations       0\n",
       "attributes.HairSpecializesIn             0\n",
       "attributes.GoodForMeal                   0\n",
       "attributes.Alcohol                       0\n",
       "attributes.DogsAllowed                   0\n",
       "attributes                               0\n",
       "latitude                                 0\n",
       "attributes.RestaurantsPriceRange2        0\n",
       "attributes.ByAppointmentOnly             0\n",
       "attributes.Caters                        0\n",
       "stars                                    0\n",
       "longitude                                0\n",
       "attributes.HasTV                         0\n",
       "dtype: int64"
      ]
     },
     "execution_count": 8,
     "metadata": {},
     "output_type": "execute_result"
    }
   ],
   "source": [
    "bus_data[bus_data['attributes.NoiseLevel']=='average'].count()"
   ]
  },
  {
   "cell_type": "code",
   "execution_count": 9,
   "metadata": {},
   "outputs": [
    {
     "data": {
      "text/plain": [
       "0         Doctors, Traditional Chinese Medicine, Naturop...\n",
       "1         Shipping Centers, Local Services, Notaries, Ma...\n",
       "2         Department Stores, Shopping, Fashion, Home & G...\n",
       "3         Restaurants, Food, Bubble Tea, Coffee & Tea, B...\n",
       "4                                 Brewpubs, Breweries, Food\n",
       "                                ...                        \n",
       "150341                           Nail Salons, Beauty & Spas\n",
       "150342    Pets, Nurseries & Gardening, Pet Stores, Hobby...\n",
       "150343    Shopping, Jewelry, Piercing, Toy Stores, Beaut...\n",
       "150344    Fitness/Exercise Equipment, Eyewear & Optician...\n",
       "150345    Beauty & Spas, Permanent Makeup, Piercing, Tattoo\n",
       "Name: categories, Length: 150346, dtype: object"
      ]
     },
     "execution_count": 9,
     "metadata": {},
     "output_type": "execute_result"
    }
   ],
   "source": [
    "bus_data.categories"
   ]
  },
  {
   "cell_type": "code",
   "execution_count": 13,
   "metadata": {},
   "outputs": [
    {
     "data": {
      "text/plain": [
       "Float64Index([4.0, 4.5, 3.5, 3.0, 5.0, 2.5, 2.0, 1.5, 1.0], dtype='float64')"
      ]
     },
     "execution_count": 13,
     "metadata": {},
     "output_type": "execute_result"
    }
   ],
   "source": [
    "bar.index"
   ]
  },
  {
   "cell_type": "code",
   "execution_count": 14,
   "metadata": {},
   "outputs": [
    {
     "data": {
      "text/plain": [
       "array([31125, 27181, 26519, 18453, 16307, 14316,  9527,  4932,  1986])"
      ]
     },
     "execution_count": 14,
     "metadata": {},
     "output_type": "execute_result"
    }
   ],
   "source": [
    "bar.values"
   ]
  },
  {
   "cell_type": "code",
   "execution_count": null,
   "metadata": {},
   "outputs": [],
   "source": []
  },
  {
   "cell_type": "code",
   "execution_count": 48,
   "metadata": {},
   "outputs": [
    {
     "data": {
      "image/png": "[encoded data removed]",
      "text/plain": [
       "<Figure size 1200x400 with 1 Axes>"
      ]
     },
     "metadata": {},
     "output_type": "display_data"
    }
   ],
   "source": [
    "#Get the distribution of the ratings\n",
    "bar = dict(bus_data['stars'].value_counts())\n",
    "new_bar = dict()\n",
    "for i, j in bar.items():\n",
    "    new_bar[str(i)] = j\n",
    "\n",
    "new_bar = dict(sorted(new_bar.items()))\n",
    "#bar = bar.sort_index()\n",
    "#plot\n",
    "plt.figure(figsize=(12,4))\n",
    "# plt.bar(bar.index - 0.2, bar.values, 0.2, color='red')\n",
    "plt.bar(list(new_bar.keys()), list(new_bar.values()), 0.6, color='blue')\n",
    "plt.title(\"Star frequency plot\")\n",
    "plt.ylabel('No. of business reviewed')\n",
    "plt.xlabel('No, of stars given ')\n",
    "plt.show()\n"
   ]
  },
  {
   "cell_type": "code",
   "execution_count": 49,
   "metadata": {},
   "outputs": [
    {
     "data": {
      "text/plain": [
       "Index(['u'average'', 'u'quiet'', ''average'', 'u'loud'', ''quiet'',\n",
       "       'u'very_loud'', ''loud'', ''very_loud'', 'None'],\n",
       "      dtype='object')"
      ]
     },
     "execution_count": 49,
     "metadata": {},
     "output_type": "execute_result"
    }
   ],
   "source": [
    "noise_levels = bus_data['attributes.NoiseLevel'].value_counts().index\n",
    "noise_levels #type LIST"
   ]
  },
  {
   "cell_type": "code",
   "execution_count": 50,
   "metadata": {},
   "outputs": [],
   "source": [
    "noise_levels_count = bus_data['attributes.NoiseLevel'].value_counts().values"
   ]
  },
  {
   "cell_type": "code",
   "execution_count": 51,
   "metadata": {},
   "outputs": [
    {
     "data": {
      "text/plain": [
       "Index(['u'average'', 'u'quiet'', ''average'', 'u'loud'', ''quiet'',\n",
       "       'u'very_loud'', ''loud'', ''very_loud'', 'None'],\n",
       "      dtype='object')"
      ]
     },
     "execution_count": 51,
     "metadata": {},
     "output_type": "execute_result"
    }
   ],
   "source": [
    "bus_data['attributes.NoiseLevel'].value_counts().index"
   ]
  },
  {
   "cell_type": "code",
   "execution_count": 52,
   "metadata": {},
   "outputs": [
    {
     "data": {
      "image/png": "[encoded data removed]",
      "text/plain": [
       "<Figure size 640x480 with 1 Axes>"
      ]
     },
     "metadata": {},
     "output_type": "display_data"
    }
   ],
   "source": [
    "plt.bar(noise_levels, noise_levels_count)\n",
    "plt.title(\"Noise Distribution levels\")\n",
    "plt.ylabel('Count of businesses')\n",
    "plt.xlabel('Noise level')\n",
    "plt.show()"
   ]
  },
  {
   "cell_type": "code",
   "execution_count": 53,
   "metadata": {},
   "outputs": [],
   "source": [
    "#read user file\n",
    "review_data = pd.read_csv(\"data/yelp_academic_dataset_review.csv\")"
   ]
  },
  {
   "cell_type": "code",
   "execution_count": 54,
   "metadata": {},
   "outputs": [
    {
     "data": {
      "text/html": [
       "<div>\n",
       "<style scoped>\n",
       "    .dataframe tbody tr th:only-of-type {\n",
       "        vertical-align: middle;\n",
       "    }\n",
       "\n",
       "    .dataframe tbody tr th {\n",
       "        vertical-align: top;\n",
       "    }\n",
       "\n",
       "    .dataframe thead th {\n",
       "        text-align: right;\n",
       "    }\n",
       "</style>\n",
       "<table border=\"1\" class=\"dataframe\">\n",
       "  <thead>\n",
       "    <tr style=\"text-align: right;\">\n",
       "      <th></th>\n",
       "      <th>stars</th>\n",
       "      <th>useful</th>\n",
       "      <th>text</th>\n",
       "      <th>user_id</th>\n",
       "      <th>review_id</th>\n",
       "      <th>business_id</th>\n",
       "      <th>funny</th>\n",
       "      <th>date</th>\n",
       "      <th>cool</th>\n",
       "    </tr>\n",
       "  </thead>\n",
       "  <tbody>\n",
       "    <tr>\n",
       "      <th>0</th>\n",
       "      <td>3.0</td>\n",
       "      <td>0</td>\n",
       "      <td>If you decide to eat here, just be aware it is...</td>\n",
       "      <td>mh_-eMZ6K5RLWhZyISBhwA</td>\n",
       "      <td>KU_O5udG6zpxOg-VcAEodg</td>\n",
       "      <td>XQfwVwDr-v0ZS3_CbbE5Xw</td>\n",
       "      <td>0</td>\n",
       "      <td>2018-07-07 22:09:11</td>\n",
       "      <td>0</td>\n",
       "    </tr>\n",
       "    <tr>\n",
       "      <th>1</th>\n",
       "      <td>5.0</td>\n",
       "      <td>1</td>\n",
       "      <td>I've taken a lot of spin classes over the year...</td>\n",
       "      <td>OyoGAe7OKpv6SyGZT5g77Q</td>\n",
       "      <td>BiTunyQ73aT9WBnpR9DZGw</td>\n",
       "      <td>7ATYjTIgM3jUlt4UM3IypQ</td>\n",
       "      <td>0</td>\n",
       "      <td>2012-01-03 15:28:18</td>\n",
       "      <td>1</td>\n",
       "    </tr>\n",
       "    <tr>\n",
       "      <th>2</th>\n",
       "      <td>3.0</td>\n",
       "      <td>0</td>\n",
       "      <td>Family diner. Had the buffet. Eclectic assortm...</td>\n",
       "      <td>8g_iMtfSiwikVnbP2etR0A</td>\n",
       "      <td>saUsX_uimxRlCVr67Z4Jig</td>\n",
       "      <td>YjUWPpI6HXG530lwP-fb2A</td>\n",
       "      <td>0</td>\n",
       "      <td>2014-02-05 20:30:30</td>\n",
       "      <td>0</td>\n",
       "    </tr>\n",
       "    <tr>\n",
       "      <th>3</th>\n",
       "      <td>5.0</td>\n",
       "      <td>1</td>\n",
       "      <td>Wow!  Yummy, different,  delicious.   Our favo...</td>\n",
       "      <td>_7bHUi9Uuf5__HHc_Q8guQ</td>\n",
       "      <td>AqPFMleE6RsU23_auESxiA</td>\n",
       "      <td>kxX2SOes4o-D3ZQBkiMRfA</td>\n",
       "      <td>0</td>\n",
       "      <td>2015-01-04 00:01:03</td>\n",
       "      <td>1</td>\n",
       "    </tr>\n",
       "    <tr>\n",
       "      <th>4</th>\n",
       "      <td>4.0</td>\n",
       "      <td>1</td>\n",
       "      <td>Cute interior and owner (?) gave us tour of up...</td>\n",
       "      <td>bcjbaE6dDog4jkNY91ncLQ</td>\n",
       "      <td>Sx8TMOWLNuJBWer-0pcmoA</td>\n",
       "      <td>e4Vwtrqf-wpJfwesgvdgxQ</td>\n",
       "      <td>0</td>\n",
       "      <td>2017-01-14 20:54:15</td>\n",
       "      <td>1</td>\n",
       "    </tr>\n",
       "  </tbody>\n",
       "</table>\n",
       "</div>"
      ],
      "text/plain": [
       "   stars  useful                                               text  \\\n",
       "0    3.0       0  If you decide to eat here, just be aware it is...   \n",
       "1    5.0       1  I've taken a lot of spin classes over the year...   \n",
       "2    3.0       0  Family diner. Had the buffet. Eclectic assortm...   \n",
       "3    5.0       1  Wow!  Yummy, different,  delicious.   Our favo...   \n",
       "4    4.0       1  Cute interior and owner (?) gave us tour of up...   \n",
       "\n",
       "                  user_id               review_id             business_id  \\\n",
       "0  mh_-eMZ6K5RLWhZyISBhwA  KU_O5udG6zpxOg-VcAEodg  XQfwVwDr-v0ZS3_CbbE5Xw   \n",
       "1  OyoGAe7OKpv6SyGZT5g77Q  BiTunyQ73aT9WBnpR9DZGw  7ATYjTIgM3jUlt4UM3IypQ   \n",
       "2  8g_iMtfSiwikVnbP2etR0A  saUsX_uimxRlCVr67Z4Jig  YjUWPpI6HXG530lwP-fb2A   \n",
       "3  _7bHUi9Uuf5__HHc_Q8guQ  AqPFMleE6RsU23_auESxiA  kxX2SOes4o-D3ZQBkiMRfA   \n",
       "4  bcjbaE6dDog4jkNY91ncLQ  Sx8TMOWLNuJBWer-0pcmoA  e4Vwtrqf-wpJfwesgvdgxQ   \n",
       "\n",
       "   funny                 date  cool  \n",
       "0      0  2018-07-07 22:09:11     0  \n",
       "1      0  2012-01-03 15:28:18     1  \n",
       "2      0  2014-02-05 20:30:30     0  \n",
       "3      0  2015-01-04 00:01:03     1  \n",
       "4      0  2017-01-14 20:54:15     1  "
      ]
     },
     "execution_count": 54,
     "metadata": {},
     "output_type": "execute_result"
    }
   ],
   "source": [
    "review_data.head()  #5996996 rows × 9 columns"
   ]
  },
  {
   "cell_type": "code",
   "execution_count": 55,
   "metadata": {},
   "outputs": [],
   "source": [
    "# in review.csv multiple users give review(stars,rating) to businesses\n",
    "# we need to find whether there is any co-relation between user's ratings and the business noise levels\n",
    "# 1. find the ratings given for each business"
   ]
  },
  {
   "cell_type": "code",
   "execution_count": 56,
   "metadata": {},
   "outputs": [
    {
     "data": {
      "text/plain": [
       "150346"
      ]
     },
     "execution_count": 56,
     "metadata": {},
     "output_type": "execute_result"
    }
   ],
   "source": [
    "len(review_data.business_id.unique())"
   ]
  },
  {
   "cell_type": "code",
   "execution_count": 57,
   "metadata": {},
   "outputs": [],
   "source": [
    "review_data_2 = review_data.copy()"
   ]
  },
  {
   "cell_type": "code",
   "execution_count": 58,
   "metadata": {},
   "outputs": [],
   "source": [
    "review_data_2 = review_data_2.drop(['useful', 'funny','cool','review_id' ,'user_id','text','date'], axis=1)"
   ]
  },
  {
   "cell_type": "code",
   "execution_count": 59,
   "metadata": {
    "scrolled": true
   },
   "outputs": [
    {
     "data": {
      "text/plain": [
       "business_id\n",
       "---kPU91CF4Lq2-WlRu9Lw    24\n",
       "--0iUa4sNDFiZFrAdIWhZQ    14\n",
       "--30_8IhuyMHbSOcNWd6DQ     9\n",
       "--7PUidqRWpRSpXebiyxTg    12\n",
       "--7jw19RH9JKXgFohspgQw    13\n",
       "                          ..\n",
       "zznZqH9CiAznbkV6fXyHWA    12\n",
       "zztOG2cKm87I6Iw_tleZsQ     6\n",
       "zzu6_r3DxBJuXcjnOYVdTw     8\n",
       "zzw66H6hVjXQEt0Js3Mo4A     5\n",
       "zzyx5x0Z7xXWWvWnZFuxlQ     8\n",
       "Name: stars, Length: 150346, dtype: int64"
      ]
     },
     "execution_count": 59,
     "metadata": {},
     "output_type": "execute_result"
    }
   ],
   "source": [
    "review_data_2.groupby(['business_id'])['stars'].agg('count')"
   ]
  },
  {
   "cell_type": "code",
   "execution_count": 60,
   "metadata": {
    "scrolled": true
   },
   "outputs": [],
   "source": [
    "review_data_3 = review_data_2.pivot_table(index='business_id', columns='stars',  aggfunc=len, fill_value=0)"
   ]
  },
  {
   "cell_type": "code",
   "execution_count": 61,
   "metadata": {
    "scrolled": true
   },
   "outputs": [
    {
     "data": {
      "text/html": [
       "<div>\n",
       "<style scoped>\n",
       "    .dataframe tbody tr th:only-of-type {\n",
       "        vertical-align: middle;\n",
       "    }\n",
       "\n",
       "    .dataframe tbody tr th {\n",
       "        vertical-align: top;\n",
       "    }\n",
       "\n",
       "    .dataframe thead th {\n",
       "        text-align: right;\n",
       "    }\n",
       "</style>\n",
       "<table border=\"1\" class=\"dataframe\">\n",
       "  <thead>\n",
       "    <tr style=\"text-align: right;\">\n",
       "      <th>stars</th>\n",
       "      <th>1.0</th>\n",
       "      <th>2.0</th>\n",
       "      <th>3.0</th>\n",
       "      <th>4.0</th>\n",
       "      <th>5.0</th>\n",
       "    </tr>\n",
       "    <tr>\n",
       "      <th>business_id</th>\n",
       "      <th></th>\n",
       "      <th></th>\n",
       "      <th></th>\n",
       "      <th></th>\n",
       "      <th></th>\n",
       "    </tr>\n",
       "  </thead>\n",
       "  <tbody>\n",
       "    <tr>\n",
       "      <th>---kPU91CF4Lq2-WlRu9Lw</th>\n",
       "      <td>1</td>\n",
       "      <td>0</td>\n",
       "      <td>2</td>\n",
       "      <td>4</td>\n",
       "      <td>17</td>\n",
       "    </tr>\n",
       "    <tr>\n",
       "      <th>--0iUa4sNDFiZFrAdIWhZQ</th>\n",
       "      <td>3</td>\n",
       "      <td>0</td>\n",
       "      <td>4</td>\n",
       "      <td>5</td>\n",
       "      <td>2</td>\n",
       "    </tr>\n",
       "    <tr>\n",
       "      <th>--30_8IhuyMHbSOcNWd6DQ</th>\n",
       "      <td>3</td>\n",
       "      <td>0</td>\n",
       "      <td>0</td>\n",
       "      <td>1</td>\n",
       "      <td>5</td>\n",
       "    </tr>\n",
       "    <tr>\n",
       "      <th>--7PUidqRWpRSpXebiyxTg</th>\n",
       "      <td>7</td>\n",
       "      <td>2</td>\n",
       "      <td>2</td>\n",
       "      <td>1</td>\n",
       "      <td>0</td>\n",
       "    </tr>\n",
       "    <tr>\n",
       "      <th>--7jw19RH9JKXgFohspgQw</th>\n",
       "      <td>2</td>\n",
       "      <td>0</td>\n",
       "      <td>1</td>\n",
       "      <td>0</td>\n",
       "      <td>10</td>\n",
       "    </tr>\n",
       "    <tr>\n",
       "      <th>...</th>\n",
       "      <td>...</td>\n",
       "      <td>...</td>\n",
       "      <td>...</td>\n",
       "      <td>...</td>\n",
       "      <td>...</td>\n",
       "    </tr>\n",
       "    <tr>\n",
       "      <th>zznZqH9CiAznbkV6fXyHWA</th>\n",
       "      <td>0</td>\n",
       "      <td>0</td>\n",
       "      <td>0</td>\n",
       "      <td>1</td>\n",
       "      <td>11</td>\n",
       "    </tr>\n",
       "    <tr>\n",
       "      <th>zztOG2cKm87I6Iw_tleZsQ</th>\n",
       "      <td>0</td>\n",
       "      <td>0</td>\n",
       "      <td>0</td>\n",
       "      <td>1</td>\n",
       "      <td>5</td>\n",
       "    </tr>\n",
       "    <tr>\n",
       "      <th>zzu6_r3DxBJuXcjnOYVdTw</th>\n",
       "      <td>0</td>\n",
       "      <td>1</td>\n",
       "      <td>2</td>\n",
       "      <td>4</td>\n",
       "      <td>1</td>\n",
       "    </tr>\n",
       "    <tr>\n",
       "      <th>zzw66H6hVjXQEt0Js3Mo4A</th>\n",
       "      <td>1</td>\n",
       "      <td>1</td>\n",
       "      <td>0</td>\n",
       "      <td>0</td>\n",
       "      <td>3</td>\n",
       "    </tr>\n",
       "    <tr>\n",
       "      <th>zzyx5x0Z7xXWWvWnZFuxlQ</th>\n",
       "      <td>1</td>\n",
       "      <td>3</td>\n",
       "      <td>3</td>\n",
       "      <td>1</td>\n",
       "      <td>0</td>\n",
       "    </tr>\n",
       "  </tbody>\n",
       "</table>\n",
       "<p>150346 rows × 5 columns</p>\n",
       "</div>"
      ],
      "text/plain": [
       "stars                   1.0  2.0  3.0  4.0  5.0\n",
       "business_id                                    \n",
       "---kPU91CF4Lq2-WlRu9Lw    1    0    2    4   17\n",
       "--0iUa4sNDFiZFrAdIWhZQ    3    0    4    5    2\n",
       "--30_8IhuyMHbSOcNWd6DQ    3    0    0    1    5\n",
       "--7PUidqRWpRSpXebiyxTg    7    2    2    1    0\n",
       "--7jw19RH9JKXgFohspgQw    2    0    1    0   10\n",
       "...                     ...  ...  ...  ...  ...\n",
       "zznZqH9CiAznbkV6fXyHWA    0    0    0    1   11\n",
       "zztOG2cKm87I6Iw_tleZsQ    0    0    0    1    5\n",
       "zzu6_r3DxBJuXcjnOYVdTw    0    1    2    4    1\n",
       "zzw66H6hVjXQEt0Js3Mo4A    1    1    0    0    3\n",
       "zzyx5x0Z7xXWWvWnZFuxlQ    1    3    3    1    0\n",
       "\n",
       "[150346 rows x 5 columns]"
      ]
     },
     "execution_count": 61,
     "metadata": {},
     "output_type": "execute_result"
    }
   ],
   "source": [
    "review_data_3"
   ]
  },
  {
   "cell_type": "code",
   "execution_count": 62,
   "metadata": {},
   "outputs": [],
   "source": [
    "# %%time\n",
    "# review_data_star_pivot = review_data_2.pivot_table(index = 'business_id', columns = 'stars', aggfunc = sum)"
   ]
  },
  {
   "cell_type": "code",
   "execution_count": 63,
   "metadata": {},
   "outputs": [],
   "source": [
    "#review_data_star_pivot"
   ]
  },
  {
   "cell_type": "code",
   "execution_count": 64,
   "metadata": {},
   "outputs": [],
   "source": [
    "#now get a list of business ids , corresponding noise levels and avg. stars"
   ]
  },
  {
   "cell_type": "code",
   "execution_count": 65,
   "metadata": {},
   "outputs": [],
   "source": [
    "# bus_data[bus_data['business_id']=='--1UhMGODdWsrMastO9DZw']"
   ]
  },
  {
   "cell_type": "code",
   "execution_count": 66,
   "metadata": {
    "scrolled": true
   },
   "outputs": [
    {
     "data": {
      "text/html": [
       "<div>\n",
       "<style scoped>\n",
       "    .dataframe tbody tr th:only-of-type {\n",
       "        vertical-align: middle;\n",
       "    }\n",
       "\n",
       "    .dataframe tbody tr th {\n",
       "        vertical-align: top;\n",
       "    }\n",
       "\n",
       "    .dataframe thead th {\n",
       "        text-align: right;\n",
       "    }\n",
       "</style>\n",
       "<table border=\"1\" class=\"dataframe\">\n",
       "  <thead>\n",
       "    <tr style=\"text-align: right;\">\n",
       "      <th></th>\n",
       "      <th>business_id</th>\n",
       "      <th>stars</th>\n",
       "      <th>attributes.NoiseLevel</th>\n",
       "    </tr>\n",
       "  </thead>\n",
       "  <tbody>\n",
       "    <tr>\n",
       "      <th>0</th>\n",
       "      <td>Pns2l4eNsfO8kk83dixA6A</td>\n",
       "      <td>5.0</td>\n",
       "      <td>NaN</td>\n",
       "    </tr>\n",
       "    <tr>\n",
       "      <th>1</th>\n",
       "      <td>mpf3x-BjTdTEA3yCZrAYPw</td>\n",
       "      <td>3.0</td>\n",
       "      <td>NaN</td>\n",
       "    </tr>\n",
       "    <tr>\n",
       "      <th>2</th>\n",
       "      <td>tUFrWirKiKi_TAnsVWINQQ</td>\n",
       "      <td>3.5</td>\n",
       "      <td>NaN</td>\n",
       "    </tr>\n",
       "    <tr>\n",
       "      <th>3</th>\n",
       "      <td>MTSW4McQd7CbVtyjqoe9mw</td>\n",
       "      <td>4.0</td>\n",
       "      <td>NaN</td>\n",
       "    </tr>\n",
       "    <tr>\n",
       "      <th>4</th>\n",
       "      <td>mWMc6_wTdE0EUBKIGXDVfA</td>\n",
       "      <td>4.5</td>\n",
       "      <td>NaN</td>\n",
       "    </tr>\n",
       "    <tr>\n",
       "      <th>...</th>\n",
       "      <td>...</td>\n",
       "      <td>...</td>\n",
       "      <td>...</td>\n",
       "    </tr>\n",
       "    <tr>\n",
       "      <th>150341</th>\n",
       "      <td>IUQopTMmYQG-qRtBk-8QnA</td>\n",
       "      <td>3.0</td>\n",
       "      <td>NaN</td>\n",
       "    </tr>\n",
       "    <tr>\n",
       "      <th>150342</th>\n",
       "      <td>c8GjPIOTGVmIemT7j5_SyQ</td>\n",
       "      <td>4.0</td>\n",
       "      <td>NaN</td>\n",
       "    </tr>\n",
       "    <tr>\n",
       "      <th>150343</th>\n",
       "      <td>_QAMST-NrQobXduilWEqSw</td>\n",
       "      <td>3.5</td>\n",
       "      <td>NaN</td>\n",
       "    </tr>\n",
       "    <tr>\n",
       "      <th>150344</th>\n",
       "      <td>mtGm22y5c2UHNXDFAjaPNw</td>\n",
       "      <td>4.0</td>\n",
       "      <td>NaN</td>\n",
       "    </tr>\n",
       "    <tr>\n",
       "      <th>150345</th>\n",
       "      <td>jV_XOycEzSlTx-65W906pg</td>\n",
       "      <td>4.5</td>\n",
       "      <td>NaN</td>\n",
       "    </tr>\n",
       "  </tbody>\n",
       "</table>\n",
       "<p>150346 rows × 3 columns</p>\n",
       "</div>"
      ],
      "text/plain": [
       "                   business_id  stars attributes.NoiseLevel\n",
       "0       Pns2l4eNsfO8kk83dixA6A    5.0                   NaN\n",
       "1       mpf3x-BjTdTEA3yCZrAYPw    3.0                   NaN\n",
       "2       tUFrWirKiKi_TAnsVWINQQ    3.5                   NaN\n",
       "3       MTSW4McQd7CbVtyjqoe9mw    4.0                   NaN\n",
       "4       mWMc6_wTdE0EUBKIGXDVfA    4.5                   NaN\n",
       "...                        ...    ...                   ...\n",
       "150341  IUQopTMmYQG-qRtBk-8QnA    3.0                   NaN\n",
       "150342  c8GjPIOTGVmIemT7j5_SyQ    4.0                   NaN\n",
       "150343  _QAMST-NrQobXduilWEqSw    3.5                   NaN\n",
       "150344  mtGm22y5c2UHNXDFAjaPNw    4.0                   NaN\n",
       "150345  jV_XOycEzSlTx-65W906pg    4.5                   NaN\n",
       "\n",
       "[150346 rows x 3 columns]"
      ]
     },
     "execution_count": 66,
     "metadata": {},
     "output_type": "execute_result"
    }
   ],
   "source": [
    "bus_data_2 = bus_data[['business_id','stars','attributes.NoiseLevel']]\n",
    "bus_data_2"
   ]
  },
  {
   "cell_type": "code",
   "execution_count": 67,
   "metadata": {
    "scrolled": true
   },
   "outputs": [],
   "source": [
    "bus_data_2 = bus_data_2.dropna()"
   ]
  },
  {
   "cell_type": "code",
   "execution_count": 68,
   "metadata": {
    "scrolled": true
   },
   "outputs": [
    {
     "data": {
      "text/html": [
       "<div>\n",
       "<style scoped>\n",
       "    .dataframe tbody tr th:only-of-type {\n",
       "        vertical-align: middle;\n",
       "    }\n",
       "\n",
       "    .dataframe tbody tr th {\n",
       "        vertical-align: top;\n",
       "    }\n",
       "\n",
       "    .dataframe thead th {\n",
       "        text-align: right;\n",
       "    }\n",
       "</style>\n",
       "<table border=\"1\" class=\"dataframe\">\n",
       "  <thead>\n",
       "    <tr style=\"text-align: right;\">\n",
       "      <th></th>\n",
       "      <th>business_id</th>\n",
       "      <th>stars</th>\n",
       "      <th>attributes.NoiseLevel</th>\n",
       "    </tr>\n",
       "  </thead>\n",
       "  <tbody>\n",
       "    <tr>\n",
       "      <th>8</th>\n",
       "      <td>k0hlBqXX-Bt0vf1op7Jr1w</td>\n",
       "      <td>3.0</td>\n",
       "      <td>u'average'</td>\n",
       "    </tr>\n",
       "    <tr>\n",
       "      <th>14</th>\n",
       "      <td>0bPLkL0QhhPO5kt1_EXmNQ</td>\n",
       "      <td>4.5</td>\n",
       "      <td>u'average'</td>\n",
       "    </tr>\n",
       "    <tr>\n",
       "      <th>15</th>\n",
       "      <td>MUTTqe8uqyMdBl186RmNeA</td>\n",
       "      <td>4.0</td>\n",
       "      <td>u'average'</td>\n",
       "    </tr>\n",
       "    <tr>\n",
       "      <th>19</th>\n",
       "      <td>ROeacJQwBeh05Rqg7F6TCg</td>\n",
       "      <td>4.5</td>\n",
       "      <td>u'quiet'</td>\n",
       "    </tr>\n",
       "    <tr>\n",
       "      <th>20</th>\n",
       "      <td>WKMJwqnfZKsAae75RMP6jA</td>\n",
       "      <td>4.0</td>\n",
       "      <td>u'average'</td>\n",
       "    </tr>\n",
       "    <tr>\n",
       "      <th>...</th>\n",
       "      <td>...</td>\n",
       "      <td>...</td>\n",
       "      <td>...</td>\n",
       "    </tr>\n",
       "    <tr>\n",
       "      <th>150321</th>\n",
       "      <td>AM7O0cwkxm6w_e0Q7-f9FQ</td>\n",
       "      <td>4.0</td>\n",
       "      <td>u'average'</td>\n",
       "    </tr>\n",
       "    <tr>\n",
       "      <th>150322</th>\n",
       "      <td>2MAQeAqmD8enCT2ZYqUgIQ</td>\n",
       "      <td>4.0</td>\n",
       "      <td>u'average'</td>\n",
       "    </tr>\n",
       "    <tr>\n",
       "      <th>150323</th>\n",
       "      <td>w_4xUt-1AyY2ZwKtnjW0Xg</td>\n",
       "      <td>4.5</td>\n",
       "      <td>u'average'</td>\n",
       "    </tr>\n",
       "    <tr>\n",
       "      <th>150327</th>\n",
       "      <td>cM6V90ExQD6KMSU3rRB5ZA</td>\n",
       "      <td>4.0</td>\n",
       "      <td>u'loud'</td>\n",
       "    </tr>\n",
       "    <tr>\n",
       "      <th>150340</th>\n",
       "      <td>hn9Toz3s-Ei3uZPt7esExA</td>\n",
       "      <td>4.5</td>\n",
       "      <td>u'average'</td>\n",
       "    </tr>\n",
       "  </tbody>\n",
       "</table>\n",
       "<p>37993 rows × 3 columns</p>\n",
       "</div>"
      ],
      "text/plain": [
       "                   business_id  stars attributes.NoiseLevel\n",
       "8       k0hlBqXX-Bt0vf1op7Jr1w    3.0            u'average'\n",
       "14      0bPLkL0QhhPO5kt1_EXmNQ    4.5            u'average'\n",
       "15      MUTTqe8uqyMdBl186RmNeA    4.0            u'average'\n",
       "19      ROeacJQwBeh05Rqg7F6TCg    4.5              u'quiet'\n",
       "20      WKMJwqnfZKsAae75RMP6jA    4.0            u'average'\n",
       "...                        ...    ...                   ...\n",
       "150321  AM7O0cwkxm6w_e0Q7-f9FQ    4.0            u'average'\n",
       "150322  2MAQeAqmD8enCT2ZYqUgIQ    4.0            u'average'\n",
       "150323  w_4xUt-1AyY2ZwKtnjW0Xg    4.5            u'average'\n",
       "150327  cM6V90ExQD6KMSU3rRB5ZA    4.0               u'loud'\n",
       "150340  hn9Toz3s-Ei3uZPt7esExA    4.5            u'average'\n",
       "\n",
       "[37993 rows x 3 columns]"
      ]
     },
     "execution_count": 68,
     "metadata": {},
     "output_type": "execute_result"
    }
   ],
   "source": [
    "bus_data_2"
   ]
  },
  {
   "cell_type": "code",
   "execution_count": 69,
   "metadata": {},
   "outputs": [
    {
     "data": {
      "text/html": [
       "<div>\n",
       "<style scoped>\n",
       "    .dataframe tbody tr th:only-of-type {\n",
       "        vertical-align: middle;\n",
       "    }\n",
       "\n",
       "    .dataframe tbody tr th {\n",
       "        vertical-align: top;\n",
       "    }\n",
       "\n",
       "    .dataframe thead th {\n",
       "        text-align: right;\n",
       "    }\n",
       "</style>\n",
       "<table border=\"1\" class=\"dataframe\">\n",
       "  <thead>\n",
       "    <tr style=\"text-align: right;\">\n",
       "      <th></th>\n",
       "      <th>business_id</th>\n",
       "      <th>stars</th>\n",
       "      <th>attributes.NoiseLevel</th>\n",
       "      <th>1.0</th>\n",
       "      <th>2.0</th>\n",
       "      <th>3.0</th>\n",
       "      <th>4.0</th>\n",
       "      <th>5.0</th>\n",
       "    </tr>\n",
       "  </thead>\n",
       "  <tbody>\n",
       "    <tr>\n",
       "      <th>0</th>\n",
       "      <td>k0hlBqXX-Bt0vf1op7Jr1w</td>\n",
       "      <td>3.0</td>\n",
       "      <td>u'average'</td>\n",
       "      <td>6</td>\n",
       "      <td>2</td>\n",
       "      <td>1</td>\n",
       "      <td>7</td>\n",
       "      <td>3</td>\n",
       "    </tr>\n",
       "    <tr>\n",
       "      <th>1</th>\n",
       "      <td>0bPLkL0QhhPO5kt1_EXmNQ</td>\n",
       "      <td>4.5</td>\n",
       "      <td>u'average'</td>\n",
       "      <td>8</td>\n",
       "      <td>4</td>\n",
       "      <td>1</td>\n",
       "      <td>19</td>\n",
       "      <td>74</td>\n",
       "    </tr>\n",
       "    <tr>\n",
       "      <th>2</th>\n",
       "      <td>MUTTqe8uqyMdBl186RmNeA</td>\n",
       "      <td>4.0</td>\n",
       "      <td>u'average'</td>\n",
       "      <td>14</td>\n",
       "      <td>12</td>\n",
       "      <td>29</td>\n",
       "      <td>50</td>\n",
       "      <td>145</td>\n",
       "    </tr>\n",
       "    <tr>\n",
       "      <th>3</th>\n",
       "      <td>ROeacJQwBeh05Rqg7F6TCg</td>\n",
       "      <td>4.5</td>\n",
       "      <td>u'quiet'</td>\n",
       "      <td>4</td>\n",
       "      <td>6</td>\n",
       "      <td>28</td>\n",
       "      <td>52</td>\n",
       "      <td>118</td>\n",
       "    </tr>\n",
       "    <tr>\n",
       "      <th>4</th>\n",
       "      <td>WKMJwqnfZKsAae75RMP6jA</td>\n",
       "      <td>4.0</td>\n",
       "      <td>u'average'</td>\n",
       "      <td>2</td>\n",
       "      <td>2</td>\n",
       "      <td>5</td>\n",
       "      <td>23</td>\n",
       "      <td>8</td>\n",
       "    </tr>\n",
       "  </tbody>\n",
       "</table>\n",
       "</div>"
      ],
      "text/plain": [
       "              business_id  stars attributes.NoiseLevel  1.0  2.0  3.0  4.0  \\\n",
       "0  k0hlBqXX-Bt0vf1op7Jr1w    3.0            u'average'    6    2    1    7   \n",
       "1  0bPLkL0QhhPO5kt1_EXmNQ    4.5            u'average'    8    4    1   19   \n",
       "2  MUTTqe8uqyMdBl186RmNeA    4.0            u'average'   14   12   29   50   \n",
       "3  ROeacJQwBeh05Rqg7F6TCg    4.5              u'quiet'    4    6   28   52   \n",
       "4  WKMJwqnfZKsAae75RMP6jA    4.0            u'average'    2    2    5   23   \n",
       "\n",
       "   5.0  \n",
       "0    3  \n",
       "1   74  \n",
       "2  145  \n",
       "3  118  \n",
       "4    8  "
      ]
     },
     "execution_count": 69,
     "metadata": {},
     "output_type": "execute_result"
    }
   ],
   "source": [
    "bus_merge_noise_star = pd.merge(bus_data_2, review_data_3, on=['business_id'], how='inner')\n",
    "bus_merge_noise_star.head()"
   ]
  },
  {
   "cell_type": "code",
   "execution_count": null,
   "metadata": {},
   "outputs": [],
   "source": []
  },
  {
   "cell_type": "code",
   "execution_count": 71,
   "metadata": {
    "scrolled": true
   },
   "outputs": [],
   "source": [
    "bus_merge_noise_star.columns = ['business_id', 'avg_stars','NoiseLevel'\n",
    "                                ,'star_1','star_2','star_3','star_4','star_5']"
   ]
  },
  {
   "cell_type": "code",
   "execution_count": 72,
   "metadata": {
    "scrolled": true
   },
   "outputs": [
    {
     "data": {
      "text/html": [
       "<div>\n",
       "<style scoped>\n",
       "    .dataframe tbody tr th:only-of-type {\n",
       "        vertical-align: middle;\n",
       "    }\n",
       "\n",
       "    .dataframe tbody tr th {\n",
       "        vertical-align: top;\n",
       "    }\n",
       "\n",
       "    .dataframe thead th {\n",
       "        text-align: right;\n",
       "    }\n",
       "</style>\n",
       "<table border=\"1\" class=\"dataframe\">\n",
       "  <thead>\n",
       "    <tr style=\"text-align: right;\">\n",
       "      <th></th>\n",
       "      <th>business_id</th>\n",
       "      <th>avg_stars</th>\n",
       "      <th>NoiseLevel</th>\n",
       "      <th>star_1</th>\n",
       "      <th>star_2</th>\n",
       "      <th>star_3</th>\n",
       "      <th>star_4</th>\n",
       "      <th>star_5</th>\n",
       "    </tr>\n",
       "  </thead>\n",
       "  <tbody>\n",
       "    <tr>\n",
       "      <th>0</th>\n",
       "      <td>k0hlBqXX-Bt0vf1op7Jr1w</td>\n",
       "      <td>3.0</td>\n",
       "      <td>u'average'</td>\n",
       "      <td>6</td>\n",
       "      <td>2</td>\n",
       "      <td>1</td>\n",
       "      <td>7</td>\n",
       "      <td>3</td>\n",
       "    </tr>\n",
       "    <tr>\n",
       "      <th>1</th>\n",
       "      <td>0bPLkL0QhhPO5kt1_EXmNQ</td>\n",
       "      <td>4.5</td>\n",
       "      <td>u'average'</td>\n",
       "      <td>8</td>\n",
       "      <td>4</td>\n",
       "      <td>1</td>\n",
       "      <td>19</td>\n",
       "      <td>74</td>\n",
       "    </tr>\n",
       "    <tr>\n",
       "      <th>2</th>\n",
       "      <td>MUTTqe8uqyMdBl186RmNeA</td>\n",
       "      <td>4.0</td>\n",
       "      <td>u'average'</td>\n",
       "      <td>14</td>\n",
       "      <td>12</td>\n",
       "      <td>29</td>\n",
       "      <td>50</td>\n",
       "      <td>145</td>\n",
       "    </tr>\n",
       "    <tr>\n",
       "      <th>3</th>\n",
       "      <td>ROeacJQwBeh05Rqg7F6TCg</td>\n",
       "      <td>4.5</td>\n",
       "      <td>u'quiet'</td>\n",
       "      <td>4</td>\n",
       "      <td>6</td>\n",
       "      <td>28</td>\n",
       "      <td>52</td>\n",
       "      <td>118</td>\n",
       "    </tr>\n",
       "    <tr>\n",
       "      <th>4</th>\n",
       "      <td>WKMJwqnfZKsAae75RMP6jA</td>\n",
       "      <td>4.0</td>\n",
       "      <td>u'average'</td>\n",
       "      <td>2</td>\n",
       "      <td>2</td>\n",
       "      <td>5</td>\n",
       "      <td>23</td>\n",
       "      <td>8</td>\n",
       "    </tr>\n",
       "    <tr>\n",
       "      <th>...</th>\n",
       "      <td>...</td>\n",
       "      <td>...</td>\n",
       "      <td>...</td>\n",
       "      <td>...</td>\n",
       "      <td>...</td>\n",
       "      <td>...</td>\n",
       "      <td>...</td>\n",
       "      <td>...</td>\n",
       "    </tr>\n",
       "    <tr>\n",
       "      <th>37988</th>\n",
       "      <td>AM7O0cwkxm6w_e0Q7-f9FQ</td>\n",
       "      <td>4.0</td>\n",
       "      <td>u'average'</td>\n",
       "      <td>5</td>\n",
       "      <td>1</td>\n",
       "      <td>3</td>\n",
       "      <td>5</td>\n",
       "      <td>16</td>\n",
       "    </tr>\n",
       "    <tr>\n",
       "      <th>37989</th>\n",
       "      <td>2MAQeAqmD8enCT2ZYqUgIQ</td>\n",
       "      <td>4.0</td>\n",
       "      <td>u'average'</td>\n",
       "      <td>16</td>\n",
       "      <td>18</td>\n",
       "      <td>18</td>\n",
       "      <td>52</td>\n",
       "      <td>109</td>\n",
       "    </tr>\n",
       "    <tr>\n",
       "      <th>37990</th>\n",
       "      <td>w_4xUt-1AyY2ZwKtnjW0Xg</td>\n",
       "      <td>4.5</td>\n",
       "      <td>u'average'</td>\n",
       "      <td>44</td>\n",
       "      <td>37</td>\n",
       "      <td>100</td>\n",
       "      <td>284</td>\n",
       "      <td>569</td>\n",
       "    </tr>\n",
       "    <tr>\n",
       "      <th>37991</th>\n",
       "      <td>cM6V90ExQD6KMSU3rRB5ZA</td>\n",
       "      <td>4.0</td>\n",
       "      <td>u'loud'</td>\n",
       "      <td>8</td>\n",
       "      <td>2</td>\n",
       "      <td>0</td>\n",
       "      <td>3</td>\n",
       "      <td>21</td>\n",
       "    </tr>\n",
       "    <tr>\n",
       "      <th>37992</th>\n",
       "      <td>hn9Toz3s-Ei3uZPt7esExA</td>\n",
       "      <td>4.5</td>\n",
       "      <td>u'average'</td>\n",
       "      <td>1</td>\n",
       "      <td>0</td>\n",
       "      <td>0</td>\n",
       "      <td>3</td>\n",
       "      <td>14</td>\n",
       "    </tr>\n",
       "  </tbody>\n",
       "</table>\n",
       "<p>37993 rows × 8 columns</p>\n",
       "</div>"
      ],
      "text/plain": [
       "                  business_id  avg_stars  NoiseLevel  star_1  star_2  star_3  \\\n",
       "0      k0hlBqXX-Bt0vf1op7Jr1w        3.0  u'average'       6       2       1   \n",
       "1      0bPLkL0QhhPO5kt1_EXmNQ        4.5  u'average'       8       4       1   \n",
       "2      MUTTqe8uqyMdBl186RmNeA        4.0  u'average'      14      12      29   \n",
       "3      ROeacJQwBeh05Rqg7F6TCg        4.5    u'quiet'       4       6      28   \n",
       "4      WKMJwqnfZKsAae75RMP6jA        4.0  u'average'       2       2       5   \n",
       "...                       ...        ...         ...     ...     ...     ...   \n",
       "37988  AM7O0cwkxm6w_e0Q7-f9FQ        4.0  u'average'       5       1       3   \n",
       "37989  2MAQeAqmD8enCT2ZYqUgIQ        4.0  u'average'      16      18      18   \n",
       "37990  w_4xUt-1AyY2ZwKtnjW0Xg        4.5  u'average'      44      37     100   \n",
       "37991  cM6V90ExQD6KMSU3rRB5ZA        4.0     u'loud'       8       2       0   \n",
       "37992  hn9Toz3s-Ei3uZPt7esExA        4.5  u'average'       1       0       0   \n",
       "\n",
       "       star_4  star_5  \n",
       "0           7       3  \n",
       "1          19      74  \n",
       "2          50     145  \n",
       "3          52     118  \n",
       "4          23       8  \n",
       "...       ...     ...  \n",
       "37988       5      16  \n",
       "37989      52     109  \n",
       "37990     284     569  \n",
       "37991       3      21  \n",
       "37992       3      14  \n",
       "\n",
       "[37993 rows x 8 columns]"
      ]
     },
     "execution_count": 72,
     "metadata": {},
     "output_type": "execute_result"
    }
   ],
   "source": [
    "bus_merge_noise_star"
   ]
  },
  {
   "cell_type": "code",
   "execution_count": 83,
   "metadata": {},
   "outputs": [
    {
     "data": {
      "text/plain": [
       "pandas.core.series.Series"
      ]
     },
     "execution_count": 83,
     "metadata": {},
     "output_type": "execute_result"
    }
   ],
   "source": [
    "quiet_stars = bus_merge_noise_star[bus_merge_noise_star['NoiseLevel']=='u\\'quiet\\'']['avg_stars']\n",
    "avg_noise_stars = bus_merge_noise_star[bus_merge_noise_star['NoiseLevel']=='u\\'average\\'']['avg_stars']\n",
    "loud_stars = bus_merge_noise_star[bus_merge_noise_star['NoiseLevel']=='u\\'loud\\'']['avg_stars']\n",
    "very_loud_stars = bus_merge_noise_star[bus_merge_noise_star['NoiseLevel']=='u\\'very_loud\\'']['avg_stars']\n",
    "type(quiet_stars)"
   ]
  },
  {
   "cell_type": "code",
   "execution_count": 84,
   "metadata": {},
   "outputs": [
    {
     "name": "stdout",
     "output_type": "stream",
     "text": [
      "length - quiet, avg_noise, loud, very_lod 6460   21581   2447   1067  \n"
     ]
    }
   ],
   "source": [
    "print(\"length - quiet, avg_noise, loud, very_lod\", len(quiet_stars), \" \", len(avg_noise_stars), \" \"\n",
    "     , len(loud_stars), \" \", len(very_loud_stars), \" \")"
   ]
  },
  {
   "cell_type": "code",
   "execution_count": 85,
   "metadata": {},
   "outputs": [
    {
     "data": {
      "text/plain": [
       "3.645046439628483"
      ]
     },
     "execution_count": 85,
     "metadata": {},
     "output_type": "execute_result"
    }
   ],
   "source": [
    "np.mean(np.array(quiet_stars.tolist()))"
   ]
  },
  {
   "cell_type": "code",
   "execution_count": 86,
   "metadata": {},
   "outputs": [
    {
     "data": {
      "text/plain": [
       "3.6015244891339604"
      ]
     },
     "execution_count": 86,
     "metadata": {},
     "output_type": "execute_result"
    }
   ],
   "source": [
    "np.mean(np.array(avg_noise_stars.tolist()))"
   ]
  },
  {
   "cell_type": "code",
   "execution_count": 87,
   "metadata": {},
   "outputs": [
    {
     "data": {
      "text/plain": [
       "3.3093583980384143"
      ]
     },
     "execution_count": 87,
     "metadata": {},
     "output_type": "execute_result"
    }
   ],
   "source": [
    "np.mean(np.array(loud_stars.tolist()))"
   ]
  },
  {
   "cell_type": "code",
   "execution_count": 88,
   "metadata": {},
   "outputs": [
    {
     "data": {
      "text/plain": [
       "3.020618556701031"
      ]
     },
     "execution_count": 88,
     "metadata": {},
     "output_type": "execute_result"
    }
   ],
   "source": [
    "np.mean(np.array(very_loud_stars.tolist()))"
   ]
  },
  {
   "cell_type": "code",
   "execution_count": 93,
   "metadata": {},
   "outputs": [
    {
     "data": {
      "image/png": "[encoded data removed]",
      "text/plain": [
       "<Figure size 640x480 with 1 Axes>"
      ]
     },
     "metadata": {},
     "output_type": "display_data"
    }
   ],
   "source": [
    "plt.plot( ['Quiet','Average','Loud','Very loud'] , [np.mean(np.array(quiet_stars.tolist())),\n",
    "                                                    np.mean(np.array(avg_noise_stars.tolist())),\n",
    "                                                    np.mean(np.array(very_loud_stars.tolist())),\n",
    "                                                    np.mean(np.array(loud_stars.tolist()))] \n",
    "        ,'--ro')\n",
    "plt.title(\"Noise Distribution levels\")\n",
    "plt.ylabel('Average Stars received')\n",
    "plt.xlabel('Noise level')\n",
    "\n",
    "axes = plt.gca()\n",
    "#axes.set_xlim([xmin,xmax])\n",
    "axes.set_ylim([3,3.7])\n",
    "\n",
    "plt.show()"
   ]
  },
  {
   "cell_type": "markdown",
   "metadata": {},
   "source": [
    "(future topic) Who tends to give less rating: men or women?"
   ]
  },
  {
   "cell_type": "code",
   "execution_count": null,
   "metadata": {},
   "outputs": [],
   "source": []
  }
 ],
 "metadata": {
  "kernelspec": {
   "display_name": "Python 3 (ipykernel)",
   "language": "python",
   "name": "python3"
  },
  "language_info": {
   "codemirror_mode": {
    "name": "ipython",
    "version": 3
   },
   "file_extension": ".py",
   "mimetype": "text/x-python",
   "name": "python",
   "nbconvert_exporter": "python",
   "pygments_lexer": "ipython3",
   "version": "3.9.6"
  }
 },
 "nbformat": 4,
 "nbformat_minor": 2
}
