{
 "cells": [
  {
   "cell_type": "code",
   "execution_count": 1,
   "metadata": {},
   "outputs": [],
   "source": [
    "import pandas as pd\n",
    "import numpy as np\n",
    "from sklearn.preprocessing import LabelEncoder\n",
    "import seaborn as sns\n",
    "import matplotlib.pyplot as plt"
   ]
  },
  {
   "cell_type": "code",
   "execution_count": 2,
   "metadata": {},
   "outputs": [],
   "source": [
    "user_data = pd.read_csv(\"data/modified_user_2.csv\")"
   ]
  },
  {
   "cell_type": "code",
   "execution_count": 3,
   "metadata": {},
   "outputs": [
    {
     "data": {
      "text/html": [
       "<div>\n",
       "<style scoped>\n",
       "    .dataframe tbody tr th:only-of-type {\n",
       "        vertical-align: middle;\n",
       "    }\n",
       "\n",
       "    .dataframe tbody tr th {\n",
       "        vertical-align: top;\n",
       "    }\n",
       "\n",
       "    .dataframe thead th {\n",
       "        text-align: right;\n",
       "    }\n",
       "</style>\n",
       "<table border=\"1\" class=\"dataframe\">\n",
       "  <thead>\n",
       "    <tr style=\"text-align: right;\">\n",
       "      <th></th>\n",
       "      <th>funny</th>\n",
       "      <th>compliment_photos</th>\n",
       "      <th>yelping_since</th>\n",
       "      <th>cool</th>\n",
       "      <th>compliment_more</th>\n",
       "      <th>compliment_writer</th>\n",
       "      <th>compliment_cool</th>\n",
       "      <th>compliment_plain</th>\n",
       "      <th>compliment_cute</th>\n",
       "      <th>compliment_hot</th>\n",
       "      <th>...</th>\n",
       "      <th>name</th>\n",
       "      <th>Gender</th>\n",
       "      <th>compliment_note</th>\n",
       "      <th>compliment_list</th>\n",
       "      <th>elite</th>\n",
       "      <th>review_count</th>\n",
       "      <th>friends</th>\n",
       "      <th>useful</th>\n",
       "      <th>compliment_funny</th>\n",
       "      <th>average_stars</th>\n",
       "    </tr>\n",
       "  </thead>\n",
       "  <tbody>\n",
       "    <tr>\n",
       "      <th>0</th>\n",
       "      <td>0</td>\n",
       "      <td>0</td>\n",
       "      <td>2015-09-28</td>\n",
       "      <td>0</td>\n",
       "      <td>0</td>\n",
       "      <td>0</td>\n",
       "      <td>0</td>\n",
       "      <td>0</td>\n",
       "      <td>0</td>\n",
       "      <td>0</td>\n",
       "      <td>...</td>\n",
       "      <td>Susan</td>\n",
       "      <td>Female</td>\n",
       "      <td>0</td>\n",
       "      <td>0</td>\n",
       "      <td>None</td>\n",
       "      <td>1</td>\n",
       "      <td>None</td>\n",
       "      <td>0</td>\n",
       "      <td>0</td>\n",
       "      <td>2.00</td>\n",
       "    </tr>\n",
       "    <tr>\n",
       "      <th>1</th>\n",
       "      <td>0</td>\n",
       "      <td>0</td>\n",
       "      <td>2015-09-05</td>\n",
       "      <td>0</td>\n",
       "      <td>0</td>\n",
       "      <td>0</td>\n",
       "      <td>0</td>\n",
       "      <td>0</td>\n",
       "      <td>0</td>\n",
       "      <td>0</td>\n",
       "      <td>...</td>\n",
       "      <td>Daipayan</td>\n",
       "      <td>None</td>\n",
       "      <td>0</td>\n",
       "      <td>0</td>\n",
       "      <td>None</td>\n",
       "      <td>2</td>\n",
       "      <td>None</td>\n",
       "      <td>0</td>\n",
       "      <td>0</td>\n",
       "      <td>5.00</td>\n",
       "    </tr>\n",
       "    <tr>\n",
       "      <th>2</th>\n",
       "      <td>0</td>\n",
       "      <td>0</td>\n",
       "      <td>2016-07-21</td>\n",
       "      <td>0</td>\n",
       "      <td>0</td>\n",
       "      <td>0</td>\n",
       "      <td>0</td>\n",
       "      <td>0</td>\n",
       "      <td>0</td>\n",
       "      <td>0</td>\n",
       "      <td>...</td>\n",
       "      <td>Andy</td>\n",
       "      <td>Male</td>\n",
       "      <td>0</td>\n",
       "      <td>0</td>\n",
       "      <td>None</td>\n",
       "      <td>1</td>\n",
       "      <td>None</td>\n",
       "      <td>0</td>\n",
       "      <td>0</td>\n",
       "      <td>4.00</td>\n",
       "    </tr>\n",
       "    <tr>\n",
       "      <th>3</th>\n",
       "      <td>0</td>\n",
       "      <td>0</td>\n",
       "      <td>2014-08-04</td>\n",
       "      <td>0</td>\n",
       "      <td>0</td>\n",
       "      <td>0</td>\n",
       "      <td>0</td>\n",
       "      <td>0</td>\n",
       "      <td>0</td>\n",
       "      <td>0</td>\n",
       "      <td>...</td>\n",
       "      <td>Jonathan</td>\n",
       "      <td>Male</td>\n",
       "      <td>0</td>\n",
       "      <td>0</td>\n",
       "      <td>None</td>\n",
       "      <td>19</td>\n",
       "      <td>None</td>\n",
       "      <td>0</td>\n",
       "      <td>0</td>\n",
       "      <td>4.05</td>\n",
       "    </tr>\n",
       "    <tr>\n",
       "      <th>4</th>\n",
       "      <td>0</td>\n",
       "      <td>0</td>\n",
       "      <td>2017-06-18</td>\n",
       "      <td>0</td>\n",
       "      <td>0</td>\n",
       "      <td>0</td>\n",
       "      <td>0</td>\n",
       "      <td>0</td>\n",
       "      <td>0</td>\n",
       "      <td>0</td>\n",
       "      <td>...</td>\n",
       "      <td>Shashank</td>\n",
       "      <td>Male</td>\n",
       "      <td>0</td>\n",
       "      <td>0</td>\n",
       "      <td>None</td>\n",
       "      <td>3</td>\n",
       "      <td>None</td>\n",
       "      <td>0</td>\n",
       "      <td>0</td>\n",
       "      <td>3.00</td>\n",
       "    </tr>\n",
       "  </tbody>\n",
       "</table>\n",
       "<p>5 rows × 23 columns</p>\n",
       "</div>"
      ],
      "text/plain": [
       "   funny  compliment_photos yelping_since  cool  compliment_more  \\\n",
       "0      0                  0    2015-09-28     0                0   \n",
       "1      0                  0    2015-09-05     0                0   \n",
       "2      0                  0    2016-07-21     0                0   \n",
       "3      0                  0    2014-08-04     0                0   \n",
       "4      0                  0    2017-06-18     0                0   \n",
       "\n",
       "   compliment_writer  compliment_cool  compliment_plain  compliment_cute  \\\n",
       "0                  0                0                 0                0   \n",
       "1                  0                0                 0                0   \n",
       "2                  0                0                 0                0   \n",
       "3                  0                0                 0                0   \n",
       "4                  0                0                 0                0   \n",
       "\n",
       "   compliment_hot  ...      name  Gender compliment_note compliment_list  \\\n",
       "0               0  ...     Susan  Female               0               0   \n",
       "1               0  ...  Daipayan    None               0               0   \n",
       "2               0  ...      Andy    Male               0               0   \n",
       "3               0  ...  Jonathan    Male               0               0   \n",
       "4               0  ...  Shashank    Male               0               0   \n",
       "\n",
       "  elite  review_count  friends useful  compliment_funny average_stars  \n",
       "0  None             1     None      0                 0          2.00  \n",
       "1  None             2     None      0                 0          5.00  \n",
       "2  None             1     None      0                 0          4.00  \n",
       "3  None            19     None      0                 0          4.05  \n",
       "4  None             3     None      0                 0          3.00  \n",
       "\n",
       "[5 rows x 23 columns]"
      ]
     },
     "execution_count": 3,
     "metadata": {},
     "output_type": "execute_result"
    }
   ],
   "source": [
    "user_data.head()"
   ]
  },
  {
   "cell_type": "code",
   "execution_count": 4,
   "metadata": {},
   "outputs": [
    {
     "data": {
      "text/plain": [
       "7"
      ]
     },
     "execution_count": 4,
     "metadata": {},
     "output_type": "execute_result"
    }
   ],
   "source": [
    "len(user_data)"
   ]
  },
  {
   "cell_type": "code",
   "execution_count": 5,
   "metadata": {
    "scrolled": true
   },
   "outputs": [
    {
     "data": {
      "text/plain": [
       "funny                 0\n",
       "compliment_photos     0\n",
       "yelping_since         0\n",
       "cool                  0\n",
       "compliment_more       0\n",
       "compliment_writer     0\n",
       "compliment_cool       0\n",
       "compliment_plain      0\n",
       "compliment_cute       0\n",
       "compliment_hot        0\n",
       "compliment_profile    0\n",
       "fans                  0\n",
       "user_id               0\n",
       "name                  0\n",
       "Gender                0\n",
       "compliment_note       0\n",
       "compliment_list       0\n",
       "elite                 0\n",
       "review_count          0\n",
       "friends               0\n",
       "useful                0\n",
       "compliment_funny      0\n",
       "average_stars         0\n",
       "dtype: int64"
      ]
     },
     "execution_count": 5,
     "metadata": {},
     "output_type": "execute_result"
    }
   ],
   "source": [
    "user_data.isnull().sum()"
   ]
  },
  {
   "cell_type": "code",
   "execution_count": 6,
   "metadata": {
    "scrolled": true
   },
   "outputs": [
    {
     "data": {
      "text/plain": [
       "Male      0.428571\n",
       "Female    0.285714\n",
       "None      0.285714\n",
       "Name: Gender, dtype: float64"
      ]
     },
     "execution_count": 6,
     "metadata": {},
     "output_type": "execute_result"
    }
   ],
   "source": [
    "user_data.Gender.value_counts()/len(user_data)"
   ]
  },
  {
   "cell_type": "code",
   "execution_count": 7,
   "metadata": {
    "scrolled": true
   },
   "outputs": [
    {
     "data": {
      "text/plain": [
       "funny                   int64\n",
       "compliment_photos       int64\n",
       "yelping_since          object\n",
       "cool                    int64\n",
       "compliment_more         int64\n",
       "compliment_writer       int64\n",
       "compliment_cool         int64\n",
       "compliment_plain        int64\n",
       "compliment_cute         int64\n",
       "compliment_hot          int64\n",
       "compliment_profile      int64\n",
       "fans                    int64\n",
       "user_id                object\n",
       "name                   object\n",
       "Gender                 object\n",
       "compliment_note         int64\n",
       "compliment_list         int64\n",
       "elite                  object\n",
       "review_count            int64\n",
       "friends                object\n",
       "useful                  int64\n",
       "compliment_funny        int64\n",
       "average_stars         float64\n",
       "dtype: object"
      ]
     },
     "execution_count": 7,
     "metadata": {},
     "output_type": "execute_result"
    }
   ],
   "source": [
    "user_data.dtypes"
   ]
  },
  {
   "cell_type": "code",
   "execution_count": 8,
   "metadata": {},
   "outputs": [],
   "source": [
    "#user_data[user_data.Gender=='None'].head(20)"
   ]
  },
  {
   "cell_type": "code",
   "execution_count": 9,
   "metadata": {},
   "outputs": [
    {
     "data": {
      "text/html": [
       "<div>\n",
       "<style scoped>\n",
       "    .dataframe tbody tr th:only-of-type {\n",
       "        vertical-align: middle;\n",
       "    }\n",
       "\n",
       "    .dataframe tbody tr th {\n",
       "        vertical-align: top;\n",
       "    }\n",
       "\n",
       "    .dataframe thead th {\n",
       "        text-align: right;\n",
       "    }\n",
       "</style>\n",
       "<table border=\"1\" class=\"dataframe\">\n",
       "  <thead>\n",
       "    <tr style=\"text-align: right;\">\n",
       "      <th></th>\n",
       "      <th>funny</th>\n",
       "      <th>compliment_photos</th>\n",
       "      <th>yelping_since</th>\n",
       "      <th>cool</th>\n",
       "      <th>compliment_more</th>\n",
       "      <th>compliment_writer</th>\n",
       "      <th>compliment_cool</th>\n",
       "      <th>compliment_plain</th>\n",
       "      <th>compliment_cute</th>\n",
       "      <th>compliment_hot</th>\n",
       "      <th>...</th>\n",
       "      <th>name</th>\n",
       "      <th>Gender</th>\n",
       "      <th>compliment_note</th>\n",
       "      <th>compliment_list</th>\n",
       "      <th>elite</th>\n",
       "      <th>review_count</th>\n",
       "      <th>friends</th>\n",
       "      <th>useful</th>\n",
       "      <th>compliment_funny</th>\n",
       "      <th>average_stars</th>\n",
       "    </tr>\n",
       "  </thead>\n",
       "  <tbody>\n",
       "    <tr>\n",
       "      <th>0</th>\n",
       "      <td>0</td>\n",
       "      <td>0</td>\n",
       "      <td>2015-09-28</td>\n",
       "      <td>0</td>\n",
       "      <td>0</td>\n",
       "      <td>0</td>\n",
       "      <td>0</td>\n",
       "      <td>0</td>\n",
       "      <td>0</td>\n",
       "      <td>0</td>\n",
       "      <td>...</td>\n",
       "      <td>Susan</td>\n",
       "      <td>0</td>\n",
       "      <td>0</td>\n",
       "      <td>0</td>\n",
       "      <td>None</td>\n",
       "      <td>1</td>\n",
       "      <td>None</td>\n",
       "      <td>0</td>\n",
       "      <td>0</td>\n",
       "      <td>2.00</td>\n",
       "    </tr>\n",
       "    <tr>\n",
       "      <th>1</th>\n",
       "      <td>0</td>\n",
       "      <td>0</td>\n",
       "      <td>2015-09-05</td>\n",
       "      <td>0</td>\n",
       "      <td>0</td>\n",
       "      <td>0</td>\n",
       "      <td>0</td>\n",
       "      <td>0</td>\n",
       "      <td>0</td>\n",
       "      <td>0</td>\n",
       "      <td>...</td>\n",
       "      <td>Daipayan</td>\n",
       "      <td>2</td>\n",
       "      <td>0</td>\n",
       "      <td>0</td>\n",
       "      <td>None</td>\n",
       "      <td>2</td>\n",
       "      <td>None</td>\n",
       "      <td>0</td>\n",
       "      <td>0</td>\n",
       "      <td>5.00</td>\n",
       "    </tr>\n",
       "    <tr>\n",
       "      <th>2</th>\n",
       "      <td>0</td>\n",
       "      <td>0</td>\n",
       "      <td>2016-07-21</td>\n",
       "      <td>0</td>\n",
       "      <td>0</td>\n",
       "      <td>0</td>\n",
       "      <td>0</td>\n",
       "      <td>0</td>\n",
       "      <td>0</td>\n",
       "      <td>0</td>\n",
       "      <td>...</td>\n",
       "      <td>Andy</td>\n",
       "      <td>1</td>\n",
       "      <td>0</td>\n",
       "      <td>0</td>\n",
       "      <td>None</td>\n",
       "      <td>1</td>\n",
       "      <td>None</td>\n",
       "      <td>0</td>\n",
       "      <td>0</td>\n",
       "      <td>4.00</td>\n",
       "    </tr>\n",
       "    <tr>\n",
       "      <th>3</th>\n",
       "      <td>0</td>\n",
       "      <td>0</td>\n",
       "      <td>2014-08-04</td>\n",
       "      <td>0</td>\n",
       "      <td>0</td>\n",
       "      <td>0</td>\n",
       "      <td>0</td>\n",
       "      <td>0</td>\n",
       "      <td>0</td>\n",
       "      <td>0</td>\n",
       "      <td>...</td>\n",
       "      <td>Jonathan</td>\n",
       "      <td>1</td>\n",
       "      <td>0</td>\n",
       "      <td>0</td>\n",
       "      <td>None</td>\n",
       "      <td>19</td>\n",
       "      <td>None</td>\n",
       "      <td>0</td>\n",
       "      <td>0</td>\n",
       "      <td>4.05</td>\n",
       "    </tr>\n",
       "    <tr>\n",
       "      <th>4</th>\n",
       "      <td>0</td>\n",
       "      <td>0</td>\n",
       "      <td>2017-06-18</td>\n",
       "      <td>0</td>\n",
       "      <td>0</td>\n",
       "      <td>0</td>\n",
       "      <td>0</td>\n",
       "      <td>0</td>\n",
       "      <td>0</td>\n",
       "      <td>0</td>\n",
       "      <td>...</td>\n",
       "      <td>Shashank</td>\n",
       "      <td>1</td>\n",
       "      <td>0</td>\n",
       "      <td>0</td>\n",
       "      <td>None</td>\n",
       "      <td>3</td>\n",
       "      <td>None</td>\n",
       "      <td>0</td>\n",
       "      <td>0</td>\n",
       "      <td>3.00</td>\n",
       "    </tr>\n",
       "    <tr>\n",
       "      <th>5</th>\n",
       "      <td>0</td>\n",
       "      <td>0</td>\n",
       "      <td>2014-08-27</td>\n",
       "      <td>0</td>\n",
       "      <td>0</td>\n",
       "      <td>0</td>\n",
       "      <td>0</td>\n",
       "      <td>0</td>\n",
       "      <td>0</td>\n",
       "      <td>0</td>\n",
       "      <td>...</td>\n",
       "      <td>Stacey X Joe</td>\n",
       "      <td>2</td>\n",
       "      <td>0</td>\n",
       "      <td>0</td>\n",
       "      <td>None</td>\n",
       "      <td>3</td>\n",
       "      <td>None</td>\n",
       "      <td>0</td>\n",
       "      <td>0</td>\n",
       "      <td>5.00</td>\n",
       "    </tr>\n",
       "    <tr>\n",
       "      <th>6</th>\n",
       "      <td>0</td>\n",
       "      <td>0</td>\n",
       "      <td>2016-02-02</td>\n",
       "      <td>0</td>\n",
       "      <td>0</td>\n",
       "      <td>0</td>\n",
       "      <td>0</td>\n",
       "      <td>0</td>\n",
       "      <td>0</td>\n",
       "      <td>0</td>\n",
       "      <td>...</td>\n",
       "      <td>Lindsay</td>\n",
       "      <td>0</td>\n",
       "      <td>0</td>\n",
       "      <td>0</td>\n",
       "      <td>None</td>\n",
       "      <td>2</td>\n",
       "      <td>None</td>\n",
       "      <td>0</td>\n",
       "      <td>0</td>\n",
       "      <td>5.00</td>\n",
       "    </tr>\n",
       "  </tbody>\n",
       "</table>\n",
       "<p>7 rows × 23 columns</p>\n",
       "</div>"
      ],
      "text/plain": [
       "   funny  compliment_photos yelping_since  cool  compliment_more  \\\n",
       "0      0                  0    2015-09-28     0                0   \n",
       "1      0                  0    2015-09-05     0                0   \n",
       "2      0                  0    2016-07-21     0                0   \n",
       "3      0                  0    2014-08-04     0                0   \n",
       "4      0                  0    2017-06-18     0                0   \n",
       "5      0                  0    2014-08-27     0                0   \n",
       "6      0                  0    2016-02-02     0                0   \n",
       "\n",
       "   compliment_writer  compliment_cool  compliment_plain  compliment_cute  \\\n",
       "0                  0                0                 0                0   \n",
       "1                  0                0                 0                0   \n",
       "2                  0                0                 0                0   \n",
       "3                  0                0                 0                0   \n",
       "4                  0                0                 0                0   \n",
       "5                  0                0                 0                0   \n",
       "6                  0                0                 0                0   \n",
       "\n",
       "   compliment_hot  ...          name  Gender compliment_note compliment_list  \\\n",
       "0               0  ...         Susan       0               0               0   \n",
       "1               0  ...      Daipayan       2               0               0   \n",
       "2               0  ...          Andy       1               0               0   \n",
       "3               0  ...      Jonathan       1               0               0   \n",
       "4               0  ...      Shashank       1               0               0   \n",
       "5               0  ...  Stacey X Joe       2               0               0   \n",
       "6               0  ...       Lindsay       0               0               0   \n",
       "\n",
       "   elite  review_count  friends useful  compliment_funny average_stars  \n",
       "0   None             1     None      0                 0          2.00  \n",
       "1   None             2     None      0                 0          5.00  \n",
       "2   None             1     None      0                 0          4.00  \n",
       "3   None            19     None      0                 0          4.05  \n",
       "4   None             3     None      0                 0          3.00  \n",
       "5   None             3     None      0                 0          5.00  \n",
       "6   None             2     None      0                 0          5.00  \n",
       "\n",
       "[7 rows x 23 columns]"
      ]
     },
     "execution_count": 9,
     "metadata": {},
     "output_type": "execute_result"
    }
   ],
   "source": [
    "lb_make = LabelEncoder()\n",
    "user_data[\"Gender\"] = lb_make.fit_transform(user_data[\"Gender\"])\n",
    "user_data.head(10)"
   ]
  },
  {
   "cell_type": "markdown",
   "metadata": {},
   "source": [
    "Gender: Female-->0, Male-->1, None-->2\n",
    "\n",
    "'yelping_since' date format: yyyy-mm-dd"
   ]
  },
  {
   "cell_type": "code",
   "execution_count": 10,
   "metadata": {},
   "outputs": [],
   "source": [
    "# the datetime attribute 'dt' (inbuilt attribute of Series)\n",
    "user_data['yelping_since'] = pd.to_datetime(user_data['yelping_since'])\n",
    "user_data['year'], user_data['month'] = user_data['yelping_since'].dt.year, user_data['yelping_since'].dt.month"
   ]
  },
  {
   "cell_type": "code",
   "execution_count": 11,
   "metadata": {},
   "outputs": [
    {
     "data": {
      "text/html": [
       "<div>\n",
       "<style scoped>\n",
       "    .dataframe tbody tr th:only-of-type {\n",
       "        vertical-align: middle;\n",
       "    }\n",
       "\n",
       "    .dataframe tbody tr th {\n",
       "        vertical-align: top;\n",
       "    }\n",
       "\n",
       "    .dataframe thead th {\n",
       "        text-align: right;\n",
       "    }\n",
       "</style>\n",
       "<table border=\"1\" class=\"dataframe\">\n",
       "  <thead>\n",
       "    <tr style=\"text-align: right;\">\n",
       "      <th></th>\n",
       "      <th>funny</th>\n",
       "      <th>compliment_photos</th>\n",
       "      <th>yelping_since</th>\n",
       "      <th>cool</th>\n",
       "      <th>compliment_more</th>\n",
       "      <th>compliment_writer</th>\n",
       "      <th>compliment_cool</th>\n",
       "      <th>compliment_plain</th>\n",
       "      <th>compliment_cute</th>\n",
       "      <th>compliment_hot</th>\n",
       "      <th>...</th>\n",
       "      <th>compliment_note</th>\n",
       "      <th>compliment_list</th>\n",
       "      <th>elite</th>\n",
       "      <th>review_count</th>\n",
       "      <th>friends</th>\n",
       "      <th>useful</th>\n",
       "      <th>compliment_funny</th>\n",
       "      <th>average_stars</th>\n",
       "      <th>year</th>\n",
       "      <th>month</th>\n",
       "    </tr>\n",
       "  </thead>\n",
       "  <tbody>\n",
       "    <tr>\n",
       "      <th>0</th>\n",
       "      <td>0</td>\n",
       "      <td>0</td>\n",
       "      <td>2015-09-28</td>\n",
       "      <td>0</td>\n",
       "      <td>0</td>\n",
       "      <td>0</td>\n",
       "      <td>0</td>\n",
       "      <td>0</td>\n",
       "      <td>0</td>\n",
       "      <td>0</td>\n",
       "      <td>...</td>\n",
       "      <td>0</td>\n",
       "      <td>0</td>\n",
       "      <td>None</td>\n",
       "      <td>1</td>\n",
       "      <td>None</td>\n",
       "      <td>0</td>\n",
       "      <td>0</td>\n",
       "      <td>2.00</td>\n",
       "      <td>2015</td>\n",
       "      <td>9</td>\n",
       "    </tr>\n",
       "    <tr>\n",
       "      <th>1</th>\n",
       "      <td>0</td>\n",
       "      <td>0</td>\n",
       "      <td>2015-09-05</td>\n",
       "      <td>0</td>\n",
       "      <td>0</td>\n",
       "      <td>0</td>\n",
       "      <td>0</td>\n",
       "      <td>0</td>\n",
       "      <td>0</td>\n",
       "      <td>0</td>\n",
       "      <td>...</td>\n",
       "      <td>0</td>\n",
       "      <td>0</td>\n",
       "      <td>None</td>\n",
       "      <td>2</td>\n",
       "      <td>None</td>\n",
       "      <td>0</td>\n",
       "      <td>0</td>\n",
       "      <td>5.00</td>\n",
       "      <td>2015</td>\n",
       "      <td>9</td>\n",
       "    </tr>\n",
       "    <tr>\n",
       "      <th>2</th>\n",
       "      <td>0</td>\n",
       "      <td>0</td>\n",
       "      <td>2016-07-21</td>\n",
       "      <td>0</td>\n",
       "      <td>0</td>\n",
       "      <td>0</td>\n",
       "      <td>0</td>\n",
       "      <td>0</td>\n",
       "      <td>0</td>\n",
       "      <td>0</td>\n",
       "      <td>...</td>\n",
       "      <td>0</td>\n",
       "      <td>0</td>\n",
       "      <td>None</td>\n",
       "      <td>1</td>\n",
       "      <td>None</td>\n",
       "      <td>0</td>\n",
       "      <td>0</td>\n",
       "      <td>4.00</td>\n",
       "      <td>2016</td>\n",
       "      <td>7</td>\n",
       "    </tr>\n",
       "    <tr>\n",
       "      <th>3</th>\n",
       "      <td>0</td>\n",
       "      <td>0</td>\n",
       "      <td>2014-08-04</td>\n",
       "      <td>0</td>\n",
       "      <td>0</td>\n",
       "      <td>0</td>\n",
       "      <td>0</td>\n",
       "      <td>0</td>\n",
       "      <td>0</td>\n",
       "      <td>0</td>\n",
       "      <td>...</td>\n",
       "      <td>0</td>\n",
       "      <td>0</td>\n",
       "      <td>None</td>\n",
       "      <td>19</td>\n",
       "      <td>None</td>\n",
       "      <td>0</td>\n",
       "      <td>0</td>\n",
       "      <td>4.05</td>\n",
       "      <td>2014</td>\n",
       "      <td>8</td>\n",
       "    </tr>\n",
       "    <tr>\n",
       "      <th>4</th>\n",
       "      <td>0</td>\n",
       "      <td>0</td>\n",
       "      <td>2017-06-18</td>\n",
       "      <td>0</td>\n",
       "      <td>0</td>\n",
       "      <td>0</td>\n",
       "      <td>0</td>\n",
       "      <td>0</td>\n",
       "      <td>0</td>\n",
       "      <td>0</td>\n",
       "      <td>...</td>\n",
       "      <td>0</td>\n",
       "      <td>0</td>\n",
       "      <td>None</td>\n",
       "      <td>3</td>\n",
       "      <td>None</td>\n",
       "      <td>0</td>\n",
       "      <td>0</td>\n",
       "      <td>3.00</td>\n",
       "      <td>2017</td>\n",
       "      <td>6</td>\n",
       "    </tr>\n",
       "  </tbody>\n",
       "</table>\n",
       "<p>5 rows × 25 columns</p>\n",
       "</div>"
      ],
      "text/plain": [
       "   funny  compliment_photos yelping_since  cool  compliment_more  \\\n",
       "0      0                  0    2015-09-28     0                0   \n",
       "1      0                  0    2015-09-05     0                0   \n",
       "2      0                  0    2016-07-21     0                0   \n",
       "3      0                  0    2014-08-04     0                0   \n",
       "4      0                  0    2017-06-18     0                0   \n",
       "\n",
       "   compliment_writer  compliment_cool  compliment_plain  compliment_cute  \\\n",
       "0                  0                0                 0                0   \n",
       "1                  0                0                 0                0   \n",
       "2                  0                0                 0                0   \n",
       "3                  0                0                 0                0   \n",
       "4                  0                0                 0                0   \n",
       "\n",
       "   compliment_hot  ...  compliment_note  compliment_list elite review_count  \\\n",
       "0               0  ...                0                0  None            1   \n",
       "1               0  ...                0                0  None            2   \n",
       "2               0  ...                0                0  None            1   \n",
       "3               0  ...                0                0  None           19   \n",
       "4               0  ...                0                0  None            3   \n",
       "\n",
       "   friends  useful  compliment_funny average_stars  year month  \n",
       "0     None       0                 0          2.00  2015     9  \n",
       "1     None       0                 0          5.00  2015     9  \n",
       "2     None       0                 0          4.00  2016     7  \n",
       "3     None       0                 0          4.05  2014     8  \n",
       "4     None       0                 0          3.00  2017     6  \n",
       "\n",
       "[5 rows x 25 columns]"
      ]
     },
     "execution_count": 11,
     "metadata": {},
     "output_type": "execute_result"
    }
   ],
   "source": [
    "user_data.head()"
   ]
  },
  {
   "cell_type": "code",
   "execution_count": 12,
   "metadata": {},
   "outputs": [
    {
     "data": {
      "text/plain": [
       "1    3\n",
       "0    2\n",
       "2    2\n",
       "Name: Gender, dtype: int64"
      ]
     },
     "execution_count": 12,
     "metadata": {},
     "output_type": "execute_result"
    }
   ],
   "source": [
    "user_data.Gender.value_counts()"
   ]
  },
  {
   "cell_type": "code",
   "execution_count": 13,
   "metadata": {},
   "outputs": [
    {
     "data": {
      "text/plain": [
       "1    0.428571\n",
       "0    0.285714\n",
       "2    0.285714\n",
       "Name: Gender, dtype: float64"
      ]
     },
     "execution_count": 13,
     "metadata": {},
     "output_type": "execute_result"
    }
   ],
   "source": [
    "user_data.Gender.value_counts()/len(user_data)"
   ]
  },
  {
   "cell_type": "markdown",
   "metadata": {},
   "source": [
    "Percentage of genders: Female: 48%, Male:35%, Unknown:16%"
   ]
  },
  {
   "cell_type": "code",
   "execution_count": 14,
   "metadata": {
    "scrolled": true
   },
   "outputs": [
    {
     "data": {
      "text/plain": [
       "1        Daipayan\n",
       "5    Stacey X Joe\n",
       "Name: name, dtype: object"
      ]
     },
     "execution_count": 14,
     "metadata": {},
     "output_type": "execute_result"
    }
   ],
   "source": [
    "user_data[user_data.Gender==2]['name'].head()"
   ]
  },
  {
   "cell_type": "code",
   "execution_count": 15,
   "metadata": {},
   "outputs": [
    {
     "data": {
      "text/plain": [
       "3"
      ]
     },
     "execution_count": 15,
     "metadata": {},
     "output_type": "execute_result"
    }
   ],
   "source": [
    "#total reviews given by Females\n",
    "user_data[user_data.Gender==0]['review_count'].sum()\n"
   ]
  },
  {
   "cell_type": "code",
   "execution_count": 16,
   "metadata": {},
   "outputs": [
    {
     "data": {
      "text/plain": [
       "3"
      ]
     },
     "execution_count": 16,
     "metadata": {},
     "output_type": "execute_result"
    }
   ],
   "source": [
    "user_data[user_data.Gender==0]['review_count'].sum()\n"
   ]
  },
  {
   "cell_type": "code",
   "execution_count": 17,
   "metadata": {},
   "outputs": [
    {
     "data": {
      "image/png": "[encoded data removed]",
      "text/plain": [
       "<Figure size 640x480 with 1 Axes>"
      ]
     },
     "metadata": {},
     "output_type": "display_data"
    }
   ],
   "source": [
    "# plt.bar(['Female','Male','Unknown'],[\n",
    "#     user_data[user_data.Gender==0]['review_count'].sum(),\n",
    "#     user_data[user_data.Gender==1]['review_count'].sum(),\n",
    "#     user_data[user_data.Gender==2]['review_count'].sum()\n",
    "#                                     ] )\n",
    "# plt.title(\"Reviews per gender\")\n",
    "# plt.ylabel('No. of Reviews')\n",
    "# plt.xlabel('Gender')\n",
    "# plt.show()\n",
    "plt.bar(['Female','Male'],[\n",
    "    user_data[user_data.Gender==0]['review_count'].sum(),\n",
    "    user_data[user_data.Gender==1]['review_count'].sum()\n",
    "                                    ] )\n",
    "plt.title(\"Reviews given per gender\")\n",
    "plt.ylabel('No. of Reviews')\n",
    "plt.xlabel('Gender')\n",
    "plt.show()"
   ]
  },
  {
   "cell_type": "markdown",
   "metadata": {},
   "source": [
    "As females on an average tend to give more reviews than males, businesses can take advantage of this diversity by  targetting the male audience and see whether this transitions into more reviews and sales?"
   ]
  },
  {
   "cell_type": "code",
   "execution_count": 18,
   "metadata": {
    "scrolled": true
   },
   "outputs": [],
   "source": [
    "#user_data.groupby(['Gender','year']).size()"
   ]
  },
  {
   "cell_type": "code",
   "execution_count": 19,
   "metadata": {},
   "outputs": [],
   "source": [
    "#user_data.groupby(['Gender','year']).size()[0].index"
   ]
  },
  {
   "cell_type": "code",
   "execution_count": 20,
   "metadata": {},
   "outputs": [],
   "source": [
    "#user_data.groupby(['Gender','year']).size()[0].values"
   ]
  },
  {
   "cell_type": "code",
   "execution_count": 21,
   "metadata": {},
   "outputs": [],
   "source": [
    "#ax = plt.subplot(111)\n",
    "#ax.bar(user_data.groupby(['Gender','year']).size()[0].index, \n",
    "#       user_data.groupby(['Gender','year']).size()[0].values   ,width=0.2,color='b',align='center')\n",
    "#ax.bar(user_data.groupby(['Gender','year']).size()[1].index,   \n",
    "#       user_data.groupby(['Gender','year']).size()[1].values   ,width=0.2,color='g',align='center')\n",
    "#ax.bar(user_data.groupby(['Gender','year']).size()[2].index,   \n",
    "#       user_data.groupby(['Gender','year']).size()[2].values   ,width=0.2,color='r',align='center')\n",
    "#plt.show()"
   ]
  },
  {
   "cell_type": "code",
   "execution_count": 22,
   "metadata": {
    "scrolled": false
   },
   "outputs": [
    {
     "data": {
      "image/png": "[encoded data removed]",
      "text/plain": [
       "<Figure size 1500x400 with 1 Axes>"
      ]
     },
     "metadata": {},
     "output_type": "display_data"
    }
   ],
   "source": [
    "plt.figure(figsize=(15,4))\n",
    "ax = plt.subplot(111)\n",
    "w = 0.2 #default width\n",
    "ax.bar(user_data.groupby(['Gender','year']).size()[0].index-w, \n",
    "       user_data.groupby(['Gender','year']).size()[0].values   ,width=w,color='b',label='Female')\n",
    "ax.bar(user_data.groupby(['Gender','year']).size()[1].index,   \n",
    "       user_data.groupby(['Gender','year']).size()[1].values   ,width=w,color='r',label='Male')\n",
    "#ax.bar(user_data.groupby(['Gender','year']).size()[2].index+w,   \n",
    "#       user_data.groupby(['Gender','year']).size()[2].values   ,width=w,color='r',label='Other')\n",
    "ax.legend()\n",
    "plt.title(\"Users added per year\")\n",
    "plt.ylabel('User count')\n",
    "plt.xlabel('Year')\n",
    "#ax.xaxis_date()\n",
    "ax.autoscale(tight=True)\n",
    "plt.show()"
   ]
  },
  {
   "cell_type": "markdown",
   "metadata": {},
   "source": [
    "#### We see that the no. of female users increases from the year 2009 onwards"
   ]
  },
  {
   "cell_type": "code",
   "execution_count": null,
   "metadata": {},
   "outputs": [],
   "source": []
  }
 ],
 "metadata": {
  "kernelspec": {
   "display_name": "Python 3 (ipykernel)",
   "language": "python",
   "name": "python3"
  },
  "language_info": {
   "codemirror_mode": {
    "name": "ipython",
    "version": 3
   },
   "file_extension": ".py",
   "mimetype": "text/x-python",
   "name": "python",
   "nbconvert_exporter": "python",
   "pygments_lexer": "ipython3",
   "version": "3.10.6"
  }
 },
 "nbformat": 4,
 "nbformat_minor": 2
}
