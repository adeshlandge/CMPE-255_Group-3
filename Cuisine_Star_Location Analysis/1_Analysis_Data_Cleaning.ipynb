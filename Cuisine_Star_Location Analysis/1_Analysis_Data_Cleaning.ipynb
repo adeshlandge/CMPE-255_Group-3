{
 "cells": [
  {
   "cell_type": "markdown",
   "metadata": {},
   "source": [
    "# Exploratory Analysis and Data Cleaning"
   ]
  },
  {
   "cell_type": "code",
   "execution_count": 1,
   "metadata": {},
   "outputs": [],
   "source": [
    "import matplotlib.pyplot as plt\n",
    "import pandas as pd\n",
    "import numpy as np\n",
    "import seaborn as sns\n",
    "sns.set(style=\"whitegrid\")\n",
    "import os.path"
   ]
  },
  {
   "cell_type": "markdown",
   "metadata": {},
   "source": [
    "# Reading the data from yelp_academic_dataset_business.csv file."
   ]
  },
  {
   "cell_type": "code",
   "execution_count": null,
   "metadata": {},
   "outputs": [],
   "source": [
    "business = pd.read_csv('yelp_dataset_data/yelp_academic_dataset_business.csv')"
   ]
  },
  {
   "cell_type": "code",
   "execution_count": 4,
   "metadata": {},
   "outputs": [
    {
     "data": {
      "text/html": [
       "<div>\n",
       "<style scoped>\n",
       "    .dataframe tbody tr th:only-of-type {\n",
       "        vertical-align: middle;\n",
       "    }\n",
       "\n",
       "    .dataframe tbody tr th {\n",
       "        vertical-align: top;\n",
       "    }\n",
       "\n",
       "    .dataframe thead th {\n",
       "        text-align: right;\n",
       "    }\n",
       "</style>\n",
       "<table border=\"1\" class=\"dataframe\">\n",
       "  <thead>\n",
       "    <tr style=\"text-align: right;\">\n",
       "      <th></th>\n",
       "      <th>business_id</th>\n",
       "      <th>attributes.Smoking</th>\n",
       "      <th>hours.Saturday</th>\n",
       "      <th>attributes.GoodForDancing</th>\n",
       "      <th>attributes.DriveThru</th>\n",
       "      <th>attributes.WiFi</th>\n",
       "      <th>hours.Monday</th>\n",
       "      <th>hours</th>\n",
       "      <th>postal_code</th>\n",
       "      <th>attributes.BYOB</th>\n",
       "      <th>...</th>\n",
       "      <th>attributes.RestaurantsGoodForGroups</th>\n",
       "      <th>attributes.AcceptsInsurance</th>\n",
       "      <th>attributes.BestNights</th>\n",
       "      <th>attributes.CoatCheck</th>\n",
       "      <th>attributes.RestaurantsTableService</th>\n",
       "      <th>attributes.Ambience</th>\n",
       "      <th>attributes.HairSpecializesIn</th>\n",
       "      <th>attributes.DietaryRestrictions</th>\n",
       "      <th>attributes.RestaurantsPriceRange2</th>\n",
       "      <th>attributes.RestaurantsDelivery</th>\n",
       "    </tr>\n",
       "  </thead>\n",
       "  <tbody>\n",
       "    <tr>\n",
       "      <th>0</th>\n",
       "      <td>Pns2l4eNsfO8kk83dixA6A</td>\n",
       "      <td>NaN</td>\n",
       "      <td>NaN</td>\n",
       "      <td>NaN</td>\n",
       "      <td>NaN</td>\n",
       "      <td>NaN</td>\n",
       "      <td>NaN</td>\n",
       "      <td>NaN</td>\n",
       "      <td>93101</td>\n",
       "      <td>NaN</td>\n",
       "      <td>...</td>\n",
       "      <td>NaN</td>\n",
       "      <td>NaN</td>\n",
       "      <td>NaN</td>\n",
       "      <td>NaN</td>\n",
       "      <td>NaN</td>\n",
       "      <td>NaN</td>\n",
       "      <td>NaN</td>\n",
       "      <td>NaN</td>\n",
       "      <td>NaN</td>\n",
       "      <td>NaN</td>\n",
       "    </tr>\n",
       "    <tr>\n",
       "      <th>1</th>\n",
       "      <td>mpf3x-BjTdTEA3yCZrAYPw</td>\n",
       "      <td>NaN</td>\n",
       "      <td>8:0-14:0</td>\n",
       "      <td>NaN</td>\n",
       "      <td>NaN</td>\n",
       "      <td>NaN</td>\n",
       "      <td>0:0-0:0</td>\n",
       "      <td>{'Monday': '0:0-0:0', 'Tuesday': '8:0-18:30', ...</td>\n",
       "      <td>63123</td>\n",
       "      <td>NaN</td>\n",
       "      <td>...</td>\n",
       "      <td>NaN</td>\n",
       "      <td>NaN</td>\n",
       "      <td>NaN</td>\n",
       "      <td>NaN</td>\n",
       "      <td>NaN</td>\n",
       "      <td>NaN</td>\n",
       "      <td>NaN</td>\n",
       "      <td>NaN</td>\n",
       "      <td>NaN</td>\n",
       "      <td>NaN</td>\n",
       "    </tr>\n",
       "    <tr>\n",
       "      <th>2</th>\n",
       "      <td>tUFrWirKiKi_TAnsVWINQQ</td>\n",
       "      <td>NaN</td>\n",
       "      <td>8:0-23:0</td>\n",
       "      <td>NaN</td>\n",
       "      <td>NaN</td>\n",
       "      <td>u'no'</td>\n",
       "      <td>8:0-22:0</td>\n",
       "      <td>{'Monday': '8:0-22:0', 'Tuesday': '8:0-22:0', ...</td>\n",
       "      <td>85711</td>\n",
       "      <td>NaN</td>\n",
       "      <td>...</td>\n",
       "      <td>NaN</td>\n",
       "      <td>NaN</td>\n",
       "      <td>NaN</td>\n",
       "      <td>False</td>\n",
       "      <td>NaN</td>\n",
       "      <td>NaN</td>\n",
       "      <td>NaN</td>\n",
       "      <td>NaN</td>\n",
       "      <td>2</td>\n",
       "      <td>False</td>\n",
       "    </tr>\n",
       "    <tr>\n",
       "      <th>3</th>\n",
       "      <td>MTSW4McQd7CbVtyjqoe9mw</td>\n",
       "      <td>NaN</td>\n",
       "      <td>7:0-21:0</td>\n",
       "      <td>NaN</td>\n",
       "      <td>NaN</td>\n",
       "      <td>u'free'</td>\n",
       "      <td>7:0-20:0</td>\n",
       "      <td>{'Monday': '7:0-20:0', 'Tuesday': '7:0-20:0', ...</td>\n",
       "      <td>19107</td>\n",
       "      <td>NaN</td>\n",
       "      <td>...</td>\n",
       "      <td>NaN</td>\n",
       "      <td>NaN</td>\n",
       "      <td>NaN</td>\n",
       "      <td>NaN</td>\n",
       "      <td>NaN</td>\n",
       "      <td>NaN</td>\n",
       "      <td>NaN</td>\n",
       "      <td>NaN</td>\n",
       "      <td>1</td>\n",
       "      <td>False</td>\n",
       "    </tr>\n",
       "    <tr>\n",
       "      <th>4</th>\n",
       "      <td>mWMc6_wTdE0EUBKIGXDVfA</td>\n",
       "      <td>NaN</td>\n",
       "      <td>12:0-22:0</td>\n",
       "      <td>NaN</td>\n",
       "      <td>NaN</td>\n",
       "      <td>NaN</td>\n",
       "      <td>NaN</td>\n",
       "      <td>{'Wednesday': '14:0-22:0', 'Thursday': '16:0-2...</td>\n",
       "      <td>18054</td>\n",
       "      <td>NaN</td>\n",
       "      <td>...</td>\n",
       "      <td>NaN</td>\n",
       "      <td>NaN</td>\n",
       "      <td>NaN</td>\n",
       "      <td>NaN</td>\n",
       "      <td>NaN</td>\n",
       "      <td>NaN</td>\n",
       "      <td>NaN</td>\n",
       "      <td>NaN</td>\n",
       "      <td>NaN</td>\n",
       "      <td>NaN</td>\n",
       "    </tr>\n",
       "  </tbody>\n",
       "</table>\n",
       "<p>5 rows × 60 columns</p>\n",
       "</div>"
      ],
      "text/plain": [
       "              business_id attributes.Smoking hours.Saturday  \\\n",
       "0  Pns2l4eNsfO8kk83dixA6A                NaN            NaN   \n",
       "1  mpf3x-BjTdTEA3yCZrAYPw                NaN       8:0-14:0   \n",
       "2  tUFrWirKiKi_TAnsVWINQQ                NaN       8:0-23:0   \n",
       "3  MTSW4McQd7CbVtyjqoe9mw                NaN       7:0-21:0   \n",
       "4  mWMc6_wTdE0EUBKIGXDVfA                NaN      12:0-22:0   \n",
       "\n",
       "  attributes.GoodForDancing attributes.DriveThru attributes.WiFi hours.Monday  \\\n",
       "0                       NaN                  NaN             NaN          NaN   \n",
       "1                       NaN                  NaN             NaN      0:0-0:0   \n",
       "2                       NaN                  NaN           u'no'     8:0-22:0   \n",
       "3                       NaN                  NaN         u'free'     7:0-20:0   \n",
       "4                       NaN                  NaN             NaN          NaN   \n",
       "\n",
       "                                               hours postal_code  \\\n",
       "0                                                NaN       93101   \n",
       "1  {'Monday': '0:0-0:0', 'Tuesday': '8:0-18:30', ...       63123   \n",
       "2  {'Monday': '8:0-22:0', 'Tuesday': '8:0-22:0', ...       85711   \n",
       "3  {'Monday': '7:0-20:0', 'Tuesday': '7:0-20:0', ...       19107   \n",
       "4  {'Wednesday': '14:0-22:0', 'Thursday': '16:0-2...       18054   \n",
       "\n",
       "  attributes.BYOB  ... attributes.RestaurantsGoodForGroups  \\\n",
       "0             NaN  ...                                 NaN   \n",
       "1             NaN  ...                                 NaN   \n",
       "2             NaN  ...                                 NaN   \n",
       "3             NaN  ...                                 NaN   \n",
       "4             NaN  ...                                 NaN   \n",
       "\n",
       "  attributes.AcceptsInsurance attributes.BestNights attributes.CoatCheck  \\\n",
       "0                         NaN                   NaN                  NaN   \n",
       "1                         NaN                   NaN                  NaN   \n",
       "2                         NaN                   NaN                False   \n",
       "3                         NaN                   NaN                  NaN   \n",
       "4                         NaN                   NaN                  NaN   \n",
       "\n",
       "  attributes.RestaurantsTableService attributes.Ambience  \\\n",
       "0                                NaN                 NaN   \n",
       "1                                NaN                 NaN   \n",
       "2                                NaN                 NaN   \n",
       "3                                NaN                 NaN   \n",
       "4                                NaN                 NaN   \n",
       "\n",
       "  attributes.HairSpecializesIn  attributes.DietaryRestrictions  \\\n",
       "0                          NaN                             NaN   \n",
       "1                          NaN                             NaN   \n",
       "2                          NaN                             NaN   \n",
       "3                          NaN                             NaN   \n",
       "4                          NaN                             NaN   \n",
       "\n",
       "  attributes.RestaurantsPriceRange2 attributes.RestaurantsDelivery  \n",
       "0                               NaN                            NaN  \n",
       "1                               NaN                            NaN  \n",
       "2                                 2                          False  \n",
       "3                                 1                          False  \n",
       "4                               NaN                            NaN  \n",
       "\n",
       "[5 rows x 60 columns]"
      ]
     },
     "execution_count": 4,
     "metadata": {},
     "output_type": "execute_result"
    }
   ],
   "source": [
    "business.head()"
   ]
  },
  {
   "cell_type": "markdown",
   "metadata": {},
   "source": [
    "## Stars attribute"
   ]
  },
  {
   "cell_type": "code",
   "execution_count": 6,
   "metadata": {},
   "outputs": [
    {
     "data": {
      "text/plain": [
       "4.0    31125\n",
       "4.5    27181\n",
       "3.5    26519\n",
       "3.0    18453\n",
       "5.0    16307\n",
       "2.5    14316\n",
       "2.0     9527\n",
       "1.5     4932\n",
       "1.0     1986\n",
       "Name: stars, dtype: int64"
      ]
     },
     "execution_count": 6,
     "metadata": {},
     "output_type": "execute_result"
    }
   ],
   "source": [
    "business.stars.value_counts()"
   ]
  },
  {
   "cell_type": "code",
   "execution_count": 7,
   "metadata": {},
   "outputs": [],
   "source": [
    "business.stars = business.stars.astype('category')"
   ]
  },
  {
   "cell_type": "code",
   "execution_count": 8,
   "metadata": {},
   "outputs": [
    {
     "data": {
      "text/plain": [
       "count     150346.0\n",
       "unique         9.0\n",
       "top            4.0\n",
       "freq       31125.0\n",
       "Name: stars, dtype: float64"
      ]
     },
     "execution_count": 8,
     "metadata": {},
     "output_type": "execute_result"
    }
   ],
   "source": [
    "business.stars.describe()"
   ]
  },
  {
   "cell_type": "markdown",
   "metadata": {},
   "source": [
    "## Restricting to only open businesses."
   ]
  },
  {
   "cell_type": "code",
   "execution_count": 12,
   "metadata": {},
   "outputs": [],
   "source": [
    "business = business[business.is_open == 1]"
   ]
  },
  {
   "cell_type": "markdown",
   "metadata": {
    "toc-hr-collapsed": true
   },
   "source": [
    "## Exploring the State attribute"
   ]
  },
  {
   "cell_type": "code",
   "execution_count": 13,
   "metadata": {},
   "outputs": [
    {
     "data": {
      "text/plain": [
       "PA     26289\n",
       "FL     21540\n",
       "TN      9600\n",
       "IN      8946\n",
       "MO      8363\n",
       "AZ      8108\n",
       "LA      7676\n",
       "NJ      7031\n",
       "NV      6277\n",
       "AB      4346\n",
       "CA      4065\n",
       "ID      3783\n",
       "DE      1894\n",
       "IL      1765\n",
       "TX         4\n",
       "WA         2\n",
       "MA         2\n",
       "HI         1\n",
       "UT         1\n",
       "CO         1\n",
       "MI         1\n",
       "SD         1\n",
       "XMS        1\n",
       "VT         1\n",
       "Name: state, dtype: int64"
      ]
     },
     "execution_count": 13,
     "metadata": {},
     "output_type": "execute_result"
    }
   ],
   "source": [
    "business.state.value_counts()"
   ]
  },
  {
   "cell_type": "markdown",
   "metadata": {},
   "source": [
    "### Problem 1 - More than 50 states"
   ]
  },
  {
   "cell_type": "code",
   "execution_count": 15,
   "metadata": {},
   "outputs": [],
   "source": [
    "true_states = pd.read_csv('state_table.csv')"
   ]
  },
  {
   "cell_type": "code",
   "execution_count": 16,
   "metadata": {},
   "outputs": [
    {
     "data": {
      "text/html": [
       "<div>\n",
       "<style scoped>\n",
       "    .dataframe tbody tr th:only-of-type {\n",
       "        vertical-align: middle;\n",
       "    }\n",
       "\n",
       "    .dataframe tbody tr th {\n",
       "        vertical-align: top;\n",
       "    }\n",
       "\n",
       "    .dataframe thead th {\n",
       "        text-align: right;\n",
       "    }\n",
       "</style>\n",
       "<table border=\"1\" class=\"dataframe\">\n",
       "  <thead>\n",
       "    <tr style=\"text-align: right;\">\n",
       "      <th></th>\n",
       "      <th>id</th>\n",
       "      <th>name</th>\n",
       "      <th>abbreviation</th>\n",
       "      <th>country</th>\n",
       "      <th>type</th>\n",
       "      <th>sort</th>\n",
       "      <th>status</th>\n",
       "      <th>occupied</th>\n",
       "      <th>notes</th>\n",
       "      <th>fips_state</th>\n",
       "      <th>assoc_press</th>\n",
       "      <th>standard_federal_region</th>\n",
       "      <th>census_region</th>\n",
       "      <th>census_region_name</th>\n",
       "      <th>census_division</th>\n",
       "      <th>census_division_name</th>\n",
       "      <th>circuit_court</th>\n",
       "    </tr>\n",
       "  </thead>\n",
       "  <tbody>\n",
       "    <tr>\n",
       "      <th>0</th>\n",
       "      <td>1</td>\n",
       "      <td>Alabama</td>\n",
       "      <td>AL</td>\n",
       "      <td>USA</td>\n",
       "      <td>state</td>\n",
       "      <td>10</td>\n",
       "      <td>current</td>\n",
       "      <td>occupied</td>\n",
       "      <td>NaN</td>\n",
       "      <td>1.0</td>\n",
       "      <td>Ala.</td>\n",
       "      <td>IV</td>\n",
       "      <td>3.0</td>\n",
       "      <td>South</td>\n",
       "      <td>6.0</td>\n",
       "      <td>East South Central</td>\n",
       "      <td>11</td>\n",
       "    </tr>\n",
       "    <tr>\n",
       "      <th>1</th>\n",
       "      <td>2</td>\n",
       "      <td>Alaska</td>\n",
       "      <td>AK</td>\n",
       "      <td>USA</td>\n",
       "      <td>state</td>\n",
       "      <td>10</td>\n",
       "      <td>current</td>\n",
       "      <td>occupied</td>\n",
       "      <td>NaN</td>\n",
       "      <td>2.0</td>\n",
       "      <td>Alaska</td>\n",
       "      <td>X</td>\n",
       "      <td>4.0</td>\n",
       "      <td>West</td>\n",
       "      <td>9.0</td>\n",
       "      <td>Pacific</td>\n",
       "      <td>9</td>\n",
       "    </tr>\n",
       "    <tr>\n",
       "      <th>2</th>\n",
       "      <td>3</td>\n",
       "      <td>Arizona</td>\n",
       "      <td>AZ</td>\n",
       "      <td>USA</td>\n",
       "      <td>state</td>\n",
       "      <td>10</td>\n",
       "      <td>current</td>\n",
       "      <td>occupied</td>\n",
       "      <td>NaN</td>\n",
       "      <td>4.0</td>\n",
       "      <td>Ariz.</td>\n",
       "      <td>IX</td>\n",
       "      <td>4.0</td>\n",
       "      <td>West</td>\n",
       "      <td>8.0</td>\n",
       "      <td>Mountain</td>\n",
       "      <td>9</td>\n",
       "    </tr>\n",
       "    <tr>\n",
       "      <th>3</th>\n",
       "      <td>4</td>\n",
       "      <td>Arkansas</td>\n",
       "      <td>AR</td>\n",
       "      <td>USA</td>\n",
       "      <td>state</td>\n",
       "      <td>10</td>\n",
       "      <td>current</td>\n",
       "      <td>occupied</td>\n",
       "      <td>NaN</td>\n",
       "      <td>5.0</td>\n",
       "      <td>Ark.</td>\n",
       "      <td>VI</td>\n",
       "      <td>3.0</td>\n",
       "      <td>South</td>\n",
       "      <td>7.0</td>\n",
       "      <td>West South Central</td>\n",
       "      <td>8</td>\n",
       "    </tr>\n",
       "    <tr>\n",
       "      <th>4</th>\n",
       "      <td>5</td>\n",
       "      <td>California</td>\n",
       "      <td>CA</td>\n",
       "      <td>USA</td>\n",
       "      <td>state</td>\n",
       "      <td>10</td>\n",
       "      <td>current</td>\n",
       "      <td>occupied</td>\n",
       "      <td>NaN</td>\n",
       "      <td>6.0</td>\n",
       "      <td>Calif.</td>\n",
       "      <td>IX</td>\n",
       "      <td>4.0</td>\n",
       "      <td>West</td>\n",
       "      <td>9.0</td>\n",
       "      <td>Pacific</td>\n",
       "      <td>9</td>\n",
       "    </tr>\n",
       "  </tbody>\n",
       "</table>\n",
       "</div>"
      ],
      "text/plain": [
       "   id        name abbreviation country   type  sort   status  occupied notes  \\\n",
       "0   1     Alabama           AL     USA  state    10  current  occupied   NaN   \n",
       "1   2      Alaska           AK     USA  state    10  current  occupied   NaN   \n",
       "2   3     Arizona           AZ     USA  state    10  current  occupied   NaN   \n",
       "3   4    Arkansas           AR     USA  state    10  current  occupied   NaN   \n",
       "4   5  California           CA     USA  state    10  current  occupied   NaN   \n",
       "\n",
       "   fips_state assoc_press standard_federal_region  census_region  \\\n",
       "0         1.0        Ala.                      IV            3.0   \n",
       "1         2.0      Alaska                       X            4.0   \n",
       "2         4.0       Ariz.                      IX            4.0   \n",
       "3         5.0        Ark.                      VI            3.0   \n",
       "4         6.0      Calif.                      IX            4.0   \n",
       "\n",
       "  census_region_name  census_division census_division_name circuit_court  \n",
       "0              South              6.0   East South Central            11  \n",
       "1               West              9.0              Pacific             9  \n",
       "2               West              8.0             Mountain             9  \n",
       "3              South              7.0   West South Central             8  \n",
       "4               West              9.0              Pacific             9  "
      ]
     },
     "execution_count": 16,
     "metadata": {},
     "output_type": "execute_result"
    }
   ],
   "source": [
    "true_states.head()"
   ]
  },
  {
   "cell_type": "code",
   "execution_count": 17,
   "metadata": {},
   "outputs": [],
   "source": [
    "true_states = true_states[['name','abbreviation','country','census_region','census_division']]\n",
    "#true_states"
   ]
  },
  {
   "cell_type": "code",
   "execution_count": 18,
   "metadata": {},
   "outputs": [],
   "source": [
    "true_states = true_states.rename(index=str, columns={\"name\" : \"state_full\", \"abbreviation\" : \"true_state\"})"
   ]
  },
  {
   "cell_type": "code",
   "execution_count": 19,
   "metadata": {},
   "outputs": [
    {
     "data": {
      "text/html": [
       "<div>\n",
       "<style scoped>\n",
       "    .dataframe tbody tr th:only-of-type {\n",
       "        vertical-align: middle;\n",
       "    }\n",
       "\n",
       "    .dataframe tbody tr th {\n",
       "        vertical-align: top;\n",
       "    }\n",
       "\n",
       "    .dataframe thead th {\n",
       "        text-align: right;\n",
       "    }\n",
       "</style>\n",
       "<table border=\"1\" class=\"dataframe\">\n",
       "  <thead>\n",
       "    <tr style=\"text-align: right;\">\n",
       "      <th></th>\n",
       "      <th>state_full</th>\n",
       "      <th>true_state</th>\n",
       "      <th>country</th>\n",
       "      <th>census_region</th>\n",
       "      <th>census_division</th>\n",
       "    </tr>\n",
       "  </thead>\n",
       "  <tbody>\n",
       "    <tr>\n",
       "      <th>0</th>\n",
       "      <td>Alabama</td>\n",
       "      <td>AL</td>\n",
       "      <td>USA</td>\n",
       "      <td>3.0</td>\n",
       "      <td>6.0</td>\n",
       "    </tr>\n",
       "    <tr>\n",
       "      <th>1</th>\n",
       "      <td>Alaska</td>\n",
       "      <td>AK</td>\n",
       "      <td>USA</td>\n",
       "      <td>4.0</td>\n",
       "      <td>9.0</td>\n",
       "    </tr>\n",
       "    <tr>\n",
       "      <th>2</th>\n",
       "      <td>Arizona</td>\n",
       "      <td>AZ</td>\n",
       "      <td>USA</td>\n",
       "      <td>4.0</td>\n",
       "      <td>8.0</td>\n",
       "    </tr>\n",
       "    <tr>\n",
       "      <th>3</th>\n",
       "      <td>Arkansas</td>\n",
       "      <td>AR</td>\n",
       "      <td>USA</td>\n",
       "      <td>3.0</td>\n",
       "      <td>7.0</td>\n",
       "    </tr>\n",
       "    <tr>\n",
       "      <th>4</th>\n",
       "      <td>California</td>\n",
       "      <td>CA</td>\n",
       "      <td>USA</td>\n",
       "      <td>4.0</td>\n",
       "      <td>9.0</td>\n",
       "    </tr>\n",
       "  </tbody>\n",
       "</table>\n",
       "</div>"
      ],
      "text/plain": [
       "   state_full true_state country  census_region  census_division\n",
       "0     Alabama         AL     USA            3.0              6.0\n",
       "1      Alaska         AK     USA            4.0              9.0\n",
       "2     Arizona         AZ     USA            4.0              8.0\n",
       "3    Arkansas         AR     USA            3.0              7.0\n",
       "4  California         CA     USA            4.0              9.0"
      ]
     },
     "execution_count": 19,
     "metadata": {},
     "output_type": "execute_result"
    }
   ],
   "source": [
    "true_states.head()"
   ]
  },
  {
   "cell_type": "code",
   "execution_count": 20,
   "metadata": {},
   "outputs": [],
   "source": [
    "business = pd.merge(business, true_states, left_on='state', right_on='true_state', how='left')\n",
    "# merging the business dataset with real statetable for data correction."
   ]
  },
  {
   "cell_type": "code",
   "execution_count": 21,
   "metadata": {},
   "outputs": [
    {
     "data": {
      "text/html": [
       "<div>\n",
       "<style scoped>\n",
       "    .dataframe tbody tr th:only-of-type {\n",
       "        vertical-align: middle;\n",
       "    }\n",
       "\n",
       "    .dataframe tbody tr th {\n",
       "        vertical-align: top;\n",
       "    }\n",
       "\n",
       "    .dataframe thead th {\n",
       "        text-align: right;\n",
       "    }\n",
       "</style>\n",
       "<table border=\"1\" class=\"dataframe\">\n",
       "  <thead>\n",
       "    <tr style=\"text-align: right;\">\n",
       "      <th></th>\n",
       "      <th>business_id</th>\n",
       "      <th>attributes.Smoking</th>\n",
       "      <th>hours.Saturday</th>\n",
       "      <th>attributes.GoodForDancing</th>\n",
       "      <th>attributes.DriveThru</th>\n",
       "      <th>attributes.WiFi</th>\n",
       "      <th>hours.Monday</th>\n",
       "      <th>hours</th>\n",
       "      <th>postal_code</th>\n",
       "      <th>attributes.BYOB</th>\n",
       "      <th>...</th>\n",
       "      <th>attributes.Ambience</th>\n",
       "      <th>attributes.HairSpecializesIn</th>\n",
       "      <th>attributes.DietaryRestrictions</th>\n",
       "      <th>attributes.RestaurantsPriceRange2</th>\n",
       "      <th>attributes.RestaurantsDelivery</th>\n",
       "      <th>state_full</th>\n",
       "      <th>true_state</th>\n",
       "      <th>country</th>\n",
       "      <th>census_region</th>\n",
       "      <th>census_division</th>\n",
       "    </tr>\n",
       "  </thead>\n",
       "  <tbody>\n",
       "    <tr>\n",
       "      <th>0</th>\n",
       "      <td>mpf3x-BjTdTEA3yCZrAYPw</td>\n",
       "      <td>NaN</td>\n",
       "      <td>8:0-14:0</td>\n",
       "      <td>NaN</td>\n",
       "      <td>NaN</td>\n",
       "      <td>NaN</td>\n",
       "      <td>0:0-0:0</td>\n",
       "      <td>{'Monday': '0:0-0:0', 'Tuesday': '8:0-18:30', ...</td>\n",
       "      <td>63123</td>\n",
       "      <td>NaN</td>\n",
       "      <td>...</td>\n",
       "      <td>NaN</td>\n",
       "      <td>NaN</td>\n",
       "      <td>NaN</td>\n",
       "      <td>NaN</td>\n",
       "      <td>NaN</td>\n",
       "      <td>Missouri</td>\n",
       "      <td>MO</td>\n",
       "      <td>USA</td>\n",
       "      <td>2.0</td>\n",
       "      <td>4.0</td>\n",
       "    </tr>\n",
       "    <tr>\n",
       "      <th>1</th>\n",
       "      <td>MTSW4McQd7CbVtyjqoe9mw</td>\n",
       "      <td>NaN</td>\n",
       "      <td>7:0-21:0</td>\n",
       "      <td>NaN</td>\n",
       "      <td>NaN</td>\n",
       "      <td>u'free'</td>\n",
       "      <td>7:0-20:0</td>\n",
       "      <td>{'Monday': '7:0-20:0', 'Tuesday': '7:0-20:0', ...</td>\n",
       "      <td>19107</td>\n",
       "      <td>NaN</td>\n",
       "      <td>...</td>\n",
       "      <td>NaN</td>\n",
       "      <td>NaN</td>\n",
       "      <td>NaN</td>\n",
       "      <td>1</td>\n",
       "      <td>False</td>\n",
       "      <td>Pennsylvania</td>\n",
       "      <td>PA</td>\n",
       "      <td>USA</td>\n",
       "      <td>1.0</td>\n",
       "      <td>2.0</td>\n",
       "    </tr>\n",
       "    <tr>\n",
       "      <th>2</th>\n",
       "      <td>mWMc6_wTdE0EUBKIGXDVfA</td>\n",
       "      <td>NaN</td>\n",
       "      <td>12:0-22:0</td>\n",
       "      <td>NaN</td>\n",
       "      <td>NaN</td>\n",
       "      <td>NaN</td>\n",
       "      <td>NaN</td>\n",
       "      <td>{'Wednesday': '14:0-22:0', 'Thursday': '16:0-2...</td>\n",
       "      <td>18054</td>\n",
       "      <td>NaN</td>\n",
       "      <td>...</td>\n",
       "      <td>NaN</td>\n",
       "      <td>NaN</td>\n",
       "      <td>NaN</td>\n",
       "      <td>NaN</td>\n",
       "      <td>NaN</td>\n",
       "      <td>Pennsylvania</td>\n",
       "      <td>PA</td>\n",
       "      <td>USA</td>\n",
       "      <td>1.0</td>\n",
       "      <td>2.0</td>\n",
       "    </tr>\n",
       "    <tr>\n",
       "      <th>3</th>\n",
       "      <td>CF33F8-E6oudUQ46HnavjQ</td>\n",
       "      <td>NaN</td>\n",
       "      <td>9:0-22:0</td>\n",
       "      <td>NaN</td>\n",
       "      <td>True</td>\n",
       "      <td>u'no'</td>\n",
       "      <td>0:0-0:0</td>\n",
       "      <td>{'Monday': '0:0-0:0', 'Tuesday': '6:0-22:0', '...</td>\n",
       "      <td>37015</td>\n",
       "      <td>NaN</td>\n",
       "      <td>...</td>\n",
       "      <td>None</td>\n",
       "      <td>NaN</td>\n",
       "      <td>NaN</td>\n",
       "      <td>1</td>\n",
       "      <td>True</td>\n",
       "      <td>Tennessee</td>\n",
       "      <td>TN</td>\n",
       "      <td>USA</td>\n",
       "      <td>3.0</td>\n",
       "      <td>6.0</td>\n",
       "    </tr>\n",
       "    <tr>\n",
       "      <th>4</th>\n",
       "      <td>n_0UpQx1hsNbnPUSlodU8w</td>\n",
       "      <td>NaN</td>\n",
       "      <td>10:0-18:0</td>\n",
       "      <td>NaN</td>\n",
       "      <td>NaN</td>\n",
       "      <td>NaN</td>\n",
       "      <td>0:0-0:0</td>\n",
       "      <td>{'Monday': '0:0-0:0', 'Tuesday': '10:0-18:0', ...</td>\n",
       "      <td>63144</td>\n",
       "      <td>NaN</td>\n",
       "      <td>...</td>\n",
       "      <td>NaN</td>\n",
       "      <td>NaN</td>\n",
       "      <td>NaN</td>\n",
       "      <td>2</td>\n",
       "      <td>NaN</td>\n",
       "      <td>Missouri</td>\n",
       "      <td>MO</td>\n",
       "      <td>USA</td>\n",
       "      <td>2.0</td>\n",
       "      <td>4.0</td>\n",
       "    </tr>\n",
       "  </tbody>\n",
       "</table>\n",
       "<p>5 rows × 65 columns</p>\n",
       "</div>"
      ],
      "text/plain": [
       "              business_id attributes.Smoking hours.Saturday  \\\n",
       "0  mpf3x-BjTdTEA3yCZrAYPw                NaN       8:0-14:0   \n",
       "1  MTSW4McQd7CbVtyjqoe9mw                NaN       7:0-21:0   \n",
       "2  mWMc6_wTdE0EUBKIGXDVfA                NaN      12:0-22:0   \n",
       "3  CF33F8-E6oudUQ46HnavjQ                NaN       9:0-22:0   \n",
       "4  n_0UpQx1hsNbnPUSlodU8w                NaN      10:0-18:0   \n",
       "\n",
       "  attributes.GoodForDancing attributes.DriveThru attributes.WiFi hours.Monday  \\\n",
       "0                       NaN                  NaN             NaN      0:0-0:0   \n",
       "1                       NaN                  NaN         u'free'     7:0-20:0   \n",
       "2                       NaN                  NaN             NaN          NaN   \n",
       "3                       NaN                 True           u'no'      0:0-0:0   \n",
       "4                       NaN                  NaN             NaN      0:0-0:0   \n",
       "\n",
       "                                               hours postal_code  \\\n",
       "0  {'Monday': '0:0-0:0', 'Tuesday': '8:0-18:30', ...       63123   \n",
       "1  {'Monday': '7:0-20:0', 'Tuesday': '7:0-20:0', ...       19107   \n",
       "2  {'Wednesday': '14:0-22:0', 'Thursday': '16:0-2...       18054   \n",
       "3  {'Monday': '0:0-0:0', 'Tuesday': '6:0-22:0', '...       37015   \n",
       "4  {'Monday': '0:0-0:0', 'Tuesday': '10:0-18:0', ...       63144   \n",
       "\n",
       "  attributes.BYOB  ... attributes.Ambience attributes.HairSpecializesIn  \\\n",
       "0             NaN  ...                 NaN                          NaN   \n",
       "1             NaN  ...                 NaN                          NaN   \n",
       "2             NaN  ...                 NaN                          NaN   \n",
       "3             NaN  ...                None                          NaN   \n",
       "4             NaN  ...                 NaN                          NaN   \n",
       "\n",
       "  attributes.DietaryRestrictions attributes.RestaurantsPriceRange2  \\\n",
       "0                            NaN                               NaN   \n",
       "1                            NaN                                 1   \n",
       "2                            NaN                               NaN   \n",
       "3                            NaN                                 1   \n",
       "4                            NaN                                 2   \n",
       "\n",
       "  attributes.RestaurantsDelivery    state_full true_state  country  \\\n",
       "0                            NaN      Missouri         MO      USA   \n",
       "1                          False  Pennsylvania         PA      USA   \n",
       "2                            NaN  Pennsylvania         PA      USA   \n",
       "3                           True     Tennessee         TN      USA   \n",
       "4                            NaN      Missouri         MO      USA   \n",
       "\n",
       "  census_region census_division  \n",
       "0           2.0             4.0  \n",
       "1           1.0             2.0  \n",
       "2           1.0             2.0  \n",
       "3           3.0             6.0  \n",
       "4           2.0             4.0  \n",
       "\n",
       "[5 rows x 65 columns]"
      ]
     },
     "execution_count": 21,
     "metadata": {},
     "output_type": "execute_result"
    }
   ],
   "source": [
    "business.head()"
   ]
  },
  {
   "cell_type": "code",
   "execution_count": 22,
   "metadata": {},
   "outputs": [
    {
     "data": {
      "text/html": [
       "<div>\n",
       "<style scoped>\n",
       "    .dataframe tbody tr th:only-of-type {\n",
       "        vertical-align: middle;\n",
       "    }\n",
       "\n",
       "    .dataframe tbody tr th {\n",
       "        vertical-align: top;\n",
       "    }\n",
       "\n",
       "    .dataframe thead th {\n",
       "        text-align: right;\n",
       "    }\n",
       "</style>\n",
       "<table border=\"1\" class=\"dataframe\">\n",
       "  <thead>\n",
       "    <tr style=\"text-align: right;\">\n",
       "      <th></th>\n",
       "      <th>address</th>\n",
       "      <th>city</th>\n",
       "      <th>state</th>\n",
       "    </tr>\n",
       "  </thead>\n",
       "  <tbody>\n",
       "    <tr>\n",
       "      <th>78592</th>\n",
       "      <td>95a Mount Pleasant</td>\n",
       "      <td>Liverpool</td>\n",
       "      <td>XMS</td>\n",
       "    </tr>\n",
       "  </tbody>\n",
       "</table>\n",
       "</div>"
      ],
      "text/plain": [
       "                  address       city state\n",
       "78592  95a Mount Pleasant  Liverpool   XMS"
      ]
     },
     "execution_count": 22,
     "metadata": {},
     "output_type": "execute_result"
    }
   ],
   "source": [
    "business[business.true_state.isna()][['address','city', 'state']].head(15)"
   ]
  },
  {
   "cell_type": "code",
   "execution_count": 23,
   "metadata": {},
   "outputs": [],
   "source": [
    "business = business[pd.notnull(business.true_state)]"
   ]
  },
  {
   "cell_type": "code",
   "execution_count": 24,
   "metadata": {},
   "outputs": [
    {
     "data": {
      "text/plain": [
       "USA       115351\n",
       "Canada      4346\n",
       "Name: country, dtype: int64"
      ]
     },
     "execution_count": 24,
     "metadata": {},
     "output_type": "execute_result"
    }
   ],
   "source": [
    "business.country.value_counts()"
   ]
  },
  {
   "cell_type": "markdown",
   "metadata": {},
   "source": [
    "# Restricting the business country only related to USA."
   ]
  },
  {
   "cell_type": "code",
   "execution_count": 25,
   "metadata": {},
   "outputs": [],
   "source": [
    "#Data reduction - Restricting the business country only related to USA.\n",
    "business = business[business.country == 'USA']"
   ]
  },
  {
   "cell_type": "code",
   "execution_count": 27,
   "metadata": {},
   "outputs": [],
   "source": [
    "business = business.drop(['state_full','true_state','country'], axis=1)"
   ]
  },
  {
   "cell_type": "markdown",
   "metadata": {},
   "source": [
    "### Problem 2 - Wrong City/State combination"
   ]
  },
  {
   "cell_type": "code",
   "execution_count": 28,
   "metadata": {},
   "outputs": [],
   "source": [
    "# This file \"uscitiesv1.4.csv\" contains the correct city-state data in USA.\n",
    "cities = pd.read_csv('uscitiesv1.4.csv')"
   ]
  },
  {
   "cell_type": "code",
   "execution_count": 29,
   "metadata": {},
   "outputs": [
    {
     "data": {
      "text/html": [
       "<div>\n",
       "<style scoped>\n",
       "    .dataframe tbody tr th:only-of-type {\n",
       "        vertical-align: middle;\n",
       "    }\n",
       "\n",
       "    .dataframe tbody tr th {\n",
       "        vertical-align: top;\n",
       "    }\n",
       "\n",
       "    .dataframe thead th {\n",
       "        text-align: right;\n",
       "    }\n",
       "</style>\n",
       "<table border=\"1\" class=\"dataframe\">\n",
       "  <thead>\n",
       "    <tr style=\"text-align: right;\">\n",
       "      <th></th>\n",
       "      <th>city</th>\n",
       "      <th>city_ascii</th>\n",
       "      <th>state_id</th>\n",
       "      <th>state_name</th>\n",
       "      <th>county_fips</th>\n",
       "      <th>county_name</th>\n",
       "      <th>lat</th>\n",
       "      <th>lng</th>\n",
       "      <th>population</th>\n",
       "      <th>population_proper</th>\n",
       "      <th>density</th>\n",
       "      <th>source</th>\n",
       "      <th>incorporated</th>\n",
       "      <th>timezone</th>\n",
       "      <th>zips</th>\n",
       "      <th>id</th>\n",
       "    </tr>\n",
       "  </thead>\n",
       "  <tbody>\n",
       "    <tr>\n",
       "      <th>0</th>\n",
       "      <td>Prairie Ridge</td>\n",
       "      <td>Prairie Ridge</td>\n",
       "      <td>WA</td>\n",
       "      <td>Washington</td>\n",
       "      <td>53053</td>\n",
       "      <td>Pierce</td>\n",
       "      <td>47.1443</td>\n",
       "      <td>-122.1408</td>\n",
       "      <td>NaN</td>\n",
       "      <td>NaN</td>\n",
       "      <td>1349.8</td>\n",
       "      <td>polygon</td>\n",
       "      <td>False</td>\n",
       "      <td>America/Los_Angeles</td>\n",
       "      <td>98360 98391</td>\n",
       "      <td>1840037882</td>\n",
       "    </tr>\n",
       "    <tr>\n",
       "      <th>1</th>\n",
       "      <td>Edison</td>\n",
       "      <td>Edison</td>\n",
       "      <td>WA</td>\n",
       "      <td>Washington</td>\n",
       "      <td>53057</td>\n",
       "      <td>Skagit</td>\n",
       "      <td>48.5602</td>\n",
       "      <td>-122.4311</td>\n",
       "      <td>NaN</td>\n",
       "      <td>NaN</td>\n",
       "      <td>127.4</td>\n",
       "      <td>polygon</td>\n",
       "      <td>False</td>\n",
       "      <td>America/Los_Angeles</td>\n",
       "      <td>98232</td>\n",
       "      <td>1840017314</td>\n",
       "    </tr>\n",
       "    <tr>\n",
       "      <th>2</th>\n",
       "      <td>Packwood</td>\n",
       "      <td>Packwood</td>\n",
       "      <td>WA</td>\n",
       "      <td>Washington</td>\n",
       "      <td>53041</td>\n",
       "      <td>Lewis</td>\n",
       "      <td>46.6085</td>\n",
       "      <td>-121.6702</td>\n",
       "      <td>NaN</td>\n",
       "      <td>NaN</td>\n",
       "      <td>213.9</td>\n",
       "      <td>polygon</td>\n",
       "      <td>False</td>\n",
       "      <td>America/Los_Angeles</td>\n",
       "      <td>98361</td>\n",
       "      <td>1840025265</td>\n",
       "    </tr>\n",
       "    <tr>\n",
       "      <th>3</th>\n",
       "      <td>Wautauga Beach</td>\n",
       "      <td>Wautauga Beach</td>\n",
       "      <td>WA</td>\n",
       "      <td>Washington</td>\n",
       "      <td>53035</td>\n",
       "      <td>Kitsap</td>\n",
       "      <td>47.5862</td>\n",
       "      <td>-122.5482</td>\n",
       "      <td>NaN</td>\n",
       "      <td>NaN</td>\n",
       "      <td>261.7</td>\n",
       "      <td>point</td>\n",
       "      <td>False</td>\n",
       "      <td>America/Los_Angeles</td>\n",
       "      <td>98366</td>\n",
       "      <td>1840037725</td>\n",
       "    </tr>\n",
       "    <tr>\n",
       "      <th>4</th>\n",
       "      <td>Harper</td>\n",
       "      <td>Harper</td>\n",
       "      <td>WA</td>\n",
       "      <td>Washington</td>\n",
       "      <td>53035</td>\n",
       "      <td>Kitsap</td>\n",
       "      <td>47.5207</td>\n",
       "      <td>-122.5196</td>\n",
       "      <td>NaN</td>\n",
       "      <td>NaN</td>\n",
       "      <td>342.1</td>\n",
       "      <td>point</td>\n",
       "      <td>False</td>\n",
       "      <td>America/Los_Angeles</td>\n",
       "      <td>98366</td>\n",
       "      <td>1840037659</td>\n",
       "    </tr>\n",
       "  </tbody>\n",
       "</table>\n",
       "</div>"
      ],
      "text/plain": [
       "             city      city_ascii state_id  state_name  county_fips  \\\n",
       "0   Prairie Ridge   Prairie Ridge       WA  Washington        53053   \n",
       "1          Edison          Edison       WA  Washington        53057   \n",
       "2        Packwood        Packwood       WA  Washington        53041   \n",
       "3  Wautauga Beach  Wautauga Beach       WA  Washington        53035   \n",
       "4          Harper          Harper       WA  Washington        53035   \n",
       "\n",
       "  county_name      lat       lng  population  population_proper  density  \\\n",
       "0      Pierce  47.1443 -122.1408         NaN                NaN   1349.8   \n",
       "1      Skagit  48.5602 -122.4311         NaN                NaN    127.4   \n",
       "2       Lewis  46.6085 -121.6702         NaN                NaN    213.9   \n",
       "3      Kitsap  47.5862 -122.5482         NaN                NaN    261.7   \n",
       "4      Kitsap  47.5207 -122.5196         NaN                NaN    342.1   \n",
       "\n",
       "    source  incorporated             timezone         zips          id  \n",
       "0  polygon         False  America/Los_Angeles  98360 98391  1840037882  \n",
       "1  polygon         False  America/Los_Angeles        98232  1840017314  \n",
       "2  polygon         False  America/Los_Angeles        98361  1840025265  \n",
       "3    point         False  America/Los_Angeles        98366  1840037725  \n",
       "4    point         False  America/Los_Angeles        98366  1840037659  "
      ]
     },
     "execution_count": 29,
     "metadata": {},
     "output_type": "execute_result"
    }
   ],
   "source": [
    "cities.head()"
   ]
  },
  {
   "cell_type": "code",
   "execution_count": 30,
   "metadata": {},
   "outputs": [],
   "source": [
    "cities.city = cities.city.str.lower()\n",
    "cities = cities.drop(['city_ascii','county_fips','lat','lng','source','incorporated','timezone','id'], axis=1)\n",
    "business.city = business.city.str.lower()\n",
    "business = pd.merge(business, cities, left_on=['city','state'], right_on=['city','state_id'], how='left')"
   ]
  },
  {
   "cell_type": "code",
   "execution_count": 37,
   "metadata": {},
   "outputs": [
    {
     "data": {
      "text/html": [
       "<div>\n",
       "<style scoped>\n",
       "    .dataframe tbody tr th:only-of-type {\n",
       "        vertical-align: middle;\n",
       "    }\n",
       "\n",
       "    .dataframe tbody tr th {\n",
       "        vertical-align: top;\n",
       "    }\n",
       "\n",
       "    .dataframe thead th {\n",
       "        text-align: right;\n",
       "    }\n",
       "</style>\n",
       "<table border=\"1\" class=\"dataframe\">\n",
       "  <thead>\n",
       "    <tr style=\"text-align: right;\">\n",
       "      <th></th>\n",
       "      <th>city</th>\n",
       "      <th>state_id</th>\n",
       "      <th>state</th>\n",
       "    </tr>\n",
       "  </thead>\n",
       "  <tbody>\n",
       "    <tr>\n",
       "      <th>12</th>\n",
       "      <td>tucson</td>\n",
       "      <td>AZ</td>\n",
       "      <td>AZ</td>\n",
       "    </tr>\n",
       "    <tr>\n",
       "      <th>39</th>\n",
       "      <td>tucson</td>\n",
       "      <td>AZ</td>\n",
       "      <td>AZ</td>\n",
       "    </tr>\n",
       "    <tr>\n",
       "      <th>45</th>\n",
       "      <td>tucson</td>\n",
       "      <td>AZ</td>\n",
       "      <td>AZ</td>\n",
       "    </tr>\n",
       "    <tr>\n",
       "      <th>76</th>\n",
       "      <td>oro valley</td>\n",
       "      <td>AZ</td>\n",
       "      <td>AZ</td>\n",
       "    </tr>\n",
       "    <tr>\n",
       "      <th>91</th>\n",
       "      <td>tucson</td>\n",
       "      <td>AZ</td>\n",
       "      <td>AZ</td>\n",
       "    </tr>\n",
       "    <tr>\n",
       "      <th>...</th>\n",
       "      <td>...</td>\n",
       "      <td>...</td>\n",
       "      <td>...</td>\n",
       "    </tr>\n",
       "    <tr>\n",
       "      <th>115302</th>\n",
       "      <td>tucson</td>\n",
       "      <td>AZ</td>\n",
       "      <td>AZ</td>\n",
       "    </tr>\n",
       "    <tr>\n",
       "      <th>115317</th>\n",
       "      <td>tucson</td>\n",
       "      <td>AZ</td>\n",
       "      <td>AZ</td>\n",
       "    </tr>\n",
       "    <tr>\n",
       "      <th>115321</th>\n",
       "      <td>tucson</td>\n",
       "      <td>AZ</td>\n",
       "      <td>AZ</td>\n",
       "    </tr>\n",
       "    <tr>\n",
       "      <th>115337</th>\n",
       "      <td>oro valley</td>\n",
       "      <td>AZ</td>\n",
       "      <td>AZ</td>\n",
       "    </tr>\n",
       "    <tr>\n",
       "      <th>115340</th>\n",
       "      <td>tucson</td>\n",
       "      <td>AZ</td>\n",
       "      <td>AZ</td>\n",
       "    </tr>\n",
       "  </tbody>\n",
       "</table>\n",
       "<p>8108 rows × 3 columns</p>\n",
       "</div>"
      ],
      "text/plain": [
       "              city state_id state\n",
       "12          tucson       AZ    AZ\n",
       "39          tucson       AZ    AZ\n",
       "45          tucson       AZ    AZ\n",
       "76      oro valley       AZ    AZ\n",
       "91          tucson       AZ    AZ\n",
       "...            ...      ...   ...\n",
       "115302      tucson       AZ    AZ\n",
       "115317      tucson       AZ    AZ\n",
       "115321      tucson       AZ    AZ\n",
       "115337  oro valley       AZ    AZ\n",
       "115340      tucson       AZ    AZ\n",
       "\n",
       "[8108 rows x 3 columns]"
      ]
     },
     "execution_count": 37,
     "metadata": {},
     "output_type": "execute_result"
    }
   ],
   "source": [
    "business[business.state == 'AZ'][['city','state_id','state']]"
   ]
  },
  {
   "cell_type": "code",
   "execution_count": 38,
   "metadata": {},
   "outputs": [],
   "source": [
    "business = business[pd.notnull(business.state_id)]\n",
    "business = business.drop(['state_id'], axis=1)"
   ]
  },
  {
   "cell_type": "code",
   "execution_count": 40,
   "metadata": {},
   "outputs": [
    {
     "name": "stdout",
     "output_type": "stream",
     "text": [
      "<class 'pandas.core.frame.DataFrame'>\n",
      "Int64Index: 106810 entries, 0 to 115350\n",
      "Data columns (total 68 columns):\n",
      " #   Column                                 Non-Null Count   Dtype   \n",
      "---  ------                                 --------------   -----   \n",
      " 0   business_id                            106810 non-null  object  \n",
      " 1   attributes.Smoking                     3130 non-null    object  \n",
      " 2   hours.Saturday                         78781 non-null   object  \n",
      " 3   attributes.GoodForDancing              3048 non-null    object  \n",
      " 4   attributes.DriveThru                   6219 non-null    object  \n",
      " 5   attributes.WiFi                        37812 non-null   object  \n",
      " 6   hours.Monday                           84665 non-null   object  \n",
      " 7   hours                                  92456 non-null   object  \n",
      " 8   postal_code                            106789 non-null  object  \n",
      " 9   attributes.BYOB                        3651 non-null    object  \n",
      " 10  hours.Thursday                         91204 non-null   object  \n",
      " 11  attributes.Alcohol                     24730 non-null   object  \n",
      " 12  attributes.GoodForKids                 31945 non-null   object  \n",
      " 13  attributes.AgesAllowed                 110 non-null     object  \n",
      " 14  state                                  106810 non-null  object  \n",
      " 15  attributes.OutdoorSeating              28211 non-null   object  \n",
      " 16  categories                             106721 non-null  object  \n",
      " 17  review_count                           106810 non-null  int64   \n",
      " 18  attributes.BYOBCorkage                 779 non-null     object  \n",
      " 19  attributes.NoiseLevel                  21756 non-null   object  \n",
      " 20  attributes.HasTV                       26596 non-null   object  \n",
      " 21  longitude                              106810 non-null  float64 \n",
      " 22  is_open                                106810 non-null  int64   \n",
      " 23  address                                102569 non-null  object  \n",
      " 24  latitude                               106810 non-null  float64 \n",
      " 25  attributes.Open24Hours                 35 non-null      object  \n",
      " 26  hours.Friday                           90873 non-null   object  \n",
      " 27  attributes.BusinessAcceptsCreditCards  86143 non-null   object  \n",
      " 28  attributes.WheelchairAccessible        21620 non-null   object  \n",
      " 29  attributes.BusinessParking             59222 non-null   object  \n",
      " 30  attributes.RestaurantsReservations     26171 non-null   object  \n",
      " 31  attributes.RestaurantsTakeOut          37279 non-null   object  \n",
      " 32  attributes                             95826 non-null   object  \n",
      " 33  attributes.BusinessAcceptsBitcoin      13371 non-null   object  \n",
      " 34  attributes.Music                       5263 non-null    object  \n",
      " 35  city                                   106810 non-null  object  \n",
      " 36  attributes.RestaurantsAttire           21642 non-null   object  \n",
      " 37  hours.Sunday                           56848 non-null   object  \n",
      " 38  attributes.Corkage                     2741 non-null    object  \n",
      " 39  attributes.HappyHour                   10122 non-null   object  \n",
      " 40  attributes.BikeParking                 49938 non-null   object  \n",
      " 41  hours.Tuesday                          88226 non-null   object  \n",
      " 42  attributes.ByAppointmentOnly           34173 non-null   object  \n",
      " 43  hours.Wednesday                        90233 non-null   object  \n",
      " 44  attributes.RestaurantsCounterService   14 non-null      object  \n",
      " 45  name                                   106810 non-null  object  \n",
      " 46  attributes.Caters                      25257 non-null   object  \n",
      " 47  attributes.DogsAllowed                 13949 non-null   object  \n",
      " 48  attributes.GoodForMeal                 19201 non-null   object  \n",
      " 49  stars                                  106810 non-null  category\n",
      " 50  attributes.RestaurantsGoodForGroups    24870 non-null   object  \n",
      " 51  attributes.AcceptsInsurance            4904 non-null    object  \n",
      " 52  attributes.BestNights                  4097 non-null    object  \n",
      " 53  attributes.CoatCheck                   3973 non-null    object  \n",
      " 54  attributes.RestaurantsTableService     13227 non-null   object  \n",
      " 55  attributes.Ambience                    25972 non-null   object  \n",
      " 56  attributes.HairSpecializesIn           883 non-null     object  \n",
      " 57  attributes.DietaryRestrictions         17 non-null      object  \n",
      " 58  attributes.RestaurantsPriceRange2      54016 non-null   object  \n",
      " 59  attributes.RestaurantsDelivery         35394 non-null   object  \n",
      " 60  census_region                          106810 non-null  float64 \n",
      " 61  census_division                        106810 non-null  float64 \n",
      " 62  state_name                             106810 non-null  object  \n",
      " 63  county_name                            106810 non-null  object  \n",
      " 64  population                             89857 non-null   float64 \n",
      " 65  population_proper                      89857 non-null   float64 \n",
      " 66  density                                106810 non-null  float64 \n",
      " 67  zips                                   106810 non-null  object  \n",
      "dtypes: category(1), float64(7), int64(2), object(58)\n",
      "memory usage: 55.5+ MB\n"
     ]
    }
   ],
   "source": [
    "business.info()"
   ]
  },
  {
   "cell_type": "markdown",
   "metadata": {},
   "source": [
    "## Review_count Attribute"
   ]
  },
  {
   "cell_type": "code",
   "execution_count": 45,
   "metadata": {},
   "outputs": [
    {
     "name": "stderr",
     "output_type": "stream",
     "text": [
      "C:\\Users\\Checkout\\AppData\\Local\\Programs\\Python\\Python310\\lib\\site-packages\\seaborn\\categorical.py:253: FutureWarning: Index.ravel returning ndarray is deprecated; in a future version this will return a view on self.\n",
      "  grouped_vals = vals.groupby(grouper)\n"
     ]
    },
    {
     "data": {
      "image/png": "[encoded data removed]",
      "text/plain": [
       "<Figure size 640x480 with 1 Axes>"
      ]
     },
     "metadata": {},
     "output_type": "display_data"
    }
   ],
   "source": [
    "sns_plot = sns.boxplot(x = \"stars\", y = \"review_count\", data=business)\n",
    "sns_plot.figure.savefig(\"review-count_stars.png\")"
   ]
  },
  {
   "cell_type": "code",
   "execution_count": 47,
   "metadata": {},
   "outputs": [
    {
     "data": {
      "text/plain": [
       "0.7500      38.0000\n",
       "0.9000     105.0000\n",
       "0.9500     190.0000\n",
       "0.9900     520.0000\n",
       "0.9990    1642.7640\n",
       "0.9999    4220.7213\n",
       "Name: review_count, dtype: float64"
      ]
     },
     "execution_count": 47,
     "metadata": {},
     "output_type": "execute_result"
    }
   ],
   "source": [
    "business.review_count.quantile([.75, .9, .95, .99, .999, .9999])"
   ]
  },
  {
   "cell_type": "code",
   "execution_count": 48,
   "metadata": {},
   "outputs": [
    {
     "data": {
      "text/plain": [
       "15.688225641686104"
      ]
     },
     "execution_count": 48,
     "metadata": {},
     "output_type": "execute_result"
    }
   ],
   "source": [
    "business.review_count.skew()"
   ]
  },
  {
   "cell_type": "code",
   "execution_count": 49,
   "metadata": {},
   "outputs": [
    {
     "data": {
      "text/plain": [
       "business_id                                             _ab50qdWOk0DdB6XOrBitw\n",
       "attributes.Smoking                                                         NaN\n",
       "hours.Saturday                                                       11:0-22:0\n",
       "attributes.GoodForDancing                                                  NaN\n",
       "attributes.DriveThru                                                       NaN\n",
       "                                                   ...                        \n",
       "county_name                                                            Orleans\n",
       "population                                                           1024421.0\n",
       "population_proper                                                     391495.0\n",
       "density                                                                  892.0\n",
       "zips                         70139 70130 70131 70114 70115 70116 70117 7011...\n",
       "Name: 87264, Length: 68, dtype: object"
      ]
     },
     "execution_count": 49,
     "metadata": {},
     "output_type": "execute_result"
    }
   ],
   "source": [
    "business.sort_values(by=['review_count'], ascending=False).iloc[0]"
   ]
  },
  {
   "cell_type": "code",
   "execution_count": 50,
   "metadata": {},
   "outputs": [
    {
     "name": "stderr",
     "output_type": "stream",
     "text": [
      "C:\\Users\\Checkout\\AppData\\Local\\Programs\\Python\\Python310\\lib\\site-packages\\seaborn\\distributions.py:2619: FutureWarning: `distplot` is a deprecated function and will be removed in a future version. Please adapt your code to use either `displot` (a figure-level function with similar flexibility) or `histplot` (an axes-level function for histograms).\n",
      "  warnings.warn(msg, FutureWarning)\n"
     ]
    },
    {
     "data": {
      "image/png": "[encoded data removed]",
      "text/plain": [
       "<Figure size 640x480 with 1 Axes>"
      ]
     },
     "metadata": {},
     "output_type": "display_data"
    }
   ],
   "source": [
    "sns_plot = sns.distplot(np.log10(business.review_count))\n",
    "sns_plot.figure.savefig(\"review-count_density.png\")"
   ]
  },
  {
   "cell_type": "code",
   "execution_count": 51,
   "metadata": {},
   "outputs": [
    {
     "name": "stderr",
     "output_type": "stream",
     "text": [
      "C:\\Users\\Checkout\\AppData\\Local\\Programs\\Python\\Python310\\lib\\site-packages\\seaborn\\categorical.py:253: FutureWarning: Index.ravel returning ndarray is deprecated; in a future version this will return a view on self.\n",
      "  grouped_vals = vals.groupby(grouper)\n"
     ]
    },
    {
     "data": {
      "image/png": "[encoded data removed]",
      "text/plain": [
       "<Figure size 640x480 with 1 Axes>"
      ]
     },
     "metadata": {},
     "output_type": "display_data"
    }
   ],
   "source": [
    "sns_plot = sns.boxplot(x=business.stars, y=np.log10(business.review_count))\n",
    "sns_plot.figure.savefig(\"review-count_boxplot.png\")"
   ]
  },
  {
   "cell_type": "code",
   "execution_count": 52,
   "metadata": {},
   "outputs": [
    {
     "data": {
      "text/plain": [
       "0.9791645464388095"
      ]
     },
     "execution_count": 52,
     "metadata": {},
     "output_type": "execute_result"
    }
   ],
   "source": [
    "np.log10(business.review_count).skew()"
   ]
  },
  {
   "cell_type": "code",
   "execution_count": 53,
   "metadata": {},
   "outputs": [
    {
     "data": {
      "text/plain": [
       "0.05712252811463251"
      ]
     },
     "execution_count": 53,
     "metadata": {},
     "output_type": "execute_result"
    }
   ],
   "source": [
    "business.stars.corr(business.review_count)"
   ]
  },
  {
   "cell_type": "code",
   "execution_count": 54,
   "metadata": {},
   "outputs": [
    {
     "data": {
      "text/plain": [
       "0.042472837437720935"
      ]
     },
     "execution_count": 54,
     "metadata": {},
     "output_type": "execute_result"
    }
   ],
   "source": [
    "business.stars.corr(np.log10(business.review_count))"
   ]
  },
  {
   "cell_type": "code",
   "execution_count": 55,
   "metadata": {},
   "outputs": [],
   "source": [
    "business.review_count = np.log10(business.review_count)"
   ]
  },
  {
   "cell_type": "code",
   "execution_count": 56,
   "metadata": {},
   "outputs": [
    {
     "data": {
      "text/plain": [
       "False    106810\n",
       "Name: review_count, dtype: int64"
      ]
     },
     "execution_count": 56,
     "metadata": {},
     "output_type": "execute_result"
    }
   ],
   "source": [
    "business.review_count.isnull().value_counts()"
   ]
  },
  {
   "cell_type": "markdown",
   "metadata": {},
   "source": [
    "## Business \"name\" attribute"
   ]
  },
  {
   "cell_type": "code",
   "execution_count": 57,
   "metadata": {},
   "outputs": [
    {
     "data": {
      "text/plain": [
       "0               The UPS Store\n",
       "1          St Honore Pastries\n",
       "2    Perkiomen Valley Brewery\n",
       "3              Sonic Drive-In\n",
       "4             Famous Footwear\n",
       "Name: name, dtype: object"
      ]
     },
     "execution_count": 57,
     "metadata": {},
     "output_type": "execute_result"
    }
   ],
   "source": [
    "business.name.head()"
   ]
  },
  {
   "cell_type": "code",
   "execution_count": 59,
   "metadata": {},
   "outputs": [],
   "source": [
    "business.name = business.name.str.lower()"
   ]
  },
  {
   "cell_type": "markdown",
   "metadata": {},
   "source": [
    "## Postal_code attribute"
   ]
  },
  {
   "cell_type": "code",
   "execution_count": 67,
   "metadata": {},
   "outputs": [
    {
     "data": {
      "text/plain": [
       "0    63123\n",
       "1    19107\n",
       "2    18054\n",
       "3    37015\n",
       "4    63144\n",
       "Name: postal_code, dtype: object"
      ]
     },
     "execution_count": 67,
     "metadata": {},
     "output_type": "execute_result"
    }
   ],
   "source": [
    "business.postal_code.head()"
   ]
  },
  {
   "cell_type": "code",
   "execution_count": 69,
   "metadata": {},
   "outputs": [
    {
     "data": {
      "text/html": [
       "<div>\n",
       "<style scoped>\n",
       "    .dataframe tbody tr th:only-of-type {\n",
       "        vertical-align: middle;\n",
       "    }\n",
       "\n",
       "    .dataframe tbody tr th {\n",
       "        vertical-align: top;\n",
       "    }\n",
       "\n",
       "    .dataframe thead th {\n",
       "        text-align: right;\n",
       "    }\n",
       "</style>\n",
       "<table border=\"1\" class=\"dataframe\">\n",
       "  <thead>\n",
       "    <tr style=\"text-align: right;\">\n",
       "      <th></th>\n",
       "      <th>name</th>\n",
       "      <th>address</th>\n",
       "      <th>city</th>\n",
       "      <th>state</th>\n",
       "    </tr>\n",
       "  </thead>\n",
       "  <tbody>\n",
       "    <tr>\n",
       "      <th>12666</th>\n",
       "      <td>philadelphia</td>\n",
       "      <td>NaN</td>\n",
       "      <td>philadelphia</td>\n",
       "      <td>PA</td>\n",
       "    </tr>\n",
       "    <tr>\n",
       "      <th>13657</th>\n",
       "      <td>indy 500 parade</td>\n",
       "      <td>Pennsylvania St</td>\n",
       "      <td>indianapolis</td>\n",
       "      <td>IN</td>\n",
       "    </tr>\n",
       "    <tr>\n",
       "      <th>15123</th>\n",
       "      <td>krewe of choctaw</td>\n",
       "      <td>NaN</td>\n",
       "      <td>gretna</td>\n",
       "      <td>LA</td>\n",
       "    </tr>\n",
       "    <tr>\n",
       "      <th>22860</th>\n",
       "      <td>krewe of thoth</td>\n",
       "      <td>St Charles Ae</td>\n",
       "      <td>new orleans</td>\n",
       "      <td>LA</td>\n",
       "    </tr>\n",
       "    <tr>\n",
       "      <th>24914</th>\n",
       "      <td>indy pies and pints with arts 4 learning</td>\n",
       "      <td>NaN</td>\n",
       "      <td>indianapolis</td>\n",
       "      <td>IN</td>\n",
       "    </tr>\n",
       "  </tbody>\n",
       "</table>\n",
       "</div>"
      ],
      "text/plain": [
       "                                           name          address  \\\n",
       "12666                              philadelphia              NaN   \n",
       "13657                           indy 500 parade  Pennsylvania St   \n",
       "15123                          krewe of choctaw              NaN   \n",
       "22860                            krewe of thoth    St Charles Ae   \n",
       "24914  indy pies and pints with arts 4 learning              NaN   \n",
       "\n",
       "               city state  \n",
       "12666  philadelphia    PA  \n",
       "13657  indianapolis    IN  \n",
       "15123        gretna    LA  \n",
       "22860   new orleans    LA  \n",
       "24914  indianapolis    IN  "
      ]
     },
     "execution_count": 69,
     "metadata": {},
     "output_type": "execute_result"
    }
   ],
   "source": [
    "business[business.postal_code.isnull()][['name','address', 'city', 'state']].head()"
   ]
  },
  {
   "cell_type": "code",
   "execution_count": 70,
   "metadata": {},
   "outputs": [
    {
     "data": {
      "text/html": [
       "<div>\n",
       "<style scoped>\n",
       "    .dataframe tbody tr th:only-of-type {\n",
       "        vertical-align: middle;\n",
       "    }\n",
       "\n",
       "    .dataframe tbody tr th {\n",
       "        vertical-align: top;\n",
       "    }\n",
       "\n",
       "    .dataframe thead th {\n",
       "        text-align: right;\n",
       "    }\n",
       "</style>\n",
       "<table border=\"1\" class=\"dataframe\">\n",
       "  <thead>\n",
       "    <tr style=\"text-align: right;\">\n",
       "      <th></th>\n",
       "      <th>name</th>\n",
       "      <th>address</th>\n",
       "      <th>city</th>\n",
       "      <th>state</th>\n",
       "    </tr>\n",
       "  </thead>\n",
       "  <tbody>\n",
       "    <tr>\n",
       "      <th>13657</th>\n",
       "      <td>indy 500 parade</td>\n",
       "      <td>Pennsylvania St</td>\n",
       "      <td>indianapolis</td>\n",
       "      <td>IN</td>\n",
       "    </tr>\n",
       "    <tr>\n",
       "      <th>22860</th>\n",
       "      <td>krewe of thoth</td>\n",
       "      <td>St Charles Ae</td>\n",
       "      <td>new orleans</td>\n",
       "      <td>LA</td>\n",
       "    </tr>\n",
       "    <tr>\n",
       "      <th>48245</th>\n",
       "      <td>indy burger battle</td>\n",
       "      <td>W Georgia St</td>\n",
       "      <td>indianapolis</td>\n",
       "      <td>IN</td>\n",
       "    </tr>\n",
       "    <tr>\n",
       "      <th>73732</th>\n",
       "      <td>carvana clearwater</td>\n",
       "      <td>US-19</td>\n",
       "      <td>clearwater</td>\n",
       "      <td>FL</td>\n",
       "    </tr>\n",
       "    <tr>\n",
       "      <th>82207</th>\n",
       "      <td>deer creek park</td>\n",
       "      <td>North Laclede Station Rd</td>\n",
       "      <td>maplewood</td>\n",
       "      <td>MO</td>\n",
       "    </tr>\n",
       "  </tbody>\n",
       "</table>\n",
       "</div>"
      ],
      "text/plain": [
       "                     name                   address          city state\n",
       "13657     indy 500 parade           Pennsylvania St  indianapolis    IN\n",
       "22860      krewe of thoth             St Charles Ae   new orleans    LA\n",
       "48245  indy burger battle              W Georgia St  indianapolis    IN\n",
       "73732  carvana clearwater                     US-19    clearwater    FL\n",
       "82207     deer creek park  North Laclede Station Rd     maplewood    MO"
      ]
     },
     "execution_count": 70,
     "metadata": {},
     "output_type": "execute_result"
    }
   ],
   "source": [
    "business[pd.notnull(business.address) & business.postal_code.isnull()][['name','address', 'city', 'state']].head()"
   ]
  },
  {
   "cell_type": "code",
   "execution_count": 71,
   "metadata": {},
   "outputs": [],
   "source": [
    "#Replacing all NaN values with 'NOT_AVAILABLE'\n",
    "business.postal_code = business.postal_code.fillna('NOT_AVAILABLE')\n",
    "business.postal_code = business.postal_code.str.lower()\n"
   ]
  },
  {
   "cell_type": "code",
   "execution_count": 73,
   "metadata": {},
   "outputs": [
    {
     "data": {
      "text/plain": [
       "False    106810\n",
       "Name: postal_code, dtype: int64"
      ]
     },
     "execution_count": 73,
     "metadata": {},
     "output_type": "execute_result"
    }
   ],
   "source": [
    "business.postal_code.isnull().value_counts()"
   ]
  },
  {
   "cell_type": "markdown",
   "metadata": {},
   "source": [
    "## Categories attribute"
   ]
  },
  {
   "cell_type": "code",
   "execution_count": 74,
   "metadata": {},
   "outputs": [
    {
     "data": {
      "text/plain": [
       "0    Shipping Centers, Local Services, Notaries, Ma...\n",
       "1    Restaurants, Food, Bubble Tea, Coffee & Tea, B...\n",
       "2                            Brewpubs, Breweries, Food\n",
       "3    Burgers, Fast Food, Sandwiches, Food, Ice Crea...\n",
       "4    Sporting Goods, Fashion, Shoe Stores, Shopping...\n",
       "Name: categories, dtype: object"
      ]
     },
     "execution_count": 74,
     "metadata": {},
     "output_type": "execute_result"
    }
   ],
   "source": [
    "business.categories.head()"
   ]
  },
  {
   "cell_type": "code",
   "execution_count": 76,
   "metadata": {},
   "outputs": [
    {
     "data": {
      "text/html": [
       "<div>\n",
       "<style scoped>\n",
       "    .dataframe tbody tr th:only-of-type {\n",
       "        vertical-align: middle;\n",
       "    }\n",
       "\n",
       "    .dataframe tbody tr th {\n",
       "        vertical-align: top;\n",
       "    }\n",
       "\n",
       "    .dataframe thead th {\n",
       "        text-align: right;\n",
       "    }\n",
       "</style>\n",
       "<table border=\"1\" class=\"dataframe\">\n",
       "  <thead>\n",
       "    <tr style=\"text-align: right;\">\n",
       "      <th></th>\n",
       "      <th>name</th>\n",
       "      <th>city</th>\n",
       "      <th>state</th>\n",
       "    </tr>\n",
       "  </thead>\n",
       "  <tbody>\n",
       "    <tr>\n",
       "      <th>1455</th>\n",
       "      <td>a a berlin glass &amp; mirror co</td>\n",
       "      <td>berlin</td>\n",
       "      <td>NJ</td>\n",
       "    </tr>\n",
       "    <tr>\n",
       "      <th>1699</th>\n",
       "      <td>pauline african hair braiding &amp; weaving</td>\n",
       "      <td>saint ann</td>\n",
       "      <td>MO</td>\n",
       "    </tr>\n",
       "    <tr>\n",
       "      <th>2504</th>\n",
       "      <td>luxury perfume</td>\n",
       "      <td>reno</td>\n",
       "      <td>NV</td>\n",
       "    </tr>\n",
       "    <tr>\n",
       "      <th>2522</th>\n",
       "      <td>certegy payment services</td>\n",
       "      <td>saint petersburg</td>\n",
       "      <td>FL</td>\n",
       "    </tr>\n",
       "    <tr>\n",
       "      <th>3516</th>\n",
       "      <td>green envy</td>\n",
       "      <td>saint charles</td>\n",
       "      <td>MO</td>\n",
       "    </tr>\n",
       "  </tbody>\n",
       "</table>\n",
       "</div>"
      ],
      "text/plain": [
       "                                         name              city state\n",
       "1455             a a berlin glass & mirror co            berlin    NJ\n",
       "1699  pauline african hair braiding & weaving         saint ann    MO\n",
       "2504                           luxury perfume              reno    NV\n",
       "2522                 certegy payment services  saint petersburg    FL\n",
       "3516                               green envy     saint charles    MO"
      ]
     },
     "execution_count": 76,
     "metadata": {},
     "output_type": "execute_result"
    }
   ],
   "source": [
    "business[business.categories.isnull()][['name','city','state']].head()"
   ]
  },
  {
   "cell_type": "code",
   "execution_count": 77,
   "metadata": {},
   "outputs": [],
   "source": [
    "#Data reduction - dropped categories which were null.\n",
    "business = business[pd.notnull(business.categories)]\n",
    "business.categories = business.categories.str.lower()"
   ]
  },
  {
   "cell_type": "code",
   "execution_count": 79,
   "metadata": {},
   "outputs": [
    {
     "data": {
      "text/plain": [
       "False    67673\n",
       "True     39048\n",
       "Name: categories, dtype: int64"
      ]
     },
     "execution_count": 79,
     "metadata": {},
     "output_type": "execute_result"
    }
   ],
   "source": [
    "business.categories.str.contains('restaurant|food').value_counts()"
   ]
  },
  {
   "cell_type": "code",
   "execution_count": 80,
   "metadata": {},
   "outputs": [],
   "source": [
    "#Data reduction - Restricting categories only related to restaurant and food.\n",
    "business = business[business.categories.str.contains('restaurant|food')]"
   ]
  },
  {
   "cell_type": "markdown",
   "metadata": {},
   "source": [
    "## Checking for Latitude and Longitude Attributes"
   ]
  },
  {
   "cell_type": "code",
   "execution_count": 81,
   "metadata": {},
   "outputs": [
    {
     "data": {
      "text/plain": [
       "False    39048\n",
       "Name: latitude, dtype: int64"
      ]
     },
     "execution_count": 81,
     "metadata": {},
     "output_type": "execute_result"
    }
   ],
   "source": [
    "business.latitude.isnull().value_counts()"
   ]
  },
  {
   "cell_type": "code",
   "execution_count": 82,
   "metadata": {},
   "outputs": [
    {
     "data": {
      "text/plain": [
       "False    39048\n",
       "Name: longitude, dtype: int64"
      ]
     },
     "execution_count": 82,
     "metadata": {},
     "output_type": "execute_result"
    }
   ],
   "source": [
    "business.longitude.isnull().value_counts()"
   ]
  },
  {
   "cell_type": "code",
   "execution_count": 83,
   "metadata": {},
   "outputs": [
    {
     "data": {
      "text/plain": [
       "Series([], Name: latitude, dtype: float64)"
      ]
     },
     "execution_count": 83,
     "metadata": {},
     "output_type": "execute_result"
    }
   ],
   "source": [
    "business[business.longitude.isnull()]['latitude']"
   ]
  },
  {
   "cell_type": "code",
   "execution_count": 84,
   "metadata": {},
   "outputs": [
    {
     "data": {
      "text/plain": [
       "Series([], Name: longitude, dtype: float64)"
      ]
     },
     "execution_count": 84,
     "metadata": {},
     "output_type": "execute_result"
    }
   ],
   "source": [
    "business[business.latitude.isnull()]['longitude']"
   ]
  },
  {
   "cell_type": "code",
   "execution_count": 85,
   "metadata": {},
   "outputs": [],
   "source": [
    "business = business[pd.notnull(business.latitude) & pd.notnull(business.longitude)]"
   ]
  },
  {
   "cell_type": "code",
   "execution_count": 86,
   "metadata": {},
   "outputs": [
    {
     "data": {
      "text/html": [
       "<div>\n",
       "<style scoped>\n",
       "    .dataframe tbody tr th:only-of-type {\n",
       "        vertical-align: middle;\n",
       "    }\n",
       "\n",
       "    .dataframe tbody tr th {\n",
       "        vertical-align: top;\n",
       "    }\n",
       "\n",
       "    .dataframe thead th {\n",
       "        text-align: right;\n",
       "    }\n",
       "</style>\n",
       "<table border=\"1\" class=\"dataframe\">\n",
       "  <thead>\n",
       "    <tr style=\"text-align: right;\">\n",
       "      <th></th>\n",
       "      <th>latitude</th>\n",
       "      <th>longitude</th>\n",
       "    </tr>\n",
       "  </thead>\n",
       "  <tbody>\n",
       "    <tr>\n",
       "      <th>count</th>\n",
       "      <td>39048.000000</td>\n",
       "      <td>39048.000000</td>\n",
       "    </tr>\n",
       "    <tr>\n",
       "      <th>mean</th>\n",
       "      <td>36.115335</td>\n",
       "      <td>-87.295052</td>\n",
       "    </tr>\n",
       "    <tr>\n",
       "      <th>std</th>\n",
       "      <td>4.949144</td>\n",
       "      <td>13.440985</td>\n",
       "    </tr>\n",
       "    <tr>\n",
       "      <th>min</th>\n",
       "      <td>27.564457</td>\n",
       "      <td>-120.083748</td>\n",
       "    </tr>\n",
       "    <tr>\n",
       "      <th>25%</th>\n",
       "      <td>30.020253</td>\n",
       "      <td>-90.127570</td>\n",
       "    </tr>\n",
       "    <tr>\n",
       "      <th>50%</th>\n",
       "      <td>38.761787</td>\n",
       "      <td>-82.843728</td>\n",
       "    </tr>\n",
       "    <tr>\n",
       "      <th>75%</th>\n",
       "      <td>39.949119</td>\n",
       "      <td>-75.359180</td>\n",
       "    </tr>\n",
       "    <tr>\n",
       "      <th>max</th>\n",
       "      <td>43.773686</td>\n",
       "      <td>-74.661348</td>\n",
       "    </tr>\n",
       "  </tbody>\n",
       "</table>\n",
       "</div>"
      ],
      "text/plain": [
       "           latitude     longitude\n",
       "count  39048.000000  39048.000000\n",
       "mean      36.115335    -87.295052\n",
       "std        4.949144     13.440985\n",
       "min       27.564457   -120.083748\n",
       "25%       30.020253    -90.127570\n",
       "50%       38.761787    -82.843728\n",
       "75%       39.949119    -75.359180\n",
       "max       43.773686    -74.661348"
      ]
     },
     "execution_count": 86,
     "metadata": {},
     "output_type": "execute_result"
    }
   ],
   "source": [
    "business[['latitude','longitude']].describe()"
   ]
  },
  {
   "cell_type": "code",
   "execution_count": 87,
   "metadata": {},
   "outputs": [],
   "source": [
    "# https://en.wikipedia.org/wiki/List_of_extreme_points_of_the_United_States\n",
    "# Restricting the geolocation data only to USA using lat and long attributes.\n",
    "top = 49.3457868 # top lat\n",
    "bottom =  24.7433195 # bottom lat\n",
    "left = -124.7844079 # left long\n",
    "right = -66.9513812 # right long\n"
   ]
  },
  {
   "cell_type": "code",
   "execution_count": 88,
   "metadata": {},
   "outputs": [
    {
     "data": {
      "text/html": [
       "<div>\n",
       "<style scoped>\n",
       "    .dataframe tbody tr th:only-of-type {\n",
       "        vertical-align: middle;\n",
       "    }\n",
       "\n",
       "    .dataframe tbody tr th {\n",
       "        vertical-align: top;\n",
       "    }\n",
       "\n",
       "    .dataframe thead th {\n",
       "        text-align: right;\n",
       "    }\n",
       "</style>\n",
       "<table border=\"1\" class=\"dataframe\">\n",
       "  <thead>\n",
       "    <tr style=\"text-align: right;\">\n",
       "      <th></th>\n",
       "      <th>name</th>\n",
       "      <th>city</th>\n",
       "      <th>state</th>\n",
       "    </tr>\n",
       "  </thead>\n",
       "  <tbody>\n",
       "  </tbody>\n",
       "</table>\n",
       "</div>"
      ],
      "text/plain": [
       "Empty DataFrame\n",
       "Columns: [name, city, state]\n",
       "Index: []"
      ]
     },
     "execution_count": 88,
     "metadata": {},
     "output_type": "execute_result"
    }
   ],
   "source": [
    "business[(business.latitude > top) | (business.latitude < bottom) | (business.longitude > right) | (business.longitude < left)][['name','city','state']]"
   ]
  },
  {
   "cell_type": "code",
   "execution_count": 89,
   "metadata": {},
   "outputs": [],
   "source": [
    "business = business[(business.latitude <= top) & (business.latitude >= bottom) & (business.longitude<=right) & (business.longitude>=left)]"
   ]
  },
  {
   "cell_type": "markdown",
   "metadata": {},
   "source": [
    "## Checking for Address attribute"
   ]
  },
  {
   "cell_type": "code",
   "execution_count": 90,
   "metadata": {},
   "outputs": [
    {
     "data": {
      "text/plain": [
       "False    38537\n",
       "True       511\n",
       "Name: address, dtype: int64"
      ]
     },
     "execution_count": 90,
     "metadata": {},
     "output_type": "execute_result"
    }
   ],
   "source": [
    "business.address.isnull().value_counts()"
   ]
  },
  {
   "cell_type": "code",
   "execution_count": 91,
   "metadata": {},
   "outputs": [
    {
     "data": {
      "text/html": [
       "<div>\n",
       "<style scoped>\n",
       "    .dataframe tbody tr th:only-of-type {\n",
       "        vertical-align: middle;\n",
       "    }\n",
       "\n",
       "    .dataframe tbody tr th {\n",
       "        vertical-align: top;\n",
       "    }\n",
       "\n",
       "    .dataframe thead th {\n",
       "        text-align: right;\n",
       "    }\n",
       "</style>\n",
       "<table border=\"1\" class=\"dataframe\">\n",
       "  <thead>\n",
       "    <tr style=\"text-align: right;\">\n",
       "      <th></th>\n",
       "      <th>name</th>\n",
       "      <th>address</th>\n",
       "      <th>city</th>\n",
       "      <th>state</th>\n",
       "    </tr>\n",
       "  </thead>\n",
       "  <tbody>\n",
       "    <tr>\n",
       "      <th>65</th>\n",
       "      <td>impasto</td>\n",
       "      <td>NaN</td>\n",
       "      <td>tampa</td>\n",
       "      <td>FL</td>\n",
       "    </tr>\n",
       "    <tr>\n",
       "      <th>196</th>\n",
       "      <td>scout's treat truck</td>\n",
       "      <td>NaN</td>\n",
       "      <td>indianapolis</td>\n",
       "      <td>IN</td>\n",
       "    </tr>\n",
       "    <tr>\n",
       "      <th>223</th>\n",
       "      <td>best tours</td>\n",
       "      <td>NaN</td>\n",
       "      <td>philadelphia</td>\n",
       "      <td>PA</td>\n",
       "    </tr>\n",
       "    <tr>\n",
       "      <th>242</th>\n",
       "      <td>go! gyro! go!</td>\n",
       "      <td>NaN</td>\n",
       "      <td>saint louis</td>\n",
       "      <td>MO</td>\n",
       "    </tr>\n",
       "    <tr>\n",
       "      <th>330</th>\n",
       "      <td>taste of the caribbean</td>\n",
       "      <td>NaN</td>\n",
       "      <td>indianapolis</td>\n",
       "      <td>IN</td>\n",
       "    </tr>\n",
       "  </tbody>\n",
       "</table>\n",
       "</div>"
      ],
      "text/plain": [
       "                       name address          city state\n",
       "65                  impasto     NaN         tampa    FL\n",
       "196     scout's treat truck     NaN  indianapolis    IN\n",
       "223              best tours     NaN  philadelphia    PA\n",
       "242           go! gyro! go!     NaN   saint louis    MO\n",
       "330  taste of the caribbean     NaN  indianapolis    IN"
      ]
     },
     "execution_count": 91,
     "metadata": {},
     "output_type": "execute_result"
    }
   ],
   "source": [
    "business[business.address.isnull()][['name','address','city','state']].head()"
   ]
  },
  {
   "cell_type": "code",
   "execution_count": 92,
   "metadata": {},
   "outputs": [],
   "source": [
    "# The above head() shows that there are address with NaN values. The conclusion drawn is that these are food trucks and stuff. \n",
    "# So, marking the address for these as 'Not_Available'\n",
    "business.address = business.address.fillna('NOT_AVAILABLE')"
   ]
  },
  {
   "cell_type": "code",
   "execution_count": 94,
   "metadata": {},
   "outputs": [
    {
     "data": {
      "text/plain": [
       "False    39048\n",
       "Name: address, dtype: int64"
      ]
     },
     "execution_count": 94,
     "metadata": {},
     "output_type": "execute_result"
    }
   ],
   "source": [
    "business.address = business.address.str.lower()\n",
    "business.address.isnull().value_counts()"
   ]
  },
  {
   "cell_type": "code",
   "execution_count": 96,
   "metadata": {},
   "outputs": [
    {
     "data": {
      "text/html": [
       "<div>\n",
       "<style scoped>\n",
       "    .dataframe tbody tr th:only-of-type {\n",
       "        vertical-align: middle;\n",
       "    }\n",
       "\n",
       "    .dataframe tbody tr th {\n",
       "        vertical-align: top;\n",
       "    }\n",
       "\n",
       "    .dataframe thead th {\n",
       "        text-align: right;\n",
       "    }\n",
       "</style>\n",
       "<table border=\"1\" class=\"dataframe\">\n",
       "  <thead>\n",
       "    <tr style=\"text-align: right;\">\n",
       "      <th></th>\n",
       "      <th>text</th>\n",
       "      <th>date</th>\n",
       "      <th>business_id</th>\n",
       "      <th>user_id</th>\n",
       "      <th>compliment_count</th>\n",
       "    </tr>\n",
       "  </thead>\n",
       "  <tbody>\n",
       "    <tr>\n",
       "      <th>0</th>\n",
       "      <td>Avengers time with the ladies.</td>\n",
       "      <td>2012-05-18 02:17:21</td>\n",
       "      <td>3uLgwr0qeCNMjKenHJwPGQ</td>\n",
       "      <td>AGNUgVwnZUey3gcPCJ76iw</td>\n",
       "      <td>0</td>\n",
       "    </tr>\n",
       "    <tr>\n",
       "      <th>1</th>\n",
       "      <td>They have lots of good deserts and tasty cuban...</td>\n",
       "      <td>2013-02-05 18:35:10</td>\n",
       "      <td>QoezRbYQncpRqyrLH6Iqjg</td>\n",
       "      <td>NBN4MgHP9D3cw--SnauTkA</td>\n",
       "      <td>0</td>\n",
       "    </tr>\n",
       "    <tr>\n",
       "      <th>2</th>\n",
       "      <td>It's open even when you think it isn't</td>\n",
       "      <td>2013-08-18 00:56:08</td>\n",
       "      <td>MYoRNLb5chwjQe3c_k37Gg</td>\n",
       "      <td>-copOvldyKh1qr-vzkDEvw</td>\n",
       "      <td>0</td>\n",
       "    </tr>\n",
       "    <tr>\n",
       "      <th>3</th>\n",
       "      <td>Very decent fried chicken</td>\n",
       "      <td>2017-06-27 23:05:38</td>\n",
       "      <td>hV-bABTK-glh5wj31ps_Jw</td>\n",
       "      <td>FjMQVZjSqY8syIO-53KFKw</td>\n",
       "      <td>0</td>\n",
       "    </tr>\n",
       "    <tr>\n",
       "      <th>4</th>\n",
       "      <td>Appetizers.. platter special for lunch</td>\n",
       "      <td>2012-10-06 19:43:09</td>\n",
       "      <td>_uN0OudeJ3Zl_tf6nxg5ww</td>\n",
       "      <td>ld0AperBXk1h6UbqmM80zw</td>\n",
       "      <td>0</td>\n",
       "    </tr>\n",
       "  </tbody>\n",
       "</table>\n",
       "</div>"
      ],
      "text/plain": [
       "                                                text                 date  \\\n",
       "0                     Avengers time with the ladies.  2012-05-18 02:17:21   \n",
       "1  They have lots of good deserts and tasty cuban...  2013-02-05 18:35:10   \n",
       "2             It's open even when you think it isn't  2013-08-18 00:56:08   \n",
       "3                          Very decent fried chicken  2017-06-27 23:05:38   \n",
       "4             Appetizers.. platter special for lunch  2012-10-06 19:43:09   \n",
       "\n",
       "              business_id                 user_id  compliment_count  \n",
       "0  3uLgwr0qeCNMjKenHJwPGQ  AGNUgVwnZUey3gcPCJ76iw                 0  \n",
       "1  QoezRbYQncpRqyrLH6Iqjg  NBN4MgHP9D3cw--SnauTkA                 0  \n",
       "2  MYoRNLb5chwjQe3c_k37Gg  -copOvldyKh1qr-vzkDEvw                 0  \n",
       "3  hV-bABTK-glh5wj31ps_Jw  FjMQVZjSqY8syIO-53KFKw                 0  \n",
       "4  _uN0OudeJ3Zl_tf6nxg5ww  ld0AperBXk1h6UbqmM80zw                 0  "
      ]
     },
     "execution_count": 96,
     "metadata": {},
     "output_type": "execute_result"
    }
   ],
   "source": [
    "# reading and fetching all users who gave tips for the restaurants.\n",
    "tip = pd.read_csv('yelp_dataset_data/yelp_academic_dataset_tip.csv')\n",
    "tip.head()"
   ]
  },
  {
   "cell_type": "code",
   "execution_count": 97,
   "metadata": {},
   "outputs": [],
   "source": [
    "business = business.merge(tip[['business_id','user_id']], left_on='business_id', right_on='business_id', how='left')\n",
    "\n",
    "business = business.merge(business.groupby('business_id').apply(lambda x: x['user_id'].unique()).reset_index(), \n",
    "               left_on='business_id', right_on='business_id', how='left')\n",
    "\n",
    "business = business.drop_duplicates(subset='business_id')\n",
    "\n",
    "business['users'] = business[0]\n",
    "\n",
    "business = business.drop(['user_id',0], axis=1)"
   ]
  },
  {
   "cell_type": "code",
   "execution_count": 103,
   "metadata": {},
   "outputs": [
    {
     "data": {
      "text/html": [
       "<div>\n",
       "<style scoped>\n",
       "    .dataframe tbody tr th:only-of-type {\n",
       "        vertical-align: middle;\n",
       "    }\n",
       "\n",
       "    .dataframe tbody tr th {\n",
       "        vertical-align: top;\n",
       "    }\n",
       "\n",
       "    .dataframe thead th {\n",
       "        text-align: right;\n",
       "    }\n",
       "</style>\n",
       "<table border=\"1\" class=\"dataframe\">\n",
       "  <thead>\n",
       "    <tr style=\"text-align: right;\">\n",
       "      <th></th>\n",
       "      <th>text</th>\n",
       "      <th>business_id</th>\n",
       "      <th>user_id</th>\n",
       "      <th>review_id</th>\n",
       "      <th>date</th>\n",
       "      <th>useful</th>\n",
       "      <th>stars</th>\n",
       "      <th>cool</th>\n",
       "      <th>funny</th>\n",
       "    </tr>\n",
       "  </thead>\n",
       "  <tbody>\n",
       "    <tr>\n",
       "      <th>0</th>\n",
       "      <td>If you decide to eat here, just be aware it is...</td>\n",
       "      <td>XQfwVwDr-v0ZS3_CbbE5Xw</td>\n",
       "      <td>mh_-eMZ6K5RLWhZyISBhwA</td>\n",
       "      <td>KU_O5udG6zpxOg-VcAEodg</td>\n",
       "      <td>2018-07-07 22:09:11</td>\n",
       "      <td>0</td>\n",
       "      <td>3.0</td>\n",
       "      <td>0</td>\n",
       "      <td>0</td>\n",
       "    </tr>\n",
       "    <tr>\n",
       "      <th>1</th>\n",
       "      <td>I've taken a lot of spin classes over the year...</td>\n",
       "      <td>7ATYjTIgM3jUlt4UM3IypQ</td>\n",
       "      <td>OyoGAe7OKpv6SyGZT5g77Q</td>\n",
       "      <td>BiTunyQ73aT9WBnpR9DZGw</td>\n",
       "      <td>2012-01-03 15:28:18</td>\n",
       "      <td>1</td>\n",
       "      <td>5.0</td>\n",
       "      <td>1</td>\n",
       "      <td>0</td>\n",
       "    </tr>\n",
       "    <tr>\n",
       "      <th>2</th>\n",
       "      <td>Family diner. Had the buffet. Eclectic assortm...</td>\n",
       "      <td>YjUWPpI6HXG530lwP-fb2A</td>\n",
       "      <td>8g_iMtfSiwikVnbP2etR0A</td>\n",
       "      <td>saUsX_uimxRlCVr67Z4Jig</td>\n",
       "      <td>2014-02-05 20:30:30</td>\n",
       "      <td>0</td>\n",
       "      <td>3.0</td>\n",
       "      <td>0</td>\n",
       "      <td>0</td>\n",
       "    </tr>\n",
       "    <tr>\n",
       "      <th>3</th>\n",
       "      <td>Wow!  Yummy, different,  delicious.   Our favo...</td>\n",
       "      <td>kxX2SOes4o-D3ZQBkiMRfA</td>\n",
       "      <td>_7bHUi9Uuf5__HHc_Q8guQ</td>\n",
       "      <td>AqPFMleE6RsU23_auESxiA</td>\n",
       "      <td>2015-01-04 00:01:03</td>\n",
       "      <td>1</td>\n",
       "      <td>5.0</td>\n",
       "      <td>1</td>\n",
       "      <td>0</td>\n",
       "    </tr>\n",
       "    <tr>\n",
       "      <th>4</th>\n",
       "      <td>Cute interior and owner (?) gave us tour of up...</td>\n",
       "      <td>e4Vwtrqf-wpJfwesgvdgxQ</td>\n",
       "      <td>bcjbaE6dDog4jkNY91ncLQ</td>\n",
       "      <td>Sx8TMOWLNuJBWer-0pcmoA</td>\n",
       "      <td>2017-01-14 20:54:15</td>\n",
       "      <td>1</td>\n",
       "      <td>4.0</td>\n",
       "      <td>1</td>\n",
       "      <td>0</td>\n",
       "    </tr>\n",
       "  </tbody>\n",
       "</table>\n",
       "</div>"
      ],
      "text/plain": [
       "                                                text             business_id  \\\n",
       "0  If you decide to eat here, just be aware it is...  XQfwVwDr-v0ZS3_CbbE5Xw   \n",
       "1  I've taken a lot of spin classes over the year...  7ATYjTIgM3jUlt4UM3IypQ   \n",
       "2  Family diner. Had the buffet. Eclectic assortm...  YjUWPpI6HXG530lwP-fb2A   \n",
       "3  Wow!  Yummy, different,  delicious.   Our favo...  kxX2SOes4o-D3ZQBkiMRfA   \n",
       "4  Cute interior and owner (?) gave us tour of up...  e4Vwtrqf-wpJfwesgvdgxQ   \n",
       "\n",
       "                  user_id               review_id                 date  \\\n",
       "0  mh_-eMZ6K5RLWhZyISBhwA  KU_O5udG6zpxOg-VcAEodg  2018-07-07 22:09:11   \n",
       "1  OyoGAe7OKpv6SyGZT5g77Q  BiTunyQ73aT9WBnpR9DZGw  2012-01-03 15:28:18   \n",
       "2  8g_iMtfSiwikVnbP2etR0A  saUsX_uimxRlCVr67Z4Jig  2014-02-05 20:30:30   \n",
       "3  _7bHUi9Uuf5__HHc_Q8guQ  AqPFMleE6RsU23_auESxiA  2015-01-04 00:01:03   \n",
       "4  bcjbaE6dDog4jkNY91ncLQ  Sx8TMOWLNuJBWer-0pcmoA  2017-01-14 20:54:15   \n",
       "\n",
       "   useful  stars  cool  funny  \n",
       "0       0    3.0     0      0  \n",
       "1       1    5.0     1      0  \n",
       "2       0    3.0     0      0  \n",
       "3       1    5.0     1      0  \n",
       "4       1    4.0     1      0  "
      ]
     },
     "execution_count": 103,
     "metadata": {},
     "output_type": "execute_result"
    }
   ],
   "source": [
    "#reading and fetching all users who posted reviews to the restaurants.\n",
    "review = pd.read_csv('yelp_dataset_data/yelp_academic_dataset_review.csv')\n",
    "review.head()"
   ]
  },
  {
   "cell_type": "code",
   "execution_count": 104,
   "metadata": {},
   "outputs": [],
   "source": [
    "business = business.merge(review[['business_id','user_id']], left_on='business_id', right_on='business_id', how='left')\n",
    "\n",
    "business = business.merge(business.groupby('business_id').apply(lambda x: x['user_id'].unique()).reset_index(), \n",
    "               left_on='business_id', right_on='business_id', how='left')\n",
    "\n",
    "business = business.drop_duplicates(subset='business_id')\n",
    "\n",
    "business['users2'] = business[0]\n",
    "\n",
    "business = business.drop(['user_id',0], axis=1)\n",
    "\n",
    "business = business.reset_index(drop=True)"
   ]
  },
  {
   "cell_type": "code",
   "execution_count": 110,
   "metadata": {},
   "outputs": [],
   "source": [
    "def mergeUsers(x):\n",
    "    a = x['users']\n",
    "    b = x['users2']\n",
    "    return list(set(a) | set(b))\n",
    "\n",
    "\n",
    "business.users = business.apply(mergeUsers, axis=1)\n",
    "business = business.drop(['users2'], axis=1)"
   ]
  },
  {
   "cell_type": "code",
   "execution_count": 114,
   "metadata": {},
   "outputs": [
    {
     "data": {
      "text/html": [
       "<div>\n",
       "<style scoped>\n",
       "    .dataframe tbody tr th:only-of-type {\n",
       "        vertical-align: middle;\n",
       "    }\n",
       "\n",
       "    .dataframe tbody tr th {\n",
       "        vertical-align: top;\n",
       "    }\n",
       "\n",
       "    .dataframe thead th {\n",
       "        text-align: right;\n",
       "    }\n",
       "</style>\n",
       "<table border=\"1\" class=\"dataframe\">\n",
       "  <thead>\n",
       "    <tr style=\"text-align: right;\">\n",
       "      <th></th>\n",
       "      <th>compliment_photos</th>\n",
       "      <th>useful</th>\n",
       "      <th>friends</th>\n",
       "      <th>funny</th>\n",
       "      <th>compliment_more</th>\n",
       "      <th>compliment_cool</th>\n",
       "      <th>yelping_since</th>\n",
       "      <th>elite</th>\n",
       "      <th>compliment_plain</th>\n",
       "      <th>cool</th>\n",
       "      <th>...</th>\n",
       "      <th>average_stars</th>\n",
       "      <th>compliment_note</th>\n",
       "      <th>review_count</th>\n",
       "      <th>compliment_cute</th>\n",
       "      <th>compliment_hot</th>\n",
       "      <th>compliment_list</th>\n",
       "      <th>user_id</th>\n",
       "      <th>compliment_funny</th>\n",
       "      <th>fans</th>\n",
       "      <th>compliment_profile</th>\n",
       "    </tr>\n",
       "  </thead>\n",
       "  <tbody>\n",
       "    <tr>\n",
       "      <th>0</th>\n",
       "      <td>180</td>\n",
       "      <td>7217</td>\n",
       "      <td>NSCy54eWehBJyZdG2iE84w, pe42u7DcCH2QmI81NX-8qA...</td>\n",
       "      <td>1259</td>\n",
       "      <td>65</td>\n",
       "      <td>467</td>\n",
       "      <td>2007-01-25 16:47:26</td>\n",
       "      <td>2007</td>\n",
       "      <td>844</td>\n",
       "      <td>5994</td>\n",
       "      <td>...</td>\n",
       "      <td>3.91</td>\n",
       "      <td>232</td>\n",
       "      <td>585</td>\n",
       "      <td>56</td>\n",
       "      <td>250</td>\n",
       "      <td>18</td>\n",
       "      <td>qVc8ODYU5SZjKXVBgXdI7w</td>\n",
       "      <td>467</td>\n",
       "      <td>267</td>\n",
       "      <td>55</td>\n",
       "    </tr>\n",
       "    <tr>\n",
       "      <th>1</th>\n",
       "      <td>1946</td>\n",
       "      <td>43091</td>\n",
       "      <td>ueRPE0CX75ePGMqOFVj6IQ, 52oH4DrRvzzl8wh5UXyU0A...</td>\n",
       "      <td>13066</td>\n",
       "      <td>264</td>\n",
       "      <td>3131</td>\n",
       "      <td>2009-01-25 04:35:42</td>\n",
       "      <td>2009,2010,2011,2012,2013,2014,2015,2016,2017,2...</td>\n",
       "      <td>7054</td>\n",
       "      <td>27281</td>\n",
       "      <td>...</td>\n",
       "      <td>3.74</td>\n",
       "      <td>1847</td>\n",
       "      <td>4333</td>\n",
       "      <td>157</td>\n",
       "      <td>1145</td>\n",
       "      <td>251</td>\n",
       "      <td>j14WgRoU_-2ZE1aw1dXrJg</td>\n",
       "      <td>3131</td>\n",
       "      <td>3138</td>\n",
       "      <td>184</td>\n",
       "    </tr>\n",
       "    <tr>\n",
       "      <th>2</th>\n",
       "      <td>18</td>\n",
       "      <td>2086</td>\n",
       "      <td>LuO3Bn4f3rlhyHIaNfTlnA, j9B4XdHUhDfTKVecyWQgyA...</td>\n",
       "      <td>1010</td>\n",
       "      <td>13</td>\n",
       "      <td>119</td>\n",
       "      <td>2008-07-25 10:41:00</td>\n",
       "      <td>2009,2010,2011,2012,2013</td>\n",
       "      <td>96</td>\n",
       "      <td>1003</td>\n",
       "      <td>...</td>\n",
       "      <td>3.32</td>\n",
       "      <td>66</td>\n",
       "      <td>665</td>\n",
       "      <td>17</td>\n",
       "      <td>89</td>\n",
       "      <td>3</td>\n",
       "      <td>2WnXYQFK0hXEoTxPtV2zvg</td>\n",
       "      <td>119</td>\n",
       "      <td>52</td>\n",
       "      <td>10</td>\n",
       "    </tr>\n",
       "    <tr>\n",
       "      <th>3</th>\n",
       "      <td>9</td>\n",
       "      <td>512</td>\n",
       "      <td>enx1vVPnfdNUdPho6PH_wg, 4wOcvMLtU6a9Lslggq74Vg...</td>\n",
       "      <td>330</td>\n",
       "      <td>4</td>\n",
       "      <td>26</td>\n",
       "      <td>2005-11-29 04:38:33</td>\n",
       "      <td>2009,2010,2011</td>\n",
       "      <td>16</td>\n",
       "      <td>299</td>\n",
       "      <td>...</td>\n",
       "      <td>4.27</td>\n",
       "      <td>12</td>\n",
       "      <td>224</td>\n",
       "      <td>6</td>\n",
       "      <td>24</td>\n",
       "      <td>2</td>\n",
       "      <td>SZDeASXq7o05mMNLshsdIA</td>\n",
       "      <td>26</td>\n",
       "      <td>28</td>\n",
       "      <td>1</td>\n",
       "    </tr>\n",
       "    <tr>\n",
       "      <th>4</th>\n",
       "      <td>0</td>\n",
       "      <td>29</td>\n",
       "      <td>PBK4q9KEEBHhFvSXCUirIw, 3FWPpM7KU1gXeOM_ZbYMbA...</td>\n",
       "      <td>15</td>\n",
       "      <td>1</td>\n",
       "      <td>0</td>\n",
       "      <td>2007-01-05 19:40:59</td>\n",
       "      <td>NaN</td>\n",
       "      <td>1</td>\n",
       "      <td>7</td>\n",
       "      <td>...</td>\n",
       "      <td>3.54</td>\n",
       "      <td>1</td>\n",
       "      <td>79</td>\n",
       "      <td>0</td>\n",
       "      <td>1</td>\n",
       "      <td>0</td>\n",
       "      <td>hA5lMy-EnncsH4JoR-hFGQ</td>\n",
       "      <td>0</td>\n",
       "      <td>1</td>\n",
       "      <td>0</td>\n",
       "    </tr>\n",
       "  </tbody>\n",
       "</table>\n",
       "<p>5 rows × 22 columns</p>\n",
       "</div>"
      ],
      "text/plain": [
       "   compliment_photos  useful  \\\n",
       "0                180    7217   \n",
       "1               1946   43091   \n",
       "2                 18    2086   \n",
       "3                  9     512   \n",
       "4                  0      29   \n",
       "\n",
       "                                             friends  funny  compliment_more  \\\n",
       "0  NSCy54eWehBJyZdG2iE84w, pe42u7DcCH2QmI81NX-8qA...   1259               65   \n",
       "1  ueRPE0CX75ePGMqOFVj6IQ, 52oH4DrRvzzl8wh5UXyU0A...  13066              264   \n",
       "2  LuO3Bn4f3rlhyHIaNfTlnA, j9B4XdHUhDfTKVecyWQgyA...   1010               13   \n",
       "3  enx1vVPnfdNUdPho6PH_wg, 4wOcvMLtU6a9Lslggq74Vg...    330                4   \n",
       "4  PBK4q9KEEBHhFvSXCUirIw, 3FWPpM7KU1gXeOM_ZbYMbA...     15                1   \n",
       "\n",
       "   compliment_cool        yelping_since  \\\n",
       "0              467  2007-01-25 16:47:26   \n",
       "1             3131  2009-01-25 04:35:42   \n",
       "2              119  2008-07-25 10:41:00   \n",
       "3               26  2005-11-29 04:38:33   \n",
       "4                0  2007-01-05 19:40:59   \n",
       "\n",
       "                                               elite  compliment_plain   cool  \\\n",
       "0                                               2007               844   5994   \n",
       "1  2009,2010,2011,2012,2013,2014,2015,2016,2017,2...              7054  27281   \n",
       "2                           2009,2010,2011,2012,2013                96   1003   \n",
       "3                                     2009,2010,2011                16    299   \n",
       "4                                                NaN                 1      7   \n",
       "\n",
       "   ...  average_stars compliment_note  review_count  compliment_cute  \\\n",
       "0  ...           3.91             232           585               56   \n",
       "1  ...           3.74            1847          4333              157   \n",
       "2  ...           3.32              66           665               17   \n",
       "3  ...           4.27              12           224                6   \n",
       "4  ...           3.54               1            79                0   \n",
       "\n",
       "   compliment_hot  compliment_list                 user_id  compliment_funny  \\\n",
       "0             250               18  qVc8ODYU5SZjKXVBgXdI7w               467   \n",
       "1            1145              251  j14WgRoU_-2ZE1aw1dXrJg              3131   \n",
       "2              89                3  2WnXYQFK0hXEoTxPtV2zvg               119   \n",
       "3              24                2  SZDeASXq7o05mMNLshsdIA                26   \n",
       "4               1                0  hA5lMy-EnncsH4JoR-hFGQ                 0   \n",
       "\n",
       "   fans  compliment_profile  \n",
       "0   267                  55  \n",
       "1  3138                 184  \n",
       "2    52                  10  \n",
       "3    28                   1  \n",
       "4     1                   0  \n",
       "\n",
       "[5 rows x 22 columns]"
      ]
     },
     "execution_count": 114,
     "metadata": {},
     "output_type": "execute_result"
    }
   ],
   "source": [
    "#reading and fetching users dataset\n",
    "users = pd.read_csv('yelp_dataset_data/yelp_academic_dataset_user.csv')\n",
    "users.head()"
   ]
  },
  {
   "cell_type": "code",
   "execution_count": 117,
   "metadata": {},
   "outputs": [
    {
     "data": {
      "text/plain": [
       "Index(['compliment_photos', 'useful', 'friends', 'funny', 'compliment_more',\n",
       "       'compliment_cool', 'yelping_since', 'elite', 'compliment_plain', 'cool',\n",
       "       'compliment_writer', 'name', 'average_stars', 'compliment_note',\n",
       "       'review_count', 'compliment_cute', 'compliment_hot', 'compliment_list',\n",
       "       'user_id', 'compliment_funny', 'fans', 'compliment_profile',\n",
       "       'months_since_yelping'],\n",
       "      dtype='object')"
      ]
     },
     "execution_count": 117,
     "metadata": {},
     "output_type": "execute_result"
    }
   ],
   "source": [
    "\n",
    "users.yelping_since = users.yelping_since.astype(np.datetime64)\n",
    "users['months_since_yelping'] = ((pd.to_datetime('today') - users.yelping_since)/np.timedelta64(1, 'M'))\n",
    "users.columns"
   ]
  },
  {
   "cell_type": "code",
   "execution_count": 118,
   "metadata": {},
   "outputs": [],
   "source": [
    "users['total_compliments'] = users[users.columns[users.columns.to_series().str.contains('compliment')]].sum(axis=1)"
   ]
  },
  {
   "cell_type": "code",
   "execution_count": 119,
   "metadata": {},
   "outputs": [],
   "source": [
    "def get_user_stats(x):\n",
    "    data = users[users.user_id.isin(x['users'])]\n",
    "    result = x[['business_id']]\n",
    "    result['mean_user_review_counts'] = data.review_count.mean()\n",
    "    result['mean_months_since_yelping'] = data.months_since_yelping.mean()\n",
    "    result['mean_user_fans'] = data.fans.mean()\n",
    "    result['mean_total_compliments'] = data.total_compliments.mean()\n",
    "    return result\n",
    "\n",
    "\n",
    "business = business.merge(business.apply(get_user_stats, axis=1), left_on='business_id', right_on='business_id', how='left')"
   ]
  },
  {
   "cell_type": "markdown",
   "metadata": {},
   "source": [
    "# Storing the reduced and cleaned data to new files."
   ]
  },
  {
   "cell_type": "code",
   "execution_count": null,
   "metadata": {},
   "outputs": [],
   "source": [
    "cleaned_cols = ['stars', 'business_id', 'name', \n",
    "               'city', 'state', 'postal_code', 'latitude', 'longitude',\n",
    "               'categories', 'review_count', 'mean_user_review_counts', \n",
    "                'mean_months_since_yelping', 'mean_user_fans', 'mean_total_compliments']"
   ]
  },
  {
   "cell_type": "code",
   "execution_count": null,
   "metadata": {},
   "outputs": [],
   "source": [
    "business[cleaned_cols].head()"
   ]
  },
  {
   "cell_type": "code",
   "execution_count": null,
   "metadata": {},
   "outputs": [],
   "source": [
    "business[cleaned_cols].to_csv('1_business_cleaned.csv', index=False)"
   ]
  },
  {
   "cell_type": "code",
   "execution_count": null,
   "metadata": {},
   "outputs": [],
   "source": [
    "business.to_csv('1_business_cleaned_raw.csv', index=False)"
   ]
  }
 ],
 "metadata": {
  "kernelspec": {
   "display_name": "Python 3 (ipykernel)",
   "language": "python",
   "name": "python3"
  },
  "language_info": {
   "codemirror_mode": {
    "name": "ipython",
    "version": 3
   },
   "file_extension": ".py",
   "mimetype": "text/x-python",
   "name": "python",
   "nbconvert_exporter": "python",
   "pygments_lexer": "ipython3",
   "version": "3.10.6"
  },
  "toc-autonumbering": false,
  "toc-showcode": false,
  "toc-showmarkdowntxt": false,
  "toc-showtags": true
 },
 "nbformat": 4,
 "nbformat_minor": 2
}
